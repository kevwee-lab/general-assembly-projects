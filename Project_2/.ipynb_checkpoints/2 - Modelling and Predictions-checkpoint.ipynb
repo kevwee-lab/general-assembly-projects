{
 "cells": [
  {
   "cell_type": "markdown",
   "metadata": {},
   "source": [
    "## AMES Housing Project \n",
    "<hr/>"
   ]
  },
  {
   "cell_type": "markdown",
   "metadata": {},
   "source": [
    "### 2 - Modelling and Predictions"
   ]
  },
  {
   "cell_type": "markdown",
   "metadata": {},
   "source": [
    "### Content:\n",
    "* [Tuning hyperparameters and getting optimal alphas](#alpha)\n",
    "* [Model Scores - Train](#mstrain)\n",
    "* [Model Scores - Test](#mstest)\n",
    "* [Model Evaluation](#meval)\n",
    "* [Feature Selection using Lasso](#non0)\n",
    "* [Building Production Model - Submission to Kaggle](#kaggle)\n",
    "* [Conclusion and Recommendations](#conc)"
   ]
  },
  {
   "cell_type": "code",
   "execution_count": 1,
   "metadata": {},
   "outputs": [],
   "source": [
    "import numpy as np\n",
    "import pandas as pd\n",
    "import scipy.stats as stats\n",
    "import seaborn as sns\n",
    "import matplotlib.pyplot as plt\n",
    "\n",
    "from sklearn.linear_model import LinearRegression, Ridge, RidgeCV, Lasso, LassoCV\n",
    "from sklearn import metrics\n",
    "from sklearn.model_selection import train_test_split, cross_val_score\n",
    "from sklearn.preprocessing import StandardScaler, OneHotEncoder"
   ]
  },
  {
   "cell_type": "code",
   "execution_count": 2,
   "metadata": {},
   "outputs": [],
   "source": [
    "# import data\n",
    "\n",
    "train_df = pd.read_csv('datasets/train_final.csv', keep_default_na=False)"
   ]
  },
  {
   "cell_type": "code",
   "execution_count": 3,
   "metadata": {
    "scrolled": true
   },
   "outputs": [
    {
     "data": {
      "text/html": [
       "<div>\n",
       "<style scoped>\n",
       "    .dataframe tbody tr th:only-of-type {\n",
       "        vertical-align: middle;\n",
       "    }\n",
       "\n",
       "    .dataframe tbody tr th {\n",
       "        vertical-align: top;\n",
       "    }\n",
       "\n",
       "    .dataframe thead th {\n",
       "        text-align: right;\n",
       "    }\n",
       "</style>\n",
       "<table border=\"1\" class=\"dataframe\">\n",
       "  <thead>\n",
       "    <tr style=\"text-align: right;\">\n",
       "      <th></th>\n",
       "      <th>Unnamed: 0</th>\n",
       "      <th>id</th>\n",
       "      <th>mssubclass</th>\n",
       "      <th>lotconfig</th>\n",
       "      <th>neighborhood</th>\n",
       "      <th>bldgtype</th>\n",
       "      <th>housestyle</th>\n",
       "      <th>yearbuilt</th>\n",
       "      <th>yearremod/add</th>\n",
       "      <th>roofstyle</th>\n",
       "      <th>...</th>\n",
       "      <th>fullbath</th>\n",
       "      <th>totrmsabvgrd</th>\n",
       "      <th>garagefinish</th>\n",
       "      <th>garagecars</th>\n",
       "      <th>saletype</th>\n",
       "      <th>saleprice</th>\n",
       "      <th>agesold</th>\n",
       "      <th>total_sqft</th>\n",
       "      <th>totalqual</th>\n",
       "      <th>combined_exterior</th>\n",
       "    </tr>\n",
       "  </thead>\n",
       "  <tbody>\n",
       "    <tr>\n",
       "      <th>0</th>\n",
       "      <td>0</td>\n",
       "      <td>109</td>\n",
       "      <td>60</td>\n",
       "      <td>CulDSac</td>\n",
       "      <td>Sawyer</td>\n",
       "      <td>1Fam</td>\n",
       "      <td>2Story</td>\n",
       "      <td>1976</td>\n",
       "      <td>2005</td>\n",
       "      <td>Gable</td>\n",
       "      <td>...</td>\n",
       "      <td>2</td>\n",
       "      <td>6</td>\n",
       "      <td>2.0</td>\n",
       "      <td>2.0</td>\n",
       "      <td>WD</td>\n",
       "      <td>130500</td>\n",
       "      <td>34</td>\n",
       "      <td>2679.0</td>\n",
       "      <td>17.0</td>\n",
       "      <td>HdBoardPlywood</td>\n",
       "    </tr>\n",
       "    <tr>\n",
       "      <th>1</th>\n",
       "      <td>1</td>\n",
       "      <td>544</td>\n",
       "      <td>60</td>\n",
       "      <td>CulDSac</td>\n",
       "      <td>SawyerW</td>\n",
       "      <td>1Fam</td>\n",
       "      <td>2Story</td>\n",
       "      <td>1996</td>\n",
       "      <td>1997</td>\n",
       "      <td>Gable</td>\n",
       "      <td>...</td>\n",
       "      <td>2</td>\n",
       "      <td>8</td>\n",
       "      <td>2.0</td>\n",
       "      <td>2.0</td>\n",
       "      <td>WD</td>\n",
       "      <td>220000</td>\n",
       "      <td>13</td>\n",
       "      <td>3594.0</td>\n",
       "      <td>19.0</td>\n",
       "      <td>VinylSdVinylSd</td>\n",
       "    </tr>\n",
       "    <tr>\n",
       "      <th>2</th>\n",
       "      <td>2</td>\n",
       "      <td>153</td>\n",
       "      <td>20</td>\n",
       "      <td>Inside</td>\n",
       "      <td>NAmes</td>\n",
       "      <td>1Fam</td>\n",
       "      <td>1Story</td>\n",
       "      <td>1953</td>\n",
       "      <td>2007</td>\n",
       "      <td>Gable</td>\n",
       "      <td>...</td>\n",
       "      <td>1</td>\n",
       "      <td>5</td>\n",
       "      <td>1.0</td>\n",
       "      <td>1.0</td>\n",
       "      <td>WD</td>\n",
       "      <td>109000</td>\n",
       "      <td>57</td>\n",
       "      <td>2360.0</td>\n",
       "      <td>15.0</td>\n",
       "      <td>VinylSdVinylSd</td>\n",
       "    </tr>\n",
       "    <tr>\n",
       "      <th>3</th>\n",
       "      <td>3</td>\n",
       "      <td>318</td>\n",
       "      <td>60</td>\n",
       "      <td>Inside</td>\n",
       "      <td>Timber</td>\n",
       "      <td>1Fam</td>\n",
       "      <td>2Story</td>\n",
       "      <td>2006</td>\n",
       "      <td>2007</td>\n",
       "      <td>Gable</td>\n",
       "      <td>...</td>\n",
       "      <td>2</td>\n",
       "      <td>7</td>\n",
       "      <td>3.0</td>\n",
       "      <td>2.0</td>\n",
       "      <td>WD</td>\n",
       "      <td>174000</td>\n",
       "      <td>4</td>\n",
       "      <td>2228.0</td>\n",
       "      <td>15.0</td>\n",
       "      <td>VinylSdVinylSd</td>\n",
       "    </tr>\n",
       "    <tr>\n",
       "      <th>4</th>\n",
       "      <td>4</td>\n",
       "      <td>255</td>\n",
       "      <td>50</td>\n",
       "      <td>Inside</td>\n",
       "      <td>SawyerW</td>\n",
       "      <td>1Fam</td>\n",
       "      <td>1.5Fin</td>\n",
       "      <td>1900</td>\n",
       "      <td>1993</td>\n",
       "      <td>Gable</td>\n",
       "      <td>...</td>\n",
       "      <td>2</td>\n",
       "      <td>6</td>\n",
       "      <td>1.0</td>\n",
       "      <td>2.0</td>\n",
       "      <td>WD</td>\n",
       "      <td>138500</td>\n",
       "      <td>110</td>\n",
       "      <td>2605.0</td>\n",
       "      <td>14.0</td>\n",
       "      <td>Wd SdngPlywood</td>\n",
       "    </tr>\n",
       "  </tbody>\n",
       "</table>\n",
       "<p>5 rows × 26 columns</p>\n",
       "</div>"
      ],
      "text/plain": [
       "   Unnamed: 0   id  mssubclass lotconfig neighborhood bldgtype housestyle  \\\n",
       "0           0  109          60   CulDSac       Sawyer     1Fam     2Story   \n",
       "1           1  544          60   CulDSac      SawyerW     1Fam     2Story   \n",
       "2           2  153          20    Inside        NAmes     1Fam     1Story   \n",
       "3           3  318          60    Inside       Timber     1Fam     2Story   \n",
       "4           4  255          50    Inside      SawyerW     1Fam     1.5Fin   \n",
       "\n",
       "   yearbuilt  yearremod/add roofstyle  ... fullbath totrmsabvgrd  \\\n",
       "0       1976           2005     Gable  ...        2            6   \n",
       "1       1996           1997     Gable  ...        2            8   \n",
       "2       1953           2007     Gable  ...        1            5   \n",
       "3       2006           2007     Gable  ...        2            7   \n",
       "4       1900           1993     Gable  ...        2            6   \n",
       "\n",
       "   garagefinish garagecars  saletype  saleprice  agesold  total_sqft  \\\n",
       "0           2.0        2.0       WD      130500       34      2679.0   \n",
       "1           2.0        2.0       WD      220000       13      3594.0   \n",
       "2           1.0        1.0       WD      109000       57      2360.0   \n",
       "3           3.0        2.0       WD      174000        4      2228.0   \n",
       "4           1.0        2.0       WD      138500      110      2605.0   \n",
       "\n",
       "   totalqual  combined_exterior  \n",
       "0       17.0     HdBoardPlywood  \n",
       "1       19.0     VinylSdVinylSd  \n",
       "2       15.0     VinylSdVinylSd  \n",
       "3       15.0     VinylSdVinylSd  \n",
       "4       14.0     Wd SdngPlywood  \n",
       "\n",
       "[5 rows x 26 columns]"
      ]
     },
     "execution_count": 3,
     "metadata": {},
     "output_type": "execute_result"
    }
   ],
   "source": [
    "train_df.head()"
   ]
  },
  {
   "cell_type": "code",
   "execution_count": 4,
   "metadata": {},
   "outputs": [
    {
     "data": {
      "text/plain": [
       "(2048, 26)"
      ]
     },
     "execution_count": 4,
     "metadata": {},
     "output_type": "execute_result"
    }
   ],
   "source": [
    "train_df.shape"
   ]
  },
  {
   "cell_type": "code",
   "execution_count": 5,
   "metadata": {},
   "outputs": [],
   "source": [
    "train_df = train_df.drop('Unnamed: 0', axis=1) #drop the extra axis that was generated"
   ]
  },
  {
   "cell_type": "code",
   "execution_count": 6,
   "metadata": {
    "scrolled": false
   },
   "outputs": [
    {
     "data": {
      "text/plain": [
       "id                     int64\n",
       "mssubclass             int64\n",
       "lotconfig             object\n",
       "neighborhood          object\n",
       "bldgtype              object\n",
       "housestyle            object\n",
       "yearbuilt              int64\n",
       "yearremod/add          int64\n",
       "roofstyle             object\n",
       "roofmatl              object\n",
       "masvnrtype            object\n",
       "masvnrarea           float64\n",
       "foundation            object\n",
       "totalbsmtsf          float64\n",
       "grlivarea              int64\n",
       "fullbath               int64\n",
       "totrmsabvgrd           int64\n",
       "garagefinish         float64\n",
       "garagecars           float64\n",
       "saletype              object\n",
       "saleprice              int64\n",
       "agesold                int64\n",
       "total_sqft           float64\n",
       "totalqual            float64\n",
       "combined_exterior     object\n",
       "dtype: object"
      ]
     },
     "execution_count": 6,
     "metadata": {},
     "output_type": "execute_result"
    }
   ],
   "source": [
    "train_df.dtypes"
   ]
  },
  {
   "cell_type": "code",
   "execution_count": 7,
   "metadata": {},
   "outputs": [],
   "source": [
    "train_df['mssubclass'] = train_df['mssubclass'].astype(str) #reconvert mssubclass into string"
   ]
  },
  {
   "cell_type": "markdown",
   "metadata": {},
   "source": [
    "#### Setting variables"
   ]
  },
  {
   "cell_type": "code",
   "execution_count": 8,
   "metadata": {},
   "outputs": [],
   "source": [
    "X = train_df.drop('saleprice', axis=1)\n",
    "y = train_df['saleprice']"
   ]
  },
  {
   "cell_type": "code",
   "execution_count": 9,
   "metadata": {},
   "outputs": [],
   "source": [
    "#create list of categorical and non categorical features\n",
    "cat = ['lotconfig', 'bldgtype', 'housestyle', 'roofstyle', 'roofmatl', 'masvnrtype', \n",
    "        'neighborhood','foundation', 'saletype', 'combined_exterior', 'mssubclass']\n",
    "non_cat = [x for x in train_df.columns if x not in cat]"
   ]
  },
  {
   "cell_type": "code",
   "execution_count": 10,
   "metadata": {},
   "outputs": [],
   "source": [
    "non_cat.remove('saleprice')"
   ]
  },
  {
   "cell_type": "code",
   "execution_count": 11,
   "metadata": {},
   "outputs": [],
   "source": [
    "non_cat.remove('id')"
   ]
  },
  {
   "cell_type": "markdown",
   "metadata": {},
   "source": [
    "#### Train test split"
   ]
  },
  {
   "cell_type": "code",
   "execution_count": 12,
   "metadata": {},
   "outputs": [],
   "source": [
    "X_train, X_test, y_train, y_test = train_test_split(X, y, random_state=42)"
   ]
  },
  {
   "cell_type": "code",
   "execution_count": 13,
   "metadata": {},
   "outputs": [
    {
     "data": {
      "text/plain": [
       "(1536, 24)"
      ]
     },
     "execution_count": 13,
     "metadata": {},
     "output_type": "execute_result"
    }
   ],
   "source": [
    "X_train.shape"
   ]
  },
  {
   "cell_type": "code",
   "execution_count": 14,
   "metadata": {
    "scrolled": false
   },
   "outputs": [
    {
     "data": {
      "text/plain": [
       "(512, 24)"
      ]
     },
     "execution_count": 14,
     "metadata": {},
     "output_type": "execute_result"
    }
   ],
   "source": [
    "X_test.shape"
   ]
  },
  {
   "cell_type": "markdown",
   "metadata": {},
   "source": [
    "#### Scaling (without categorical features)"
   ]
  },
  {
   "cell_type": "code",
   "execution_count": 15,
   "metadata": {},
   "outputs": [],
   "source": [
    "ss = StandardScaler()\n",
    "X_train_scaled = ss.fit_transform(X_train[non_cat]) #We do not transform categorical\n",
    "X_test_scaled = ss.transform(X_test[non_cat]) "
   ]
  },
  {
   "cell_type": "markdown",
   "metadata": {},
   "source": [
    "#### Encode categorical features and merge them back"
   ]
  },
  {
   "cell_type": "code",
   "execution_count": 16,
   "metadata": {},
   "outputs": [],
   "source": [
    "X_train_scaled = pd.DataFrame(X_train_scaled, columns=X_train[non_cat].columns)"
   ]
  },
  {
   "cell_type": "code",
   "execution_count": 17,
   "metadata": {},
   "outputs": [],
   "source": [
    "# encoding categorical variables\n",
    "X_train_cat = pd.get_dummies(X_train[cat], drop_first=True).reset_index(drop=True)"
   ]
  },
  {
   "cell_type": "code",
   "execution_count": 18,
   "metadata": {},
   "outputs": [],
   "source": [
    "X_train_transformed = pd.concat([X_train_scaled, X_train_cat], axis=1)"
   ]
  },
  {
   "cell_type": "code",
   "execution_count": 19,
   "metadata": {},
   "outputs": [
    {
     "data": {
      "text/plain": [
       "(1536, 157)"
      ]
     },
     "execution_count": 19,
     "metadata": {},
     "output_type": "execute_result"
    }
   ],
   "source": [
    "X_train_transformed.shape"
   ]
  },
  {
   "cell_type": "code",
   "execution_count": 20,
   "metadata": {},
   "outputs": [
    {
     "data": {
      "text/plain": [
       "0"
      ]
     },
     "execution_count": 20,
     "metadata": {},
     "output_type": "execute_result"
    }
   ],
   "source": [
    "X_train_transformed.isnull().sum().sum()"
   ]
  },
  {
   "cell_type": "markdown",
   "metadata": {},
   "source": [
    "#### Repeat similar process for test"
   ]
  },
  {
   "cell_type": "code",
   "execution_count": 21,
   "metadata": {
    "scrolled": true
   },
   "outputs": [],
   "source": [
    "X_test_scaled = pd.DataFrame(X_test_scaled, columns= X_test[non_cat].columns)"
   ]
  },
  {
   "cell_type": "code",
   "execution_count": 22,
   "metadata": {},
   "outputs": [],
   "source": [
    "X_test_cat = pd.get_dummies(X_test[cat],drop_first=True).reset_index(drop=True)"
   ]
  },
  {
   "cell_type": "code",
   "execution_count": 23,
   "metadata": {
    "scrolled": true
   },
   "outputs": [],
   "source": [
    "X_test_transformed = pd.concat([X_test_scaled, X_test_cat], axis=1)"
   ]
  },
  {
   "cell_type": "code",
   "execution_count": 24,
   "metadata": {},
   "outputs": [
    {
     "data": {
      "text/plain": [
       "(512, 127)"
      ]
     },
     "execution_count": 24,
     "metadata": {},
     "output_type": "execute_result"
    }
   ],
   "source": [
    "X_test_transformed.shape"
   ]
  },
  {
   "cell_type": "code",
   "execution_count": 25,
   "metadata": {
    "scrolled": true
   },
   "outputs": [
    {
     "data": {
      "text/plain": [
       "0"
      ]
     },
     "execution_count": 25,
     "metadata": {},
     "output_type": "execute_result"
    }
   ],
   "source": [
    "X_test_transformed.isnull().sum().sum()"
   ]
  },
  {
   "cell_type": "markdown",
   "metadata": {},
   "source": [
    "Here we see that the shape of X_test and X_train looks different. We need to fix this. One way is to declare a dummy column with 0 values. Another way is to look at the intersection of the 2 columns and find common ones."
   ]
  },
  {
   "cell_type": "code",
   "execution_count": 26,
   "metadata": {},
   "outputs": [],
   "source": [
    "new_columns = set(X_train_transformed.columns) & set(X_test_transformed.columns)"
   ]
  },
  {
   "cell_type": "code",
   "execution_count": 27,
   "metadata": {},
   "outputs": [
    {
     "data": {
      "text/plain": [
       "117"
      ]
     },
     "execution_count": 27,
     "metadata": {},
     "output_type": "execute_result"
    }
   ],
   "source": [
    "len(new_columns)"
   ]
  },
  {
   "cell_type": "code",
   "execution_count": 28,
   "metadata": {},
   "outputs": [],
   "source": [
    "X_train_transformed = X_train_transformed[new_columns] #setting same amount of features for X train and Xtest"
   ]
  },
  {
   "cell_type": "code",
   "execution_count": 29,
   "metadata": {},
   "outputs": [],
   "source": [
    "X_test_transformed = X_test_transformed[new_columns] #setting same amount of features for X train and Xtest"
   ]
  },
  {
   "cell_type": "code",
   "execution_count": 30,
   "metadata": {},
   "outputs": [
    {
     "data": {
      "text/plain": [
       "(1536, 117)"
      ]
     },
     "execution_count": 30,
     "metadata": {},
     "output_type": "execute_result"
    }
   ],
   "source": [
    "X_train_transformed.shape"
   ]
  },
  {
   "cell_type": "code",
   "execution_count": 31,
   "metadata": {
    "scrolled": true
   },
   "outputs": [
    {
     "data": {
      "text/plain": [
       "(512, 117)"
      ]
     },
     "execution_count": 31,
     "metadata": {},
     "output_type": "execute_result"
    }
   ],
   "source": [
    "X_test_transformed.shape"
   ]
  },
  {
   "cell_type": "markdown",
   "metadata": {},
   "source": [
    "Now we can use these to evaluate our models."
   ]
  },
  {
   "cell_type": "markdown",
   "metadata": {},
   "source": [
    "### Tuning the hyperparameters and getting the optimal alphas <a class=\"anchor\" id=\"alpha\"></a>"
   ]
  },
  {
   "cell_type": "markdown",
   "metadata": {},
   "source": [
    "#### Lasso "
   ]
  },
  {
   "cell_type": "code",
   "execution_count": 32,
   "metadata": {},
   "outputs": [
    {
     "name": "stdout",
     "output_type": "stream",
     "text": [
      "optimal lasso alpha:  66.72987873883862\n",
      "lasso R2:  0.889386916205149\n"
     ]
    }
   ],
   "source": [
    "lassocv = LassoCV(n_alphas = 200, cv = 5)\n",
    "lassocv = lassocv.fit(X_train_transformed, y_train)\n",
    "\n",
    "print('optimal lasso alpha: ', lassocv.alpha_)\n",
    "print('lasso R2: ', lassocv.score(X_train_transformed, y_train))"
   ]
  },
  {
   "cell_type": "markdown",
   "metadata": {},
   "source": [
    "#### Ridge"
   ]
  },
  {
   "cell_type": "code",
   "execution_count": 33,
   "metadata": {},
   "outputs": [
    {
     "name": "stdout",
     "output_type": "stream",
     "text": [
      "optimal ridge alpha:  3.5707859649004634\n",
      "ridge R2:  0.8935175275337304\n"
     ]
    }
   ],
   "source": [
    "r_alpha = np.logspace (0,5,200)\n",
    "\n",
    "ridgecv = RidgeCV(alphas = r_alpha, cv = 5)\n",
    "ridgecv = ridgecv.fit(X_train_transformed, y_train)\n",
    "\n",
    "print('optimal ridge alpha: ', ridgecv.alpha_)\n",
    "print('ridge R2: ', ridgecv.score(X_train_transformed, y_train))"
   ]
  },
  {
   "cell_type": "markdown",
   "metadata": {},
   "source": [
    "#### Creating functions to calculate RMSE and R2"
   ]
  },
  {
   "cell_type": "code",
   "execution_count": 34,
   "metadata": {},
   "outputs": [],
   "source": [
    "def rmse(model, X, y):\n",
    "    result = -cross_val_score(model, \n",
    "                             X, \n",
    "                             y, \n",
    "                             cv=5, scoring = 'neg_mean_squared_error').mean()\n",
    "    return 'RMSE:', np.sqrt(result)"
   ]
  },
  {
   "cell_type": "code",
   "execution_count": 35,
   "metadata": {},
   "outputs": [],
   "source": [
    "def r2_score(model, X, y):\n",
    "    model.fit(X, y)\n",
    "    result = model.score(X, y)\n",
    "    return 'r2: ', result"
   ]
  },
  {
   "cell_type": "code",
   "execution_count": 36,
   "metadata": {},
   "outputs": [],
   "source": [
    "#defining models\n",
    "lr = LinearRegression()\n",
    "ridge = Ridge(alpha = ridgecv.alpha_)\n",
    "lasso = Lasso(alpha = lassocv.alpha_)"
   ]
  },
  {
   "cell_type": "markdown",
   "metadata": {},
   "source": [
    "### Model scores - Train <a class=\"anchor\" id=\"mstrain\"></a>"
   ]
  },
  {
   "cell_type": "markdown",
   "metadata": {},
   "source": [
    "#### Linear Regression"
   ]
  },
  {
   "cell_type": "code",
   "execution_count": 37,
   "metadata": {},
   "outputs": [
    {
     "data": {
      "text/plain": [
       "('RMSE:', 6.282412075511655e+16)"
      ]
     },
     "execution_count": 37,
     "metadata": {},
     "output_type": "execute_result"
    }
   ],
   "source": [
    "#RMSE for linear regression \n",
    "rmse(lr, X_train_transformed, y_train)"
   ]
  },
  {
   "cell_type": "code",
   "execution_count": 38,
   "metadata": {
    "scrolled": true
   },
   "outputs": [
    {
     "data": {
      "text/plain": [
       "('r2: ', 0.8952681519255281)"
      ]
     },
     "execution_count": 38,
     "metadata": {},
     "output_type": "execute_result"
    }
   ],
   "source": [
    "#r2 for linear regression\n",
    "r2_score(lr, X_train_transformed, y_train)"
   ]
  },
  {
   "cell_type": "markdown",
   "metadata": {},
   "source": [
    "The RMSE score looks very large. This likely means that some features we chose might not be following a normal distribution and therefore the relationship between the features and sale price is not linear. This could also be due to the fact that there might be some multicollinearity between the features."
   ]
  },
  {
   "cell_type": "markdown",
   "metadata": {},
   "source": [
    "#### Lasso"
   ]
  },
  {
   "cell_type": "code",
   "execution_count": 39,
   "metadata": {},
   "outputs": [
    {
     "data": {
      "text/plain": [
       "('RMSE:', 27811.859526383792)"
      ]
     },
     "execution_count": 39,
     "metadata": {},
     "output_type": "execute_result"
    }
   ],
   "source": [
    "#RMSE for lasso \n",
    "rmse(lasso, X_train_transformed, y_train)"
   ]
  },
  {
   "cell_type": "code",
   "execution_count": 40,
   "metadata": {},
   "outputs": [
    {
     "data": {
      "text/plain": [
       "('r2: ', 0.889386916205149)"
      ]
     },
     "execution_count": 40,
     "metadata": {},
     "output_type": "execute_result"
    }
   ],
   "source": [
    "#r2 for linear\n",
    "r2_score(lasso, X_train_transformed, y_train)"
   ]
  },
  {
   "cell_type": "markdown",
   "metadata": {},
   "source": [
    "We see that Lasso model has a much lesser RMSE than Linear, this was likely because a penalty term was applied to zero out some features."
   ]
  },
  {
   "cell_type": "markdown",
   "metadata": {},
   "source": [
    "#### Ridge"
   ]
  },
  {
   "cell_type": "code",
   "execution_count": 41,
   "metadata": {},
   "outputs": [
    {
     "data": {
      "text/plain": [
       "('RMSE:', 27625.59834285606)"
      ]
     },
     "execution_count": 41,
     "metadata": {},
     "output_type": "execute_result"
    }
   ],
   "source": [
    "#RMSE for ridge\n",
    "rmse(ridge, X_train_transformed, y_train)"
   ]
  },
  {
   "cell_type": "code",
   "execution_count": 42,
   "metadata": {},
   "outputs": [
    {
     "data": {
      "text/plain": [
       "('r2: ', 0.8935175275337304)"
      ]
     },
     "execution_count": 42,
     "metadata": {},
     "output_type": "execute_result"
    }
   ],
   "source": [
    "#r2 for ridge\n",
    "r2_score(ridge, X_train_transformed, y_train)"
   ]
  },
  {
   "cell_type": "markdown",
   "metadata": {},
   "source": [
    "We see that ridge achieves the lowest RMSE out of all 3 models for training, and has a higher r2 score, which implies ridge model can explain 89% of the variations in saleprice."
   ]
  },
  {
   "cell_type": "markdown",
   "metadata": {},
   "source": [
    "### Model scores - Test <a class=\"anchor\" id=\"mstest\"></a>"
   ]
  },
  {
   "cell_type": "code",
   "execution_count": 43,
   "metadata": {},
   "outputs": [
    {
     "name": "stdout",
     "output_type": "stream",
     "text": [
      "baseline R2: -0.0003877677025097004\n",
      "baseline RMSE: 81732.4755447888\n"
     ]
    }
   ],
   "source": [
    "#figuring out the baseline\n",
    "from sklearn.dummy import DummyRegressor\n",
    "dummy_regressor = DummyRegressor()\n",
    "baseline_mod = dummy_regressor.fit(X_train, y_train)\n",
    "baseline_pred = dummy_regressor.predict(X_test)\n",
    "\n",
    "print(f'baseline R2: {dummy_regressor.score(X_test, y_test)}')\n",
    "print(f'baseline RMSE: {np.sqrt(metrics.mean_squared_error(y_test, baseline_pred))}')"
   ]
  },
  {
   "cell_type": "markdown",
   "metadata": {},
   "source": [
    "#### Linear Regression"
   ]
  },
  {
   "cell_type": "code",
   "execution_count": 44,
   "metadata": {},
   "outputs": [],
   "source": [
    "#fit the data\n",
    "lr = lr.fit(X_train_transformed, y_train)"
   ]
  },
  {
   "cell_type": "code",
   "execution_count": 45,
   "metadata": {},
   "outputs": [],
   "source": [
    "# predict \n",
    "y_pred_lr = lr.predict(X_test_transformed)"
   ]
  },
  {
   "cell_type": "code",
   "execution_count": 46,
   "metadata": {
    "scrolled": true
   },
   "outputs": [
    {
     "name": "stdout",
     "output_type": "stream",
     "text": [
      "lr r2: 0.8892987680354176\n",
      "lr RMSE: 27188.590512993793\n"
     ]
    }
   ],
   "source": [
    "print('lr r2:', lr.score(X_test_transformed, y_test))\n",
    "print('lr RMSE:', np.sqrt(metrics.mean_squared_error(y_test, y_pred_lr)))"
   ]
  },
  {
   "cell_type": "markdown",
   "metadata": {},
   "source": [
    "Our Linear Regression model seems to perform much better on the hold out set. "
   ]
  },
  {
   "cell_type": "markdown",
   "metadata": {},
   "source": [
    "#### Lasso Regression"
   ]
  },
  {
   "cell_type": "code",
   "execution_count": 47,
   "metadata": {},
   "outputs": [],
   "source": [
    "#fit the data\n",
    "lasso = lasso.fit(X_train_transformed, y_train)"
   ]
  },
  {
   "cell_type": "code",
   "execution_count": 48,
   "metadata": {},
   "outputs": [],
   "source": [
    "# predict \n",
    "y_pred_lasso = lasso.predict(X_test_transformed)"
   ]
  },
  {
   "cell_type": "code",
   "execution_count": 49,
   "metadata": {},
   "outputs": [
    {
     "name": "stdout",
     "output_type": "stream",
     "text": [
      "lasso r2: 0.8863671467811685\n",
      "lasso RMSE: 27546.246063733255\n"
     ]
    }
   ],
   "source": [
    "print('lasso r2:', lasso.score(X_test_transformed, y_test))\n",
    "print('lasso RMSE:', np.sqrt(metrics.mean_squared_error(y_test, y_pred_lasso)))"
   ]
  },
  {
   "cell_type": "markdown",
   "metadata": {},
   "source": [
    "We see that the Lasso model has also performed better on the holdout set."
   ]
  },
  {
   "cell_type": "markdown",
   "metadata": {},
   "source": [
    "#### Ridge Regression"
   ]
  },
  {
   "cell_type": "code",
   "execution_count": 50,
   "metadata": {},
   "outputs": [],
   "source": [
    "#fit the data\n",
    "ridge = ridge.fit(X_train_transformed, y_train)"
   ]
  },
  {
   "cell_type": "code",
   "execution_count": 51,
   "metadata": {},
   "outputs": [],
   "source": [
    "# predict \n",
    "y_pred_ridge = ridge.predict(X_test_transformed)"
   ]
  },
  {
   "cell_type": "code",
   "execution_count": 52,
   "metadata": {
    "scrolled": true
   },
   "outputs": [
    {
     "name": "stdout",
     "output_type": "stream",
     "text": [
      "ridge r2: 0.8908772470902031\n",
      "ridge RMSE: 26994.05470482014\n"
     ]
    }
   ],
   "source": [
    "print('ridge r2:', ridge.score(X_test_transformed, y_test))\n",
    "print('ridge RMSE:', np.sqrt(metrics.mean_squared_error(y_test, y_pred_ridge)))"
   ]
  },
  {
   "cell_type": "markdown",
   "metadata": {},
   "source": [
    "We see that the Ridge model has also performed better on the holdout set. Overall, ridge regression model has the lowest RMSE and highest r2 score among the other models for both the train and test(holdout) sets."
   ]
  },
  {
   "cell_type": "markdown",
   "metadata": {},
   "source": [
    "### Model evaluation <a class=\"anchor\" id=\"meval\"></a>"
   ]
  },
  {
   "cell_type": "markdown",
   "metadata": {},
   "source": [
    "| Model |R2   | RMSE  |\n",
    "| :------|:----- | :----- |\n",
    "| Linear(train) | 0.89526  |6.282412075511655e+16 |\n",
    "| Linear(test) | 0.88929 | 27188.5905  |\n",
    "| Lasso(train) | 0.88938 | 27811.8595 |\n",
    "| Lasso(test) | 0.88636 | 27546.2460|\n",
    "| Ridge (train) | 0.89351 | 27625.5983  |\n",
    "| Ridge (test) | 0.89087 | 26994.0547 |\n",
    "| Dummy(baseline) | -0.0003877 | 81732.4755 |"
   ]
  },
  {
   "cell_type": "markdown",
   "metadata": {},
   "source": [
    "Overall, we can see from the table that all models have performed above the baseline, except for linear regression. Comparing the R2 and RMSE across the different models for the train and test (holdout) sets, ridge is the best model thus far. "
   ]
  },
  {
   "cell_type": "markdown",
   "metadata": {},
   "source": [
    "#### Residual plot and predicted value distribution of Ridge "
   ]
  },
  {
   "cell_type": "code",
   "execution_count": 53,
   "metadata": {
    "scrolled": false
   },
   "outputs": [
    {
     "data": {
      "image/png": "[encoded data removed]",
      "text/plain": [
       "<Figure size 432x360 with 1 Axes>"
      ]
     },
     "metadata": {
      "needs_background": "light"
     },
     "output_type": "display_data"
    }
   ],
   "source": [
    "residual = y_pred_ridge - y_test\n",
    "\n",
    "plt.figure(figsize=(6,5))\n",
    "plt.scatter(y_test, residual)\n",
    "plt.axhline(0, linestyle='-', color='r')\n",
    "plt.title('residual distribution plot for test data',fontsize=14)\n",
    "plt.xlabel('actual values',fontsize=12)\n",
    "plt.ylabel('residuals',fontsize=12)\n",
    "plt.plot([], [], ' ', label=\"model: ridge\")\n",
    "plt.legend()\n",
    "plt.tight_layout()"
   ]
  },
  {
   "cell_type": "code",
   "execution_count": 54,
   "metadata": {
    "scrolled": false
   },
   "outputs": [
    {
     "data": {
      "image/png": "[encoded data removed]",
      "text/plain": [
       "<Figure size 432x360 with 1 Axes>"
      ]
     },
     "metadata": {
      "needs_background": "light"
     },
     "output_type": "display_data"
    }
   ],
   "source": [
    "# plot ypred vs ytrue\n",
    "plt.figure(figsize=(6,5))\n",
    "ax = plt.gca()\n",
    "sns.regplot(x= y_test, y= y_pred_ridge, color='skyblue', ax=ax, label=\"test set\")\n",
    "ax.set_title('predicted values', fontsize=12)\n",
    "ax.legend()\n",
    "ax.set(xlabel='Actual', ylabel='Predicted');"
   ]
  },
  {
   "cell_type": "markdown",
   "metadata": {},
   "source": [
    "We see from the residual plot that there is generally equal distribution, and the data seems to be clustered near the middle/red line. The predicted values vs actual values plot also shows us a generally linear relationship."
   ]
  },
  {
   "cell_type": "markdown",
   "metadata": {},
   "source": [
    "### Feature selection using Lasso <a class=\"anchor\" id=\"non0\"></a>"
   ]
  },
  {
   "cell_type": "markdown",
   "metadata": {},
   "source": [
    "Fitting the model into lasso regression earlier has helped us zero out features that are not so useful to us. Let us take a look at these features before we go into production building for our final model."
   ]
  },
  {
   "cell_type": "code",
   "execution_count": 55,
   "metadata": {},
   "outputs": [],
   "source": [
    "#taking a look at the lasso coefficients\n",
    "lasso_df = pd.DataFrame(zip(lasso.coef_, abs(lasso.coef_), X_train_transformed.columns), \n",
    "                        columns = ['coefficient', 'abs coeff', 'features']) "
   ]
  },
  {
   "cell_type": "code",
   "execution_count": 56,
   "metadata": {},
   "outputs": [],
   "source": [
    "pd.set_option('display.max_rows', len(lasso_df))"
   ]
  },
  {
   "cell_type": "code",
   "execution_count": 57,
   "metadata": {
    "scrolled": false
   },
   "outputs": [
    {
     "data": {
      "text/html": [
       "<div>\n",
       "<style scoped>\n",
       "    .dataframe tbody tr th:only-of-type {\n",
       "        vertical-align: middle;\n",
       "    }\n",
       "\n",
       "    .dataframe tbody tr th {\n",
       "        vertical-align: top;\n",
       "    }\n",
       "\n",
       "    .dataframe thead th {\n",
       "        text-align: right;\n",
       "    }\n",
       "</style>\n",
       "<table border=\"1\" class=\"dataframe\">\n",
       "  <thead>\n",
       "    <tr style=\"text-align: right;\">\n",
       "      <th></th>\n",
       "      <th>coefficient</th>\n",
       "      <th>abs coeff</th>\n",
       "      <th>features</th>\n",
       "    </tr>\n",
       "  </thead>\n",
       "  <tbody>\n",
       "    <tr>\n",
       "      <th>3</th>\n",
       "      <td>47790.957876</td>\n",
       "      <td>47790.957876</td>\n",
       "      <td>neighborhood_StoneBr</td>\n",
       "    </tr>\n",
       "    <tr>\n",
       "      <th>69</th>\n",
       "      <td>34306.262823</td>\n",
       "      <td>34306.262823</td>\n",
       "      <td>foundation_Slab</td>\n",
       "    </tr>\n",
       "    <tr>\n",
       "      <th>104</th>\n",
       "      <td>-30150.859399</td>\n",
       "      <td>30150.859399</td>\n",
       "      <td>roofstyle_Mansard</td>\n",
       "    </tr>\n",
       "    <tr>\n",
       "      <th>112</th>\n",
       "      <td>27135.967083</td>\n",
       "      <td>27135.967083</td>\n",
       "      <td>totalqual</td>\n",
       "    </tr>\n",
       "    <tr>\n",
       "      <th>79</th>\n",
       "      <td>26041.787888</td>\n",
       "      <td>26041.787888</td>\n",
       "      <td>roofmatl_WdShngl</td>\n",
       "    </tr>\n",
       "    <tr>\n",
       "      <th>26</th>\n",
       "      <td>25161.328628</td>\n",
       "      <td>25161.328628</td>\n",
       "      <td>neighborhood_NridgHt</td>\n",
       "    </tr>\n",
       "    <tr>\n",
       "      <th>97</th>\n",
       "      <td>24922.237173</td>\n",
       "      <td>24922.237173</td>\n",
       "      <td>total_sqft</td>\n",
       "    </tr>\n",
       "    <tr>\n",
       "      <th>108</th>\n",
       "      <td>22615.181251</td>\n",
       "      <td>22615.181251</td>\n",
       "      <td>neighborhood_GrnHill</td>\n",
       "    </tr>\n",
       "    <tr>\n",
       "      <th>24</th>\n",
       "      <td>-20430.083563</td>\n",
       "      <td>20430.083563</td>\n",
       "      <td>bldgtype_TwnhsE</td>\n",
       "    </tr>\n",
       "    <tr>\n",
       "      <th>19</th>\n",
       "      <td>16878.694652</td>\n",
       "      <td>16878.694652</td>\n",
       "      <td>saletype_New</td>\n",
       "    </tr>\n",
       "    <tr>\n",
       "      <th>44</th>\n",
       "      <td>-16254.919137</td>\n",
       "      <td>16254.919137</td>\n",
       "      <td>bldgtype_Twnhs</td>\n",
       "    </tr>\n",
       "    <tr>\n",
       "      <th>48</th>\n",
       "      <td>15648.235720</td>\n",
       "      <td>15648.235720</td>\n",
       "      <td>grlivarea</td>\n",
       "    </tr>\n",
       "    <tr>\n",
       "      <th>20</th>\n",
       "      <td>14240.169439</td>\n",
       "      <td>14240.169439</td>\n",
       "      <td>neighborhood_Crawfor</td>\n",
       "    </tr>\n",
       "    <tr>\n",
       "      <th>42</th>\n",
       "      <td>-11151.423980</td>\n",
       "      <td>11151.423980</td>\n",
       "      <td>neighborhood_OldTown</td>\n",
       "    </tr>\n",
       "    <tr>\n",
       "      <th>86</th>\n",
       "      <td>10744.863809</td>\n",
       "      <td>10744.863809</td>\n",
       "      <td>neighborhood_NoRidge</td>\n",
       "    </tr>\n",
       "    <tr>\n",
       "      <th>70</th>\n",
       "      <td>10735.823546</td>\n",
       "      <td>10735.823546</td>\n",
       "      <td>combined_exterior_BrkFaceWd Sdng</td>\n",
       "    </tr>\n",
       "    <tr>\n",
       "      <th>5</th>\n",
       "      <td>-10176.967184</td>\n",
       "      <td>10176.967184</td>\n",
       "      <td>neighborhood_SawyerW</td>\n",
       "    </tr>\n",
       "    <tr>\n",
       "      <th>68</th>\n",
       "      <td>9409.404850</td>\n",
       "      <td>9409.404850</td>\n",
       "      <td>combined_exterior_BrkFaceBrkFace</td>\n",
       "    </tr>\n",
       "    <tr>\n",
       "      <th>63</th>\n",
       "      <td>9374.667310</td>\n",
       "      <td>9374.667310</td>\n",
       "      <td>lotconfig_CulDSac</td>\n",
       "    </tr>\n",
       "    <tr>\n",
       "      <th>52</th>\n",
       "      <td>-7930.553860</td>\n",
       "      <td>7930.553860</td>\n",
       "      <td>neighborhood_NWAmes</td>\n",
       "    </tr>\n",
       "    <tr>\n",
       "      <th>14</th>\n",
       "      <td>7567.606139</td>\n",
       "      <td>7567.606139</td>\n",
       "      <td>masvnrarea</td>\n",
       "    </tr>\n",
       "    <tr>\n",
       "      <th>29</th>\n",
       "      <td>-6714.709148</td>\n",
       "      <td>6714.709148</td>\n",
       "      <td>neighborhood_IDOTRR</td>\n",
       "    </tr>\n",
       "    <tr>\n",
       "      <th>116</th>\n",
       "      <td>-6259.190625</td>\n",
       "      <td>6259.190625</td>\n",
       "      <td>mssubclass_160</td>\n",
       "    </tr>\n",
       "    <tr>\n",
       "      <th>77</th>\n",
       "      <td>-6186.934566</td>\n",
       "      <td>6186.934566</td>\n",
       "      <td>neighborhood_Gilbert</td>\n",
       "    </tr>\n",
       "    <tr>\n",
       "      <th>6</th>\n",
       "      <td>-6165.095775</td>\n",
       "      <td>6165.095775</td>\n",
       "      <td>neighborhood_CollgCr</td>\n",
       "    </tr>\n",
       "    <tr>\n",
       "      <th>31</th>\n",
       "      <td>5983.128970</td>\n",
       "      <td>5983.128970</td>\n",
       "      <td>combined_exterior_CemntBdCemntBd</td>\n",
       "    </tr>\n",
       "    <tr>\n",
       "      <th>90</th>\n",
       "      <td>5421.197729</td>\n",
       "      <td>5421.197729</td>\n",
       "      <td>neighborhood_ClearCr</td>\n",
       "    </tr>\n",
       "    <tr>\n",
       "      <th>15</th>\n",
       "      <td>5249.489714</td>\n",
       "      <td>5249.489714</td>\n",
       "      <td>masvnrtype_Stone</td>\n",
       "    </tr>\n",
       "    <tr>\n",
       "      <th>50</th>\n",
       "      <td>5206.731792</td>\n",
       "      <td>5206.731792</td>\n",
       "      <td>yearremod/add</td>\n",
       "    </tr>\n",
       "    <tr>\n",
       "      <th>51</th>\n",
       "      <td>-5121.464668</td>\n",
       "      <td>5121.464668</td>\n",
       "      <td>masvnrtype_BrkFace</td>\n",
       "    </tr>\n",
       "    <tr>\n",
       "      <th>71</th>\n",
       "      <td>5097.023976</td>\n",
       "      <td>5097.023976</td>\n",
       "      <td>neighborhood_Timber</td>\n",
       "    </tr>\n",
       "    <tr>\n",
       "      <th>81</th>\n",
       "      <td>4907.703620</td>\n",
       "      <td>4907.703620</td>\n",
       "      <td>housestyle_SLvl</td>\n",
       "    </tr>\n",
       "    <tr>\n",
       "      <th>105</th>\n",
       "      <td>4779.041463</td>\n",
       "      <td>4779.041463</td>\n",
       "      <td>yearbuilt</td>\n",
       "    </tr>\n",
       "    <tr>\n",
       "      <th>49</th>\n",
       "      <td>-4559.477338</td>\n",
       "      <td>4559.477338</td>\n",
       "      <td>neighborhood_NAmes</td>\n",
       "    </tr>\n",
       "    <tr>\n",
       "      <th>17</th>\n",
       "      <td>-4521.446359</td>\n",
       "      <td>4521.446359</td>\n",
       "      <td>roofstyle_Gable</td>\n",
       "    </tr>\n",
       "    <tr>\n",
       "      <th>66</th>\n",
       "      <td>4492.303195</td>\n",
       "      <td>4492.303195</td>\n",
       "      <td>mssubclass_20</td>\n",
       "    </tr>\n",
       "    <tr>\n",
       "      <th>18</th>\n",
       "      <td>-3912.860534</td>\n",
       "      <td>3912.860534</td>\n",
       "      <td>combined_exterior_HdBoardHdBoard</td>\n",
       "    </tr>\n",
       "    <tr>\n",
       "      <th>53</th>\n",
       "      <td>-3600.135964</td>\n",
       "      <td>3600.135964</td>\n",
       "      <td>totrmsabvgrd</td>\n",
       "    </tr>\n",
       "    <tr>\n",
       "      <th>58</th>\n",
       "      <td>3570.668475</td>\n",
       "      <td>3570.668475</td>\n",
       "      <td>mssubclass_60</td>\n",
       "    </tr>\n",
       "    <tr>\n",
       "      <th>12</th>\n",
       "      <td>3561.904989</td>\n",
       "      <td>3561.904989</td>\n",
       "      <td>roofstyle_Hip</td>\n",
       "    </tr>\n",
       "    <tr>\n",
       "      <th>67</th>\n",
       "      <td>3386.088882</td>\n",
       "      <td>3386.088882</td>\n",
       "      <td>saletype_WD</td>\n",
       "    </tr>\n",
       "    <tr>\n",
       "      <th>13</th>\n",
       "      <td>-3205.940661</td>\n",
       "      <td>3205.940661</td>\n",
       "      <td>fullbath</td>\n",
       "    </tr>\n",
       "    <tr>\n",
       "      <th>9</th>\n",
       "      <td>3196.777080</td>\n",
       "      <td>3196.777080</td>\n",
       "      <td>saletype_CWD</td>\n",
       "    </tr>\n",
       "    <tr>\n",
       "      <th>59</th>\n",
       "      <td>3032.162672</td>\n",
       "      <td>3032.162672</td>\n",
       "      <td>neighborhood_NPkVill</td>\n",
       "    </tr>\n",
       "    <tr>\n",
       "      <th>56</th>\n",
       "      <td>-2915.019050</td>\n",
       "      <td>2915.019050</td>\n",
       "      <td>combined_exterior_VinylSdVinylSd</td>\n",
       "    </tr>\n",
       "    <tr>\n",
       "      <th>85</th>\n",
       "      <td>-2828.889102</td>\n",
       "      <td>2828.889102</td>\n",
       "      <td>mssubclass_90</td>\n",
       "    </tr>\n",
       "    <tr>\n",
       "      <th>114</th>\n",
       "      <td>-2587.297551</td>\n",
       "      <td>2587.297551</td>\n",
       "      <td>combined_exterior_BrkCommBrk Cmn</td>\n",
       "    </tr>\n",
       "    <tr>\n",
       "      <th>8</th>\n",
       "      <td>2449.257609</td>\n",
       "      <td>2449.257609</td>\n",
       "      <td>housestyle_2.5Unf</td>\n",
       "    </tr>\n",
       "    <tr>\n",
       "      <th>39</th>\n",
       "      <td>-2163.951599</td>\n",
       "      <td>2163.951599</td>\n",
       "      <td>neighborhood_Edwards</td>\n",
       "    </tr>\n",
       "    <tr>\n",
       "      <th>103</th>\n",
       "      <td>-2104.730312</td>\n",
       "      <td>2104.730312</td>\n",
       "      <td>housestyle_2Story</td>\n",
       "    </tr>\n",
       "    <tr>\n",
       "      <th>10</th>\n",
       "      <td>1993.170488</td>\n",
       "      <td>1993.170488</td>\n",
       "      <td>combined_exterior_MetalSdMetalSd</td>\n",
       "    </tr>\n",
       "    <tr>\n",
       "      <th>91</th>\n",
       "      <td>1975.503632</td>\n",
       "      <td>1975.503632</td>\n",
       "      <td>neighborhood_BrkSide</td>\n",
       "    </tr>\n",
       "    <tr>\n",
       "      <th>23</th>\n",
       "      <td>1885.128038</td>\n",
       "      <td>1885.128038</td>\n",
       "      <td>mssubclass_30</td>\n",
       "    </tr>\n",
       "    <tr>\n",
       "      <th>46</th>\n",
       "      <td>1741.969221</td>\n",
       "      <td>1741.969221</td>\n",
       "      <td>garagefinish</td>\n",
       "    </tr>\n",
       "    <tr>\n",
       "      <th>75</th>\n",
       "      <td>-1169.522127</td>\n",
       "      <td>1169.522127</td>\n",
       "      <td>neighborhood_Somerst</td>\n",
       "    </tr>\n",
       "    <tr>\n",
       "      <th>73</th>\n",
       "      <td>1146.507567</td>\n",
       "      <td>1146.507567</td>\n",
       "      <td>masvnrtype_None</td>\n",
       "    </tr>\n",
       "    <tr>\n",
       "      <th>38</th>\n",
       "      <td>1135.701054</td>\n",
       "      <td>1135.701054</td>\n",
       "      <td>saletype_Con</td>\n",
       "    </tr>\n",
       "    <tr>\n",
       "      <th>30</th>\n",
       "      <td>-943.882680</td>\n",
       "      <td>943.882680</td>\n",
       "      <td>mssubclass_50</td>\n",
       "    </tr>\n",
       "    <tr>\n",
       "      <th>94</th>\n",
       "      <td>-808.653973</td>\n",
       "      <td>808.653973</td>\n",
       "      <td>bldgtype_Duplex</td>\n",
       "    </tr>\n",
       "    <tr>\n",
       "      <th>27</th>\n",
       "      <td>-773.315850</td>\n",
       "      <td>773.315850</td>\n",
       "      <td>totalbsmtsf</td>\n",
       "    </tr>\n",
       "    <tr>\n",
       "      <th>110</th>\n",
       "      <td>-697.709643</td>\n",
       "      <td>697.709643</td>\n",
       "      <td>combined_exterior_Wd SdngWd Sdng</td>\n",
       "    </tr>\n",
       "    <tr>\n",
       "      <th>41</th>\n",
       "      <td>-342.712702</td>\n",
       "      <td>342.712702</td>\n",
       "      <td>neighborhood_Mitchel</td>\n",
       "    </tr>\n",
       "    <tr>\n",
       "      <th>107</th>\n",
       "      <td>327.702143</td>\n",
       "      <td>327.702143</td>\n",
       "      <td>foundation_CBlock</td>\n",
       "    </tr>\n",
       "    <tr>\n",
       "      <th>95</th>\n",
       "      <td>239.695394</td>\n",
       "      <td>239.695394</td>\n",
       "      <td>lotconfig_Inside</td>\n",
       "    </tr>\n",
       "    <tr>\n",
       "      <th>93</th>\n",
       "      <td>-0.000000</td>\n",
       "      <td>0.000000</td>\n",
       "      <td>combined_exterior_HdBoardWdShing</td>\n",
       "    </tr>\n",
       "    <tr>\n",
       "      <th>87</th>\n",
       "      <td>0.000000</td>\n",
       "      <td>0.000000</td>\n",
       "      <td>combined_exterior_WdShingPlywood</td>\n",
       "    </tr>\n",
       "    <tr>\n",
       "      <th>88</th>\n",
       "      <td>0.000000</td>\n",
       "      <td>0.000000</td>\n",
       "      <td>combined_exterior_WdShingWdShing</td>\n",
       "    </tr>\n",
       "    <tr>\n",
       "      <th>89</th>\n",
       "      <td>0.000000</td>\n",
       "      <td>0.000000</td>\n",
       "      <td>foundation_PConc</td>\n",
       "    </tr>\n",
       "    <tr>\n",
       "      <th>92</th>\n",
       "      <td>-0.000000</td>\n",
       "      <td>0.000000</td>\n",
       "      <td>combined_exterior_PlywoodImStucc</td>\n",
       "    </tr>\n",
       "    <tr>\n",
       "      <th>101</th>\n",
       "      <td>0.000000</td>\n",
       "      <td>0.000000</td>\n",
       "      <td>roofmatl_WdShake</td>\n",
       "    </tr>\n",
       "    <tr>\n",
       "      <th>96</th>\n",
       "      <td>0.000000</td>\n",
       "      <td>0.000000</td>\n",
       "      <td>mssubclass_85</td>\n",
       "    </tr>\n",
       "    <tr>\n",
       "      <th>98</th>\n",
       "      <td>-0.000000</td>\n",
       "      <td>0.000000</td>\n",
       "      <td>roofstyle_Gambrel</td>\n",
       "    </tr>\n",
       "    <tr>\n",
       "      <th>99</th>\n",
       "      <td>-0.000000</td>\n",
       "      <td>0.000000</td>\n",
       "      <td>roofstyle_Shed</td>\n",
       "    </tr>\n",
       "    <tr>\n",
       "      <th>100</th>\n",
       "      <td>0.000000</td>\n",
       "      <td>0.000000</td>\n",
       "      <td>combined_exterior_BrkFaceMetalSd</td>\n",
       "    </tr>\n",
       "    <tr>\n",
       "      <th>102</th>\n",
       "      <td>-0.000000</td>\n",
       "      <td>0.000000</td>\n",
       "      <td>combined_exterior_Wd SdngPlywood</td>\n",
       "    </tr>\n",
       "    <tr>\n",
       "      <th>7</th>\n",
       "      <td>-0.000000</td>\n",
       "      <td>0.000000</td>\n",
       "      <td>neighborhood_Blueste</td>\n",
       "    </tr>\n",
       "    <tr>\n",
       "      <th>106</th>\n",
       "      <td>-0.000000</td>\n",
       "      <td>0.000000</td>\n",
       "      <td>lotconfig_FR2</td>\n",
       "    </tr>\n",
       "    <tr>\n",
       "      <th>4</th>\n",
       "      <td>0.000000</td>\n",
       "      <td>0.000000</td>\n",
       "      <td>neighborhood_Sawyer</td>\n",
       "    </tr>\n",
       "    <tr>\n",
       "      <th>109</th>\n",
       "      <td>0.000000</td>\n",
       "      <td>0.000000</td>\n",
       "      <td>combined_exterior_AsbShngPlywood</td>\n",
       "    </tr>\n",
       "    <tr>\n",
       "      <th>111</th>\n",
       "      <td>0.000000</td>\n",
       "      <td>0.000000</td>\n",
       "      <td>housestyle_1.5Unf</td>\n",
       "    </tr>\n",
       "    <tr>\n",
       "      <th>2</th>\n",
       "      <td>0.000000</td>\n",
       "      <td>0.000000</td>\n",
       "      <td>garagecars</td>\n",
       "    </tr>\n",
       "    <tr>\n",
       "      <th>113</th>\n",
       "      <td>0.000000</td>\n",
       "      <td>0.000000</td>\n",
       "      <td>mssubclass_75</td>\n",
       "    </tr>\n",
       "    <tr>\n",
       "      <th>115</th>\n",
       "      <td>0.000000</td>\n",
       "      <td>0.000000</td>\n",
       "      <td>combined_exterior_Wd SdngWdShing</td>\n",
       "    </tr>\n",
       "    <tr>\n",
       "      <th>11</th>\n",
       "      <td>0.000000</td>\n",
       "      <td>0.000000</td>\n",
       "      <td>combined_exterior_Wd SdngHdBoard</td>\n",
       "    </tr>\n",
       "    <tr>\n",
       "      <th>78</th>\n",
       "      <td>-0.000000</td>\n",
       "      <td>0.000000</td>\n",
       "      <td>mssubclass_190</td>\n",
       "    </tr>\n",
       "    <tr>\n",
       "      <th>84</th>\n",
       "      <td>0.000000</td>\n",
       "      <td>0.000000</td>\n",
       "      <td>combined_exterior_HdBoardWd Sdng</td>\n",
       "    </tr>\n",
       "    <tr>\n",
       "      <th>83</th>\n",
       "      <td>0.000000</td>\n",
       "      <td>0.000000</td>\n",
       "      <td>mssubclass_70</td>\n",
       "    </tr>\n",
       "    <tr>\n",
       "      <th>43</th>\n",
       "      <td>-0.000000</td>\n",
       "      <td>0.000000</td>\n",
       "      <td>combined_exterior_PlywoodWd Sdng</td>\n",
       "    </tr>\n",
       "    <tr>\n",
       "      <th>37</th>\n",
       "      <td>-0.000000</td>\n",
       "      <td>0.000000</td>\n",
       "      <td>combined_exterior_PlywoodPlywood</td>\n",
       "    </tr>\n",
       "    <tr>\n",
       "      <th>45</th>\n",
       "      <td>0.000000</td>\n",
       "      <td>0.000000</td>\n",
       "      <td>mssubclass_80</td>\n",
       "    </tr>\n",
       "    <tr>\n",
       "      <th>47</th>\n",
       "      <td>-0.000000</td>\n",
       "      <td>0.000000</td>\n",
       "      <td>bldgtype_2fmCon</td>\n",
       "    </tr>\n",
       "    <tr>\n",
       "      <th>36</th>\n",
       "      <td>0.000000</td>\n",
       "      <td>0.000000</td>\n",
       "      <td>mssubclass_45</td>\n",
       "    </tr>\n",
       "    <tr>\n",
       "      <th>35</th>\n",
       "      <td>0.000000</td>\n",
       "      <td>0.000000</td>\n",
       "      <td>roofmatl_Tar&amp;Grv</td>\n",
       "    </tr>\n",
       "    <tr>\n",
       "      <th>34</th>\n",
       "      <td>-0.000000</td>\n",
       "      <td>0.000000</td>\n",
       "      <td>combined_exterior_StuccoStucco</td>\n",
       "    </tr>\n",
       "    <tr>\n",
       "      <th>33</th>\n",
       "      <td>-0.000000</td>\n",
       "      <td>0.000000</td>\n",
       "      <td>foundation_Wood</td>\n",
       "    </tr>\n",
       "    <tr>\n",
       "      <th>32</th>\n",
       "      <td>0.000000</td>\n",
       "      <td>0.000000</td>\n",
       "      <td>combined_exterior_BrkFaceStucco</td>\n",
       "    </tr>\n",
       "    <tr>\n",
       "      <th>54</th>\n",
       "      <td>0.000000</td>\n",
       "      <td>0.000000</td>\n",
       "      <td>housestyle_SFoyer</td>\n",
       "    </tr>\n",
       "    <tr>\n",
       "      <th>55</th>\n",
       "      <td>0.000000</td>\n",
       "      <td>0.000000</td>\n",
       "      <td>lotconfig_FR3</td>\n",
       "    </tr>\n",
       "    <tr>\n",
       "      <th>57</th>\n",
       "      <td>0.000000</td>\n",
       "      <td>0.000000</td>\n",
       "      <td>combined_exterior_MetalSdVinylSd</td>\n",
       "    </tr>\n",
       "    <tr>\n",
       "      <th>1</th>\n",
       "      <td>0.000000</td>\n",
       "      <td>0.000000</td>\n",
       "      <td>housestyle_1Story</td>\n",
       "    </tr>\n",
       "    <tr>\n",
       "      <th>60</th>\n",
       "      <td>-0.000000</td>\n",
       "      <td>0.000000</td>\n",
       "      <td>neighborhood_Greens</td>\n",
       "    </tr>\n",
       "    <tr>\n",
       "      <th>61</th>\n",
       "      <td>0.000000</td>\n",
       "      <td>0.000000</td>\n",
       "      <td>saletype_ConLD</td>\n",
       "    </tr>\n",
       "    <tr>\n",
       "      <th>62</th>\n",
       "      <td>-0.000000</td>\n",
       "      <td>0.000000</td>\n",
       "      <td>agesold</td>\n",
       "    </tr>\n",
       "    <tr>\n",
       "      <th>28</th>\n",
       "      <td>0.000000</td>\n",
       "      <td>0.000000</td>\n",
       "      <td>foundation_Stone</td>\n",
       "    </tr>\n",
       "    <tr>\n",
       "      <th>64</th>\n",
       "      <td>-0.000000</td>\n",
       "      <td>0.000000</td>\n",
       "      <td>mssubclass_180</td>\n",
       "    </tr>\n",
       "    <tr>\n",
       "      <th>65</th>\n",
       "      <td>-0.000000</td>\n",
       "      <td>0.000000</td>\n",
       "      <td>combined_exterior_VinylSdWdShing</td>\n",
       "    </tr>\n",
       "    <tr>\n",
       "      <th>25</th>\n",
       "      <td>0.000000</td>\n",
       "      <td>0.000000</td>\n",
       "      <td>neighborhood_Veenker</td>\n",
       "    </tr>\n",
       "    <tr>\n",
       "      <th>22</th>\n",
       "      <td>0.000000</td>\n",
       "      <td>0.000000</td>\n",
       "      <td>neighborhood_BrDale</td>\n",
       "    </tr>\n",
       "    <tr>\n",
       "      <th>21</th>\n",
       "      <td>0.000000</td>\n",
       "      <td>0.000000</td>\n",
       "      <td>combined_exterior_PlywoodBrk Cmn</td>\n",
       "    </tr>\n",
       "    <tr>\n",
       "      <th>72</th>\n",
       "      <td>-0.000000</td>\n",
       "      <td>0.000000</td>\n",
       "      <td>saletype_ConLI</td>\n",
       "    </tr>\n",
       "    <tr>\n",
       "      <th>74</th>\n",
       "      <td>-0.000000</td>\n",
       "      <td>0.000000</td>\n",
       "      <td>neighborhood_SWISU</td>\n",
       "    </tr>\n",
       "    <tr>\n",
       "      <th>76</th>\n",
       "      <td>0.000000</td>\n",
       "      <td>0.000000</td>\n",
       "      <td>combined_exterior_BrkFaceStone</td>\n",
       "    </tr>\n",
       "    <tr>\n",
       "      <th>16</th>\n",
       "      <td>-0.000000</td>\n",
       "      <td>0.000000</td>\n",
       "      <td>combined_exterior_MetalSdStucco</td>\n",
       "    </tr>\n",
       "    <tr>\n",
       "      <th>40</th>\n",
       "      <td>-0.000000</td>\n",
       "      <td>0.000000</td>\n",
       "      <td>housestyle_2.5Fin</td>\n",
       "    </tr>\n",
       "    <tr>\n",
       "      <th>80</th>\n",
       "      <td>-0.000000</td>\n",
       "      <td>0.000000</td>\n",
       "      <td>combined_exterior_HdBoardPlywood</td>\n",
       "    </tr>\n",
       "    <tr>\n",
       "      <th>82</th>\n",
       "      <td>-0.000000</td>\n",
       "      <td>0.000000</td>\n",
       "      <td>combined_exterior_Wd SdngVinylSd</td>\n",
       "    </tr>\n",
       "    <tr>\n",
       "      <th>0</th>\n",
       "      <td>-0.000000</td>\n",
       "      <td>0.000000</td>\n",
       "      <td>neighborhood_MeadowV</td>\n",
       "    </tr>\n",
       "  </tbody>\n",
       "</table>\n",
       "</div>"
      ],
      "text/plain": [
       "      coefficient     abs coeff                          features\n",
       "3    47790.957876  47790.957876              neighborhood_StoneBr\n",
       "69   34306.262823  34306.262823                   foundation_Slab\n",
       "104 -30150.859399  30150.859399                 roofstyle_Mansard\n",
       "112  27135.967083  27135.967083                         totalqual\n",
       "79   26041.787888  26041.787888                  roofmatl_WdShngl\n",
       "26   25161.328628  25161.328628              neighborhood_NridgHt\n",
       "97   24922.237173  24922.237173                        total_sqft\n",
       "108  22615.181251  22615.181251              neighborhood_GrnHill\n",
       "24  -20430.083563  20430.083563                   bldgtype_TwnhsE\n",
       "19   16878.694652  16878.694652                      saletype_New\n",
       "44  -16254.919137  16254.919137                    bldgtype_Twnhs\n",
       "48   15648.235720  15648.235720                         grlivarea\n",
       "20   14240.169439  14240.169439              neighborhood_Crawfor\n",
       "42  -11151.423980  11151.423980              neighborhood_OldTown\n",
       "86   10744.863809  10744.863809              neighborhood_NoRidge\n",
       "70   10735.823546  10735.823546  combined_exterior_BrkFaceWd Sdng\n",
       "5   -10176.967184  10176.967184              neighborhood_SawyerW\n",
       "68    9409.404850   9409.404850  combined_exterior_BrkFaceBrkFace\n",
       "63    9374.667310   9374.667310                 lotconfig_CulDSac\n",
       "52   -7930.553860   7930.553860               neighborhood_NWAmes\n",
       "14    7567.606139   7567.606139                        masvnrarea\n",
       "29   -6714.709148   6714.709148               neighborhood_IDOTRR\n",
       "116  -6259.190625   6259.190625                    mssubclass_160\n",
       "77   -6186.934566   6186.934566              neighborhood_Gilbert\n",
       "6    -6165.095775   6165.095775              neighborhood_CollgCr\n",
       "31    5983.128970   5983.128970  combined_exterior_CemntBdCemntBd\n",
       "90    5421.197729   5421.197729              neighborhood_ClearCr\n",
       "15    5249.489714   5249.489714                  masvnrtype_Stone\n",
       "50    5206.731792   5206.731792                     yearremod/add\n",
       "51   -5121.464668   5121.464668                masvnrtype_BrkFace\n",
       "71    5097.023976   5097.023976               neighborhood_Timber\n",
       "81    4907.703620   4907.703620                   housestyle_SLvl\n",
       "105   4779.041463   4779.041463                         yearbuilt\n",
       "49   -4559.477338   4559.477338                neighborhood_NAmes\n",
       "17   -4521.446359   4521.446359                   roofstyle_Gable\n",
       "66    4492.303195   4492.303195                     mssubclass_20\n",
       "18   -3912.860534   3912.860534  combined_exterior_HdBoardHdBoard\n",
       "53   -3600.135964   3600.135964                      totrmsabvgrd\n",
       "58    3570.668475   3570.668475                     mssubclass_60\n",
       "12    3561.904989   3561.904989                     roofstyle_Hip\n",
       "67    3386.088882   3386.088882                      saletype_WD \n",
       "13   -3205.940661   3205.940661                          fullbath\n",
       "9     3196.777080   3196.777080                      saletype_CWD\n",
       "59    3032.162672   3032.162672              neighborhood_NPkVill\n",
       "56   -2915.019050   2915.019050  combined_exterior_VinylSdVinylSd\n",
       "85   -2828.889102   2828.889102                     mssubclass_90\n",
       "114  -2587.297551   2587.297551  combined_exterior_BrkCommBrk Cmn\n",
       "8     2449.257609   2449.257609                 housestyle_2.5Unf\n",
       "39   -2163.951599   2163.951599              neighborhood_Edwards\n",
       "103  -2104.730312   2104.730312                 housestyle_2Story\n",
       "10    1993.170488   1993.170488  combined_exterior_MetalSdMetalSd\n",
       "91    1975.503632   1975.503632              neighborhood_BrkSide\n",
       "23    1885.128038   1885.128038                     mssubclass_30\n",
       "46    1741.969221   1741.969221                      garagefinish\n",
       "75   -1169.522127   1169.522127              neighborhood_Somerst\n",
       "73    1146.507567   1146.507567                   masvnrtype_None\n",
       "38    1135.701054   1135.701054                      saletype_Con\n",
       "30    -943.882680    943.882680                     mssubclass_50\n",
       "94    -808.653973    808.653973                   bldgtype_Duplex\n",
       "27    -773.315850    773.315850                       totalbsmtsf\n",
       "110   -697.709643    697.709643  combined_exterior_Wd SdngWd Sdng\n",
       "41    -342.712702    342.712702              neighborhood_Mitchel\n",
       "107    327.702143    327.702143                 foundation_CBlock\n",
       "95     239.695394    239.695394                  lotconfig_Inside\n",
       "93      -0.000000      0.000000  combined_exterior_HdBoardWdShing\n",
       "87       0.000000      0.000000  combined_exterior_WdShingPlywood\n",
       "88       0.000000      0.000000  combined_exterior_WdShingWdShing\n",
       "89       0.000000      0.000000                  foundation_PConc\n",
       "92      -0.000000      0.000000  combined_exterior_PlywoodImStucc\n",
       "101      0.000000      0.000000                  roofmatl_WdShake\n",
       "96       0.000000      0.000000                     mssubclass_85\n",
       "98      -0.000000      0.000000                 roofstyle_Gambrel\n",
       "99      -0.000000      0.000000                    roofstyle_Shed\n",
       "100      0.000000      0.000000  combined_exterior_BrkFaceMetalSd\n",
       "102     -0.000000      0.000000  combined_exterior_Wd SdngPlywood\n",
       "7       -0.000000      0.000000              neighborhood_Blueste\n",
       "106     -0.000000      0.000000                     lotconfig_FR2\n",
       "4        0.000000      0.000000               neighborhood_Sawyer\n",
       "109      0.000000      0.000000  combined_exterior_AsbShngPlywood\n",
       "111      0.000000      0.000000                 housestyle_1.5Unf\n",
       "2        0.000000      0.000000                        garagecars\n",
       "113      0.000000      0.000000                     mssubclass_75\n",
       "115      0.000000      0.000000  combined_exterior_Wd SdngWdShing\n",
       "11       0.000000      0.000000  combined_exterior_Wd SdngHdBoard\n",
       "78      -0.000000      0.000000                    mssubclass_190\n",
       "84       0.000000      0.000000  combined_exterior_HdBoardWd Sdng\n",
       "83       0.000000      0.000000                     mssubclass_70\n",
       "43      -0.000000      0.000000  combined_exterior_PlywoodWd Sdng\n",
       "37      -0.000000      0.000000  combined_exterior_PlywoodPlywood\n",
       "45       0.000000      0.000000                     mssubclass_80\n",
       "47      -0.000000      0.000000                   bldgtype_2fmCon\n",
       "36       0.000000      0.000000                     mssubclass_45\n",
       "35       0.000000      0.000000                  roofmatl_Tar&Grv\n",
       "34      -0.000000      0.000000    combined_exterior_StuccoStucco\n",
       "33      -0.000000      0.000000                   foundation_Wood\n",
       "32       0.000000      0.000000   combined_exterior_BrkFaceStucco\n",
       "54       0.000000      0.000000                 housestyle_SFoyer\n",
       "55       0.000000      0.000000                     lotconfig_FR3\n",
       "57       0.000000      0.000000  combined_exterior_MetalSdVinylSd\n",
       "1        0.000000      0.000000                 housestyle_1Story\n",
       "60      -0.000000      0.000000               neighborhood_Greens\n",
       "61       0.000000      0.000000                    saletype_ConLD\n",
       "62      -0.000000      0.000000                           agesold\n",
       "28       0.000000      0.000000                  foundation_Stone\n",
       "64      -0.000000      0.000000                    mssubclass_180\n",
       "65      -0.000000      0.000000  combined_exterior_VinylSdWdShing\n",
       "25       0.000000      0.000000              neighborhood_Veenker\n",
       "22       0.000000      0.000000               neighborhood_BrDale\n",
       "21       0.000000      0.000000  combined_exterior_PlywoodBrk Cmn\n",
       "72      -0.000000      0.000000                    saletype_ConLI\n",
       "74      -0.000000      0.000000                neighborhood_SWISU\n",
       "76       0.000000      0.000000    combined_exterior_BrkFaceStone\n",
       "16      -0.000000      0.000000   combined_exterior_MetalSdStucco\n",
       "40      -0.000000      0.000000                 housestyle_2.5Fin\n",
       "80      -0.000000      0.000000  combined_exterior_HdBoardPlywood\n",
       "82      -0.000000      0.000000  combined_exterior_Wd SdngVinylSd\n",
       "0       -0.000000      0.000000              neighborhood_MeadowV"
      ]
     },
     "execution_count": 57,
     "metadata": {},
     "output_type": "execute_result"
    }
   ],
   "source": [
    "#looking at the non zeroed features based on absolute coefficient\n",
    "lasso_df.sort_values(by='abs coeff', ascending=False)"
   ]
  },
  {
   "cell_type": "code",
   "execution_count": 58,
   "metadata": {
    "scrolled": false
   },
   "outputs": [
    {
     "data": {
      "text/plain": [
       "abs coeff     abs coeff   \n",
       "0.000000      0.000000        53\n",
       "239.695394    239.695394       1\n",
       "327.702143    327.702143       1\n",
       "342.712702    342.712702       1\n",
       "697.709643    697.709643       1\n",
       "773.315850    773.315850       1\n",
       "808.653973    808.653973       1\n",
       "943.882680    943.882680       1\n",
       "1135.701054   1135.701054      1\n",
       "1146.507567   1146.507567      1\n",
       "1169.522127   1169.522127      1\n",
       "1741.969221   1741.969221      1\n",
       "1885.128038   1885.128038      1\n",
       "1975.503632   1975.503632      1\n",
       "1993.170488   1993.170488      1\n",
       "2104.730312   2104.730312      1\n",
       "2163.951599   2163.951599      1\n",
       "2449.257609   2449.257609      1\n",
       "2587.297551   2587.297551      1\n",
       "2828.889102   2828.889102      1\n",
       "2915.019050   2915.019050      1\n",
       "3032.162672   3032.162672      1\n",
       "3196.777080   3196.777080      1\n",
       "3205.940661   3205.940661      1\n",
       "3386.088882   3386.088882      1\n",
       "3561.904989   3561.904989      1\n",
       "3570.668475   3570.668475      1\n",
       "3600.135964   3600.135964      1\n",
       "3912.860534   3912.860534      1\n",
       "4492.303195   4492.303195      1\n",
       "4521.446359   4521.446359      1\n",
       "4559.477338   4559.477338      1\n",
       "4779.041463   4779.041463      1\n",
       "4907.703620   4907.703620      1\n",
       "5097.023976   5097.023976      1\n",
       "5121.464668   5121.464668      1\n",
       "5206.731792   5206.731792      1\n",
       "5249.489714   5249.489714      1\n",
       "5421.197729   5421.197729      1\n",
       "5983.128970   5983.128970      1\n",
       "6165.095775   6165.095775      1\n",
       "6186.934566   6186.934566      1\n",
       "6259.190625   6259.190625      1\n",
       "6714.709148   6714.709148      1\n",
       "7567.606139   7567.606139      1\n",
       "7930.553860   7930.553860      1\n",
       "9374.667310   9374.667310      1\n",
       "9409.404850   9409.404850      1\n",
       "10176.967184  10176.967184     1\n",
       "10735.823546  10735.823546     1\n",
       "10744.863809  10744.863809     1\n",
       "11151.423980  11151.423980     1\n",
       "14240.169439  14240.169439     1\n",
       "15648.235720  15648.235720     1\n",
       "16254.919137  16254.919137     1\n",
       "16878.694652  16878.694652     1\n",
       "20430.083563  20430.083563     1\n",
       "22615.181251  22615.181251     1\n",
       "24922.237173  24922.237173     1\n",
       "25161.328628  25161.328628     1\n",
       "26041.787888  26041.787888     1\n",
       "27135.967083  27135.967083     1\n",
       "30150.859399  30150.859399     1\n",
       "34306.262823  34306.262823     1\n",
       "47790.957876  47790.957876     1\n",
       "Name: abs coeff, dtype: int64"
      ]
     },
     "execution_count": 58,
     "metadata": {},
     "output_type": "execute_result"
    }
   ],
   "source": [
    "lasso_df.groupby('abs coeff')['abs coeff'].value_counts()"
   ]
  },
  {
   "cell_type": "markdown",
   "metadata": {},
   "source": [
    "Here we can see that the lasso model has dropped about 53 features from our original 117, which leaves us with about 64 features. Additionally, from this table, we can see that total square feet, total quality, neighbourhood and material related features(e.g. roof, foundation) affect the sale price of a property greatly."
   ]
  },
  {
   "cell_type": "code",
   "execution_count": 59,
   "metadata": {},
   "outputs": [
    {
     "data": {
      "text/plain": [
       "64"
      ]
     },
     "execution_count": 59,
     "metadata": {},
     "output_type": "execute_result"
    }
   ],
   "source": [
    "len(lasso.coef_[abs(lasso.coef_) > 0])"
   ]
  },
  {
   "cell_type": "code",
   "execution_count": 60,
   "metadata": {},
   "outputs": [],
   "source": [
    "#look at \n",
    "lasso1_features = X_train_transformed.columns[abs(lasso.coef_) > 0]"
   ]
  },
  {
   "cell_type": "markdown",
   "metadata": {},
   "source": [
    "Since lasso regression has helped us remove some features, we now select the features not zeored out by lasso. We will proceed to use these features to test the models."
   ]
  },
  {
   "cell_type": "code",
   "execution_count": 61,
   "metadata": {},
   "outputs": [],
   "source": [
    "X_train_lassoed = X_train_transformed[lasso1_features]\n",
    "X_test_lassoed = X_test_transformed[lasso1_features]"
   ]
  },
  {
   "cell_type": "code",
   "execution_count": 62,
   "metadata": {},
   "outputs": [
    {
     "name": "stdout",
     "output_type": "stream",
     "text": [
      "baseline R2: -0.0003877677025097004\n",
      "baseline RMSE: 81732.4755447888\n"
     ]
    }
   ],
   "source": [
    "#figuring out the baseline\n",
    "from sklearn.dummy import DummyRegressor\n",
    "dummy_regressor = DummyRegressor()\n",
    "baseline_mod = dummy_regressor.fit(X_train_lassoed, y_train)\n",
    "baseline_pred = dummy_regressor.predict(X_test_lassoed)\n",
    "\n",
    "print(f'baseline R2: {dummy_regressor.score(X_test_lassoed, y_test)}')\n",
    "print(f'baseline RMSE: {np.sqrt(metrics.mean_squared_error(y_test, baseline_pred))}')"
   ]
  },
  {
   "cell_type": "markdown",
   "metadata": {},
   "source": [
    "#### Linear Regression"
   ]
  },
  {
   "cell_type": "code",
   "execution_count": 63,
   "metadata": {},
   "outputs": [],
   "source": [
    "#fit the model\n",
    "lr = lr.fit(X_train_lassoed, y_train)"
   ]
  },
  {
   "cell_type": "code",
   "execution_count": 64,
   "metadata": {},
   "outputs": [
    {
     "data": {
      "text/plain": [
       "('RMSE:', 13972676019.060116)"
      ]
     },
     "execution_count": 64,
     "metadata": {},
     "output_type": "execute_result"
    }
   ],
   "source": [
    "#RMSE for linear regression train\n",
    "rmse(lr, X_train_lassoed, y_train)"
   ]
  },
  {
   "cell_type": "code",
   "execution_count": 65,
   "metadata": {},
   "outputs": [
    {
     "data": {
      "text/plain": [
       "('r2: ', 0.8939902618240614)"
      ]
     },
     "execution_count": 65,
     "metadata": {},
     "output_type": "execute_result"
    }
   ],
   "source": [
    "#r2 for linear regression train\n",
    "r2_score(lr, X_train_lassoed, y_train)"
   ]
  },
  {
   "cell_type": "code",
   "execution_count": 66,
   "metadata": {},
   "outputs": [],
   "source": [
    "#predict\n",
    "y_preds_linear1 = lr.predict(X_test_lassoed)"
   ]
  },
  {
   "cell_type": "code",
   "execution_count": 67,
   "metadata": {},
   "outputs": [
    {
     "name": "stdout",
     "output_type": "stream",
     "text": [
      "lr r2: 0.8874168524310587\n",
      "lr RMSE: 27418.71895531701\n"
     ]
    }
   ],
   "source": [
    "# R2 and RMSE for linear regression test\n",
    "print('lr r2:', lr.score(X_test_lassoed, y_test))\n",
    "print('lr RMSE:', np.sqrt(metrics.mean_squared_error(y_test, y_preds_linear1)))"
   ]
  },
  {
   "cell_type": "markdown",
   "metadata": {},
   "source": [
    "The model performs terribly on train sets but performs surprisingly well on test.This is similar to what we observed in our earlier evaluation."
   ]
  },
  {
   "cell_type": "markdown",
   "metadata": {},
   "source": [
    "#### Ridge Regression"
   ]
  },
  {
   "cell_type": "code",
   "execution_count": 68,
   "metadata": {},
   "outputs": [
    {
     "name": "stdout",
     "output_type": "stream",
     "text": [
      "optimal ridge alpha:  1.3354515629298989\n",
      "ridge R2:  0.8928832405585494\n"
     ]
    }
   ],
   "source": [
    "#get new optimal alpha\n",
    "r_alpha = np.logspace (0,5,200)\n",
    "\n",
    "ridgecv = RidgeCV(alphas = r_alpha, cv = 5)\n",
    "ridgecv = ridgecv.fit(X_train_lassoed, y_train)\n",
    "\n",
    "print('optimal ridge alpha: ', ridgecv.alpha_)\n",
    "print('ridge R2: ', ridgecv.score(X_train_lassoed, y_train))"
   ]
  },
  {
   "cell_type": "code",
   "execution_count": 69,
   "metadata": {
    "scrolled": true
   },
   "outputs": [],
   "source": [
    "ridge = Ridge(alpha = ridgecv.alpha_)"
   ]
  },
  {
   "cell_type": "code",
   "execution_count": 70,
   "metadata": {
    "scrolled": true
   },
   "outputs": [
    {
     "data": {
      "text/plain": [
       "Ridge(alpha=1.3354515629298989)"
      ]
     },
     "execution_count": 70,
     "metadata": {},
     "output_type": "execute_result"
    }
   ],
   "source": [
    "#fit the model\n",
    "ridge.fit(X_train_lassoed, y_train)"
   ]
  },
  {
   "cell_type": "code",
   "execution_count": 71,
   "metadata": {},
   "outputs": [
    {
     "data": {
      "text/plain": [
       "('RMSE:', 27382.11582732623)"
      ]
     },
     "execution_count": 71,
     "metadata": {},
     "output_type": "execute_result"
    }
   ],
   "source": [
    "#RMSE for ridge\n",
    "rmse(ridge, X_train_lassoed, y_train)"
   ]
  },
  {
   "cell_type": "code",
   "execution_count": 72,
   "metadata": {},
   "outputs": [
    {
     "data": {
      "text/plain": [
       "('r2: ', 0.8928832405585494)"
      ]
     },
     "execution_count": 72,
     "metadata": {},
     "output_type": "execute_result"
    }
   ],
   "source": [
    "#r2 for ridge\n",
    "r2_score(ridge, X_train_lassoed, y_train)"
   ]
  },
  {
   "cell_type": "code",
   "execution_count": 73,
   "metadata": {},
   "outputs": [],
   "source": [
    "#predict\n",
    "y_preds_ridge1 = ridge.predict(X_test_lassoed)"
   ]
  },
  {
   "cell_type": "code",
   "execution_count": 74,
   "metadata": {
    "scrolled": true
   },
   "outputs": [
    {
     "name": "stdout",
     "output_type": "stream",
     "text": [
      "ridge r2: 0.8886306789028453\n",
      "ridge RMSE: 27270.50955797933\n"
     ]
    }
   ],
   "source": [
    "# R2 and RMSE for linear regression test\n",
    "print('ridge r2:', ridge.score(X_test_lassoed, y_test))\n",
    "print('ridge RMSE:', np.sqrt(metrics.mean_squared_error(y_test, y_preds_ridge1)))"
   ]
  },
  {
   "cell_type": "markdown",
   "metadata": {},
   "source": [
    "Similar to earlier observations, ridge has consistently performed well on the training and testing(holdout) sets."
   ]
  },
  {
   "cell_type": "markdown",
   "metadata": {},
   "source": [
    "#### Lasso Regression"
   ]
  },
  {
   "cell_type": "code",
   "execution_count": 75,
   "metadata": {},
   "outputs": [
    {
     "name": "stdout",
     "output_type": "stream",
     "text": [
      "optimal lasso alpha:  66.72987873883862\n",
      "lasso R2:  0.8893830835156565\n"
     ]
    }
   ],
   "source": [
    "#get new optimal alpha\n",
    "lassocv = LassoCV(n_alphas = 200, cv = 5)\n",
    "lassocv = lassocv.fit(X_train_lassoed, y_train)\n",
    "\n",
    "print('optimal lasso alpha: ', lassocv.alpha_)\n",
    "print('lasso R2: ', lassocv.score(X_train_lassoed, y_train))"
   ]
  },
  {
   "cell_type": "code",
   "execution_count": 76,
   "metadata": {},
   "outputs": [],
   "source": [
    "lasso = Lasso(alpha = lassocv.alpha_)"
   ]
  },
  {
   "cell_type": "code",
   "execution_count": 77,
   "metadata": {
    "scrolled": true
   },
   "outputs": [
    {
     "data": {
      "text/plain": [
       "Lasso(alpha=66.72987873883862)"
      ]
     },
     "execution_count": 77,
     "metadata": {},
     "output_type": "execute_result"
    }
   ],
   "source": [
    "#fit the model\n",
    "lasso.fit(X_train_lassoed, y_train)"
   ]
  },
  {
   "cell_type": "code",
   "execution_count": 78,
   "metadata": {},
   "outputs": [
    {
     "data": {
      "text/plain": [
       "('RMSE:', 27715.40814930706)"
      ]
     },
     "execution_count": 78,
     "metadata": {},
     "output_type": "execute_result"
    }
   ],
   "source": [
    "#RMSE for lasso train\n",
    "rmse(lasso, X_train_lassoed, y_train)"
   ]
  },
  {
   "cell_type": "code",
   "execution_count": 79,
   "metadata": {},
   "outputs": [
    {
     "data": {
      "text/plain": [
       "('r2: ', 0.8893830835156565)"
      ]
     },
     "execution_count": 79,
     "metadata": {},
     "output_type": "execute_result"
    }
   ],
   "source": [
    "#r2 for lasso train\n",
    "r2_score(lasso, X_train_lassoed, y_train)"
   ]
  },
  {
   "cell_type": "code",
   "execution_count": 80,
   "metadata": {},
   "outputs": [],
   "source": [
    "#predict\n",
    "y_preds_lasso1 = lasso.predict(X_test_lassoed)"
   ]
  },
  {
   "cell_type": "code",
   "execution_count": 81,
   "metadata": {},
   "outputs": [
    {
     "name": "stdout",
     "output_type": "stream",
     "text": [
      "lasso r2: 0.886356292730526\n",
      "lasso RMSE: 27547.56162169876\n"
     ]
    }
   ],
   "source": [
    "# R2 and RMSE for linear regression test\n",
    "print('lasso r2:', lasso.score(X_test_lassoed, y_test))\n",
    "print('lasso RMSE:', np.sqrt(metrics.mean_squared_error(y_test, y_preds_lasso1)))"
   ]
  },
  {
   "cell_type": "markdown",
   "metadata": {},
   "source": [
    "Ridge regression still works the best, comparing across scores for train and test (holdout) sets."
   ]
  },
  {
   "cell_type": "markdown",
   "metadata": {},
   "source": [
    "## Building production model (Submission to Kaggle) <a class=\"anchor\" id=\"kaggle\"></a>"
   ]
  },
  {
   "cell_type": "markdown",
   "metadata": {},
   "source": [
    "Loading the train and test csv files"
   ]
  },
  {
   "cell_type": "code",
   "execution_count": 82,
   "metadata": {},
   "outputs": [],
   "source": [
    "#load test.csv\n",
    "test_df = pd.read_csv('datasets/test_final.csv', keep_default_na=False)"
   ]
  },
  {
   "cell_type": "code",
   "execution_count": 83,
   "metadata": {
    "scrolled": true
   },
   "outputs": [
    {
     "data": {
      "text/html": [
       "<div>\n",
       "<style scoped>\n",
       "    .dataframe tbody tr th:only-of-type {\n",
       "        vertical-align: middle;\n",
       "    }\n",
       "\n",
       "    .dataframe tbody tr th {\n",
       "        vertical-align: top;\n",
       "    }\n",
       "\n",
       "    .dataframe thead th {\n",
       "        text-align: right;\n",
       "    }\n",
       "</style>\n",
       "<table border=\"1\" class=\"dataframe\">\n",
       "  <thead>\n",
       "    <tr style=\"text-align: right;\">\n",
       "      <th></th>\n",
       "      <th>Unnamed: 0</th>\n",
       "      <th>id</th>\n",
       "      <th>mssubclass</th>\n",
       "      <th>lotconfig</th>\n",
       "      <th>neighborhood</th>\n",
       "      <th>bldgtype</th>\n",
       "      <th>housestyle</th>\n",
       "      <th>yearbuilt</th>\n",
       "      <th>yearremod/add</th>\n",
       "      <th>roofstyle</th>\n",
       "      <th>...</th>\n",
       "      <th>grlivarea</th>\n",
       "      <th>fullbath</th>\n",
       "      <th>totrmsabvgrd</th>\n",
       "      <th>garagefinish</th>\n",
       "      <th>garagecars</th>\n",
       "      <th>saletype</th>\n",
       "      <th>agesold</th>\n",
       "      <th>total_sqft</th>\n",
       "      <th>totalqual</th>\n",
       "      <th>combined_exterior</th>\n",
       "    </tr>\n",
       "  </thead>\n",
       "  <tbody>\n",
       "    <tr>\n",
       "      <th>0</th>\n",
       "      <td>0</td>\n",
       "      <td>2658</td>\n",
       "      <td>190</td>\n",
       "      <td>Inside</td>\n",
       "      <td>OldTown</td>\n",
       "      <td>2fmCon</td>\n",
       "      <td>2Story</td>\n",
       "      <td>1910</td>\n",
       "      <td>1950</td>\n",
       "      <td>Gable</td>\n",
       "      <td>...</td>\n",
       "      <td>1928</td>\n",
       "      <td>2</td>\n",
       "      <td>9</td>\n",
       "      <td>1.0</td>\n",
       "      <td>1</td>\n",
       "      <td>WD</td>\n",
       "      <td>96</td>\n",
       "      <td>3388</td>\n",
       "      <td>13.0</td>\n",
       "      <td>AsbShngAsbShng</td>\n",
       "    </tr>\n",
       "    <tr>\n",
       "      <th>1</th>\n",
       "      <td>1</td>\n",
       "      <td>2718</td>\n",
       "      <td>90</td>\n",
       "      <td>Inside</td>\n",
       "      <td>Sawyer</td>\n",
       "      <td>Duplex</td>\n",
       "      <td>1Story</td>\n",
       "      <td>1977</td>\n",
       "      <td>1977</td>\n",
       "      <td>Gable</td>\n",
       "      <td>...</td>\n",
       "      <td>1967</td>\n",
       "      <td>2</td>\n",
       "      <td>10</td>\n",
       "      <td>3.0</td>\n",
       "      <td>2</td>\n",
       "      <td>WD</td>\n",
       "      <td>29</td>\n",
       "      <td>4514</td>\n",
       "      <td>15.0</td>\n",
       "      <td>PlywoodPlywood</td>\n",
       "    </tr>\n",
       "    <tr>\n",
       "      <th>2</th>\n",
       "      <td>2</td>\n",
       "      <td>2414</td>\n",
       "      <td>60</td>\n",
       "      <td>Inside</td>\n",
       "      <td>Gilbert</td>\n",
       "      <td>1Fam</td>\n",
       "      <td>2Story</td>\n",
       "      <td>2006</td>\n",
       "      <td>2006</td>\n",
       "      <td>Gable</td>\n",
       "      <td>...</td>\n",
       "      <td>1496</td>\n",
       "      <td>2</td>\n",
       "      <td>7</td>\n",
       "      <td>2.0</td>\n",
       "      <td>2</td>\n",
       "      <td>New</td>\n",
       "      <td>0</td>\n",
       "      <td>2576</td>\n",
       "      <td>19.0</td>\n",
       "      <td>VinylSdVinylSd</td>\n",
       "    </tr>\n",
       "    <tr>\n",
       "      <th>3</th>\n",
       "      <td>3</td>\n",
       "      <td>1989</td>\n",
       "      <td>30</td>\n",
       "      <td>Inside</td>\n",
       "      <td>OldTown</td>\n",
       "      <td>1Fam</td>\n",
       "      <td>1Story</td>\n",
       "      <td>1923</td>\n",
       "      <td>2006</td>\n",
       "      <td>Gable</td>\n",
       "      <td>...</td>\n",
       "      <td>968</td>\n",
       "      <td>1</td>\n",
       "      <td>5</td>\n",
       "      <td>1.0</td>\n",
       "      <td>2</td>\n",
       "      <td>WD</td>\n",
       "      <td>84</td>\n",
       "      <td>2416</td>\n",
       "      <td>15.0</td>\n",
       "      <td>Wd SdngWd Sdng</td>\n",
       "    </tr>\n",
       "    <tr>\n",
       "      <th>4</th>\n",
       "      <td>4</td>\n",
       "      <td>625</td>\n",
       "      <td>20</td>\n",
       "      <td>Inside</td>\n",
       "      <td>NAmes</td>\n",
       "      <td>1Fam</td>\n",
       "      <td>1Story</td>\n",
       "      <td>1963</td>\n",
       "      <td>1963</td>\n",
       "      <td>Gable</td>\n",
       "      <td>...</td>\n",
       "      <td>1394</td>\n",
       "      <td>1</td>\n",
       "      <td>6</td>\n",
       "      <td>2.0</td>\n",
       "      <td>2</td>\n",
       "      <td>WD</td>\n",
       "      <td>46</td>\n",
       "      <td>3302</td>\n",
       "      <td>16.0</td>\n",
       "      <td>PlywoodPlywood</td>\n",
       "    </tr>\n",
       "  </tbody>\n",
       "</table>\n",
       "<p>5 rows × 25 columns</p>\n",
       "</div>"
      ],
      "text/plain": [
       "   Unnamed: 0    id  mssubclass lotconfig neighborhood bldgtype housestyle  \\\n",
       "0           0  2658         190    Inside      OldTown   2fmCon     2Story   \n",
       "1           1  2718          90    Inside       Sawyer   Duplex     1Story   \n",
       "2           2  2414          60    Inside      Gilbert     1Fam     2Story   \n",
       "3           3  1989          30    Inside      OldTown     1Fam     1Story   \n",
       "4           4   625          20    Inside        NAmes     1Fam     1Story   \n",
       "\n",
       "   yearbuilt  yearremod/add roofstyle  ... grlivarea fullbath  totrmsabvgrd  \\\n",
       "0       1910           1950     Gable  ...      1928        2             9   \n",
       "1       1977           1977     Gable  ...      1967        2            10   \n",
       "2       2006           2006     Gable  ...      1496        2             7   \n",
       "3       1923           2006     Gable  ...       968        1             5   \n",
       "4       1963           1963     Gable  ...      1394        1             6   \n",
       "\n",
       "  garagefinish  garagecars  saletype  agesold  total_sqft  totalqual  \\\n",
       "0          1.0           1       WD        96        3388       13.0   \n",
       "1          3.0           2       WD        29        4514       15.0   \n",
       "2          2.0           2       New        0        2576       19.0   \n",
       "3          1.0           2       WD        84        2416       15.0   \n",
       "4          2.0           2       WD        46        3302       16.0   \n",
       "\n",
       "   combined_exterior  \n",
       "0     AsbShngAsbShng  \n",
       "1     PlywoodPlywood  \n",
       "2     VinylSdVinylSd  \n",
       "3     Wd SdngWd Sdng  \n",
       "4     PlywoodPlywood  \n",
       "\n",
       "[5 rows x 25 columns]"
      ]
     },
     "execution_count": 83,
     "metadata": {},
     "output_type": "execute_result"
    }
   ],
   "source": [
    "test_df.head()"
   ]
  },
  {
   "cell_type": "code",
   "execution_count": 84,
   "metadata": {},
   "outputs": [],
   "source": [
    "#dropping unnamed column \n",
    "test_df = test_df.drop('Unnamed: 0', axis=1)"
   ]
  },
  {
   "cell_type": "code",
   "execution_count": 85,
   "metadata": {},
   "outputs": [],
   "source": [
    "#converting mssubclass to string again as it changes back to int after being read into a DataFrame\n",
    "test_df['mssubclass'] = test_df['mssubclass'].astype(str) "
   ]
  },
  {
   "cell_type": "code",
   "execution_count": 86,
   "metadata": {},
   "outputs": [],
   "source": [
    "# importing train csv\n",
    "train_df = pd.read_csv('datasets/train_final.csv', keep_default_na=False)"
   ]
  },
  {
   "cell_type": "code",
   "execution_count": 87,
   "metadata": {},
   "outputs": [
    {
     "data": {
      "text/html": [
       "<div>\n",
       "<style scoped>\n",
       "    .dataframe tbody tr th:only-of-type {\n",
       "        vertical-align: middle;\n",
       "    }\n",
       "\n",
       "    .dataframe tbody tr th {\n",
       "        vertical-align: top;\n",
       "    }\n",
       "\n",
       "    .dataframe thead th {\n",
       "        text-align: right;\n",
       "    }\n",
       "</style>\n",
       "<table border=\"1\" class=\"dataframe\">\n",
       "  <thead>\n",
       "    <tr style=\"text-align: right;\">\n",
       "      <th></th>\n",
       "      <th>Unnamed: 0</th>\n",
       "      <th>id</th>\n",
       "      <th>mssubclass</th>\n",
       "      <th>lotconfig</th>\n",
       "      <th>neighborhood</th>\n",
       "      <th>bldgtype</th>\n",
       "      <th>housestyle</th>\n",
       "      <th>yearbuilt</th>\n",
       "      <th>yearremod/add</th>\n",
       "      <th>roofstyle</th>\n",
       "      <th>...</th>\n",
       "      <th>fullbath</th>\n",
       "      <th>totrmsabvgrd</th>\n",
       "      <th>garagefinish</th>\n",
       "      <th>garagecars</th>\n",
       "      <th>saletype</th>\n",
       "      <th>saleprice</th>\n",
       "      <th>agesold</th>\n",
       "      <th>total_sqft</th>\n",
       "      <th>totalqual</th>\n",
       "      <th>combined_exterior</th>\n",
       "    </tr>\n",
       "  </thead>\n",
       "  <tbody>\n",
       "    <tr>\n",
       "      <th>0</th>\n",
       "      <td>0</td>\n",
       "      <td>109</td>\n",
       "      <td>60</td>\n",
       "      <td>CulDSac</td>\n",
       "      <td>Sawyer</td>\n",
       "      <td>1Fam</td>\n",
       "      <td>2Story</td>\n",
       "      <td>1976</td>\n",
       "      <td>2005</td>\n",
       "      <td>Gable</td>\n",
       "      <td>...</td>\n",
       "      <td>2</td>\n",
       "      <td>6</td>\n",
       "      <td>2.0</td>\n",
       "      <td>2.0</td>\n",
       "      <td>WD</td>\n",
       "      <td>130500</td>\n",
       "      <td>34</td>\n",
       "      <td>2679.0</td>\n",
       "      <td>17.0</td>\n",
       "      <td>HdBoardPlywood</td>\n",
       "    </tr>\n",
       "    <tr>\n",
       "      <th>1</th>\n",
       "      <td>1</td>\n",
       "      <td>544</td>\n",
       "      <td>60</td>\n",
       "      <td>CulDSac</td>\n",
       "      <td>SawyerW</td>\n",
       "      <td>1Fam</td>\n",
       "      <td>2Story</td>\n",
       "      <td>1996</td>\n",
       "      <td>1997</td>\n",
       "      <td>Gable</td>\n",
       "      <td>...</td>\n",
       "      <td>2</td>\n",
       "      <td>8</td>\n",
       "      <td>2.0</td>\n",
       "      <td>2.0</td>\n",
       "      <td>WD</td>\n",
       "      <td>220000</td>\n",
       "      <td>13</td>\n",
       "      <td>3594.0</td>\n",
       "      <td>19.0</td>\n",
       "      <td>VinylSdVinylSd</td>\n",
       "    </tr>\n",
       "    <tr>\n",
       "      <th>2</th>\n",
       "      <td>2</td>\n",
       "      <td>153</td>\n",
       "      <td>20</td>\n",
       "      <td>Inside</td>\n",
       "      <td>NAmes</td>\n",
       "      <td>1Fam</td>\n",
       "      <td>1Story</td>\n",
       "      <td>1953</td>\n",
       "      <td>2007</td>\n",
       "      <td>Gable</td>\n",
       "      <td>...</td>\n",
       "      <td>1</td>\n",
       "      <td>5</td>\n",
       "      <td>1.0</td>\n",
       "      <td>1.0</td>\n",
       "      <td>WD</td>\n",
       "      <td>109000</td>\n",
       "      <td>57</td>\n",
       "      <td>2360.0</td>\n",
       "      <td>15.0</td>\n",
       "      <td>VinylSdVinylSd</td>\n",
       "    </tr>\n",
       "    <tr>\n",
       "      <th>3</th>\n",
       "      <td>3</td>\n",
       "      <td>318</td>\n",
       "      <td>60</td>\n",
       "      <td>Inside</td>\n",
       "      <td>Timber</td>\n",
       "      <td>1Fam</td>\n",
       "      <td>2Story</td>\n",
       "      <td>2006</td>\n",
       "      <td>2007</td>\n",
       "      <td>Gable</td>\n",
       "      <td>...</td>\n",
       "      <td>2</td>\n",
       "      <td>7</td>\n",
       "      <td>3.0</td>\n",
       "      <td>2.0</td>\n",
       "      <td>WD</td>\n",
       "      <td>174000</td>\n",
       "      <td>4</td>\n",
       "      <td>2228.0</td>\n",
       "      <td>15.0</td>\n",
       "      <td>VinylSdVinylSd</td>\n",
       "    </tr>\n",
       "    <tr>\n",
       "      <th>4</th>\n",
       "      <td>4</td>\n",
       "      <td>255</td>\n",
       "      <td>50</td>\n",
       "      <td>Inside</td>\n",
       "      <td>SawyerW</td>\n",
       "      <td>1Fam</td>\n",
       "      <td>1.5Fin</td>\n",
       "      <td>1900</td>\n",
       "      <td>1993</td>\n",
       "      <td>Gable</td>\n",
       "      <td>...</td>\n",
       "      <td>2</td>\n",
       "      <td>6</td>\n",
       "      <td>1.0</td>\n",
       "      <td>2.0</td>\n",
       "      <td>WD</td>\n",
       "      <td>138500</td>\n",
       "      <td>110</td>\n",
       "      <td>2605.0</td>\n",
       "      <td>14.0</td>\n",
       "      <td>Wd SdngPlywood</td>\n",
       "    </tr>\n",
       "  </tbody>\n",
       "</table>\n",
       "<p>5 rows × 26 columns</p>\n",
       "</div>"
      ],
      "text/plain": [
       "   Unnamed: 0   id  mssubclass lotconfig neighborhood bldgtype housestyle  \\\n",
       "0           0  109          60   CulDSac       Sawyer     1Fam     2Story   \n",
       "1           1  544          60   CulDSac      SawyerW     1Fam     2Story   \n",
       "2           2  153          20    Inside        NAmes     1Fam     1Story   \n",
       "3           3  318          60    Inside       Timber     1Fam     2Story   \n",
       "4           4  255          50    Inside      SawyerW     1Fam     1.5Fin   \n",
       "\n",
       "   yearbuilt  yearremod/add roofstyle  ... fullbath totrmsabvgrd  \\\n",
       "0       1976           2005     Gable  ...        2            6   \n",
       "1       1996           1997     Gable  ...        2            8   \n",
       "2       1953           2007     Gable  ...        1            5   \n",
       "3       2006           2007     Gable  ...        2            7   \n",
       "4       1900           1993     Gable  ...        2            6   \n",
       "\n",
       "   garagefinish garagecars  saletype  saleprice  agesold  total_sqft  \\\n",
       "0           2.0        2.0       WD      130500       34      2679.0   \n",
       "1           2.0        2.0       WD      220000       13      3594.0   \n",
       "2           1.0        1.0       WD      109000       57      2360.0   \n",
       "3           3.0        2.0       WD      174000        4      2228.0   \n",
       "4           1.0        2.0       WD      138500      110      2605.0   \n",
       "\n",
       "   totalqual  combined_exterior  \n",
       "0       17.0     HdBoardPlywood  \n",
       "1       19.0     VinylSdVinylSd  \n",
       "2       15.0     VinylSdVinylSd  \n",
       "3       15.0     VinylSdVinylSd  \n",
       "4       14.0     Wd SdngPlywood  \n",
       "\n",
       "[5 rows x 26 columns]"
      ]
     },
     "execution_count": 87,
     "metadata": {},
     "output_type": "execute_result"
    }
   ],
   "source": [
    "train_df.head()"
   ]
  },
  {
   "cell_type": "code",
   "execution_count": 88,
   "metadata": {},
   "outputs": [],
   "source": [
    "train_df = train_df.drop('Unnamed: 0', axis=1)"
   ]
  },
  {
   "cell_type": "code",
   "execution_count": 89,
   "metadata": {
    "scrolled": true
   },
   "outputs": [],
   "source": [
    "train_df['mssubclass'] = train_df['mssubclass'].astype(str) "
   ]
  },
  {
   "cell_type": "markdown",
   "metadata": {},
   "source": [
    "#### Scaling numerical features (train)"
   ]
  },
  {
   "cell_type": "code",
   "execution_count": 90,
   "metadata": {},
   "outputs": [],
   "source": [
    "Xtrain = train_df.drop('saleprice', axis=1)\n",
    "Xtest = test_df"
   ]
  },
  {
   "cell_type": "code",
   "execution_count": 91,
   "metadata": {},
   "outputs": [],
   "source": [
    "Xtrain_scaled = ss.fit_transform(Xtrain[non_cat])\n",
    "Xtest_scaled = ss.transform(Xtest[non_cat])"
   ]
  },
  {
   "cell_type": "code",
   "execution_count": 92,
   "metadata": {},
   "outputs": [],
   "source": [
    "Xtrain_scaled = pd.DataFrame(Xtrain_scaled, columns=Xtrain[non_cat].columns)"
   ]
  },
  {
   "cell_type": "markdown",
   "metadata": {},
   "source": [
    "#### Encoding categorical features (train)"
   ]
  },
  {
   "cell_type": "code",
   "execution_count": 93,
   "metadata": {},
   "outputs": [],
   "source": [
    "Xtrain_dum = pd.get_dummies(Xtrain[cat], drop_first=True).reset_index(drop=True)"
   ]
  },
  {
   "cell_type": "code",
   "execution_count": 94,
   "metadata": {},
   "outputs": [],
   "source": [
    "#combining the scaled and encoded features \n",
    "Xtrain_combined = pd.concat([Xtrain_scaled, Xtrain_dum], axis=1)"
   ]
  },
  {
   "cell_type": "code",
   "execution_count": 95,
   "metadata": {
    "scrolled": false
   },
   "outputs": [
    {
     "data": {
      "text/html": [
       "<div>\n",
       "<style scoped>\n",
       "    .dataframe tbody tr th:only-of-type {\n",
       "        vertical-align: middle;\n",
       "    }\n",
       "\n",
       "    .dataframe tbody tr th {\n",
       "        vertical-align: top;\n",
       "    }\n",
       "\n",
       "    .dataframe thead th {\n",
       "        text-align: right;\n",
       "    }\n",
       "</style>\n",
       "<table border=\"1\" class=\"dataframe\">\n",
       "  <thead>\n",
       "    <tr style=\"text-align: right;\">\n",
       "      <th></th>\n",
       "      <th>yearbuilt</th>\n",
       "      <th>yearremod/add</th>\n",
       "      <th>masvnrarea</th>\n",
       "      <th>totalbsmtsf</th>\n",
       "      <th>grlivarea</th>\n",
       "      <th>fullbath</th>\n",
       "      <th>totrmsabvgrd</th>\n",
       "      <th>garagefinish</th>\n",
       "      <th>garagecars</th>\n",
       "      <th>agesold</th>\n",
       "      <th>...</th>\n",
       "      <th>mssubclass_30</th>\n",
       "      <th>mssubclass_40</th>\n",
       "      <th>mssubclass_45</th>\n",
       "      <th>mssubclass_50</th>\n",
       "      <th>mssubclass_60</th>\n",
       "      <th>mssubclass_70</th>\n",
       "      <th>mssubclass_75</th>\n",
       "      <th>mssubclass_80</th>\n",
       "      <th>mssubclass_85</th>\n",
       "      <th>mssubclass_90</th>\n",
       "    </tr>\n",
       "  </thead>\n",
       "  <tbody>\n",
       "    <tr>\n",
       "      <th>0</th>\n",
       "      <td>0.142701</td>\n",
       "      <td>0.990993</td>\n",
       "      <td>1.112216</td>\n",
       "      <td>-0.768828</td>\n",
       "      <td>-0.033745</td>\n",
       "      <td>0.770677</td>\n",
       "      <td>-0.277881</td>\n",
       "      <td>0.308944</td>\n",
       "      <td>0.293264</td>\n",
       "      <td>-0.068877</td>\n",
       "      <td>...</td>\n",
       "      <td>0</td>\n",
       "      <td>0</td>\n",
       "      <td>0</td>\n",
       "      <td>0</td>\n",
       "      <td>1</td>\n",
       "      <td>0</td>\n",
       "      <td>0</td>\n",
       "      <td>0</td>\n",
       "      <td>0</td>\n",
       "      <td>0</td>\n",
       "    </tr>\n",
       "    <tr>\n",
       "      <th>1</th>\n",
       "      <td>0.806005</td>\n",
       "      <td>0.610589</td>\n",
       "      <td>0.199016</td>\n",
       "      <td>-0.328333</td>\n",
       "      <td>1.290041</td>\n",
       "      <td>0.770677</td>\n",
       "      <td>1.017001</td>\n",
       "      <td>0.308944</td>\n",
       "      <td>0.293264</td>\n",
       "      <td>-0.764573</td>\n",
       "      <td>...</td>\n",
       "      <td>0</td>\n",
       "      <td>0</td>\n",
       "      <td>0</td>\n",
       "      <td>0</td>\n",
       "      <td>1</td>\n",
       "      <td>0</td>\n",
       "      <td>0</td>\n",
       "      <td>0</td>\n",
       "      <td>0</td>\n",
       "      <td>0</td>\n",
       "    </tr>\n",
       "    <tr>\n",
       "      <th>2</th>\n",
       "      <td>-0.620098</td>\n",
       "      <td>1.086095</td>\n",
       "      <td>-0.568771</td>\n",
       "      <td>0.009067</td>\n",
       "      <td>-0.902544</td>\n",
       "      <td>-1.049792</td>\n",
       "      <td>-0.925322</td>\n",
       "      <td>-0.804995</td>\n",
       "      <td>-1.015243</td>\n",
       "      <td>0.693075</td>\n",
       "      <td>...</td>\n",
       "      <td>0</td>\n",
       "      <td>0</td>\n",
       "      <td>0</td>\n",
       "      <td>0</td>\n",
       "      <td>0</td>\n",
       "      <td>0</td>\n",
       "      <td>0</td>\n",
       "      <td>0</td>\n",
       "      <td>0</td>\n",
       "      <td>0</td>\n",
       "    </tr>\n",
       "    <tr>\n",
       "      <th>3</th>\n",
       "      <td>1.137656</td>\n",
       "      <td>1.086095</td>\n",
       "      <td>-0.568771</td>\n",
       "      <td>-1.567811</td>\n",
       "      <td>-0.105802</td>\n",
       "      <td>0.770677</td>\n",
       "      <td>0.369560</td>\n",
       "      <td>1.422883</td>\n",
       "      <td>0.293264</td>\n",
       "      <td>-1.062728</td>\n",
       "      <td>...</td>\n",
       "      <td>0</td>\n",
       "      <td>0</td>\n",
       "      <td>0</td>\n",
       "      <td>0</td>\n",
       "      <td>1</td>\n",
       "      <td>0</td>\n",
       "      <td>0</td>\n",
       "      <td>0</td>\n",
       "      <td>0</td>\n",
       "      <td>0</td>\n",
       "    </tr>\n",
       "    <tr>\n",
       "      <th>4</th>\n",
       "      <td>-2.377853</td>\n",
       "      <td>0.420386</td>\n",
       "      <td>-0.568771</td>\n",
       "      <td>-0.883638</td>\n",
       "      <td>-0.103743</td>\n",
       "      <td>0.770677</td>\n",
       "      <td>-0.277881</td>\n",
       "      <td>-0.804995</td>\n",
       "      <td>0.293264</td>\n",
       "      <td>2.448878</td>\n",
       "      <td>...</td>\n",
       "      <td>0</td>\n",
       "      <td>0</td>\n",
       "      <td>0</td>\n",
       "      <td>1</td>\n",
       "      <td>0</td>\n",
       "      <td>0</td>\n",
       "      <td>0</td>\n",
       "      <td>0</td>\n",
       "      <td>0</td>\n",
       "      <td>0</td>\n",
       "    </tr>\n",
       "  </tbody>\n",
       "</table>\n",
       "<p>5 rows × 167 columns</p>\n",
       "</div>"
      ],
      "text/plain": [
       "   yearbuilt  yearremod/add  masvnrarea  totalbsmtsf  grlivarea  fullbath  \\\n",
       "0   0.142701       0.990993    1.112216    -0.768828  -0.033745  0.770677   \n",
       "1   0.806005       0.610589    0.199016    -0.328333   1.290041  0.770677   \n",
       "2  -0.620098       1.086095   -0.568771     0.009067  -0.902544 -1.049792   \n",
       "3   1.137656       1.086095   -0.568771    -1.567811  -0.105802  0.770677   \n",
       "4  -2.377853       0.420386   -0.568771    -0.883638  -0.103743  0.770677   \n",
       "\n",
       "   totrmsabvgrd  garagefinish  garagecars   agesold  ...  mssubclass_30  \\\n",
       "0     -0.277881      0.308944    0.293264 -0.068877  ...              0   \n",
       "1      1.017001      0.308944    0.293264 -0.764573  ...              0   \n",
       "2     -0.925322     -0.804995   -1.015243  0.693075  ...              0   \n",
       "3      0.369560      1.422883    0.293264 -1.062728  ...              0   \n",
       "4     -0.277881     -0.804995    0.293264  2.448878  ...              0   \n",
       "\n",
       "   mssubclass_40  mssubclass_45  mssubclass_50  mssubclass_60  mssubclass_70  \\\n",
       "0              0              0              0              1              0   \n",
       "1              0              0              0              1              0   \n",
       "2              0              0              0              0              0   \n",
       "3              0              0              0              1              0   \n",
       "4              0              0              1              0              0   \n",
       "\n",
       "   mssubclass_75  mssubclass_80  mssubclass_85  mssubclass_90  \n",
       "0              0              0              0              0  \n",
       "1              0              0              0              0  \n",
       "2              0              0              0              0  \n",
       "3              0              0              0              0  \n",
       "4              0              0              0              0  \n",
       "\n",
       "[5 rows x 167 columns]"
      ]
     },
     "execution_count": 95,
     "metadata": {},
     "output_type": "execute_result"
    }
   ],
   "source": [
    "Xtrain_combined.head()"
   ]
  },
  {
   "cell_type": "code",
   "execution_count": 96,
   "metadata": {},
   "outputs": [
    {
     "data": {
      "text/plain": [
       "0"
      ]
     },
     "execution_count": 96,
     "metadata": {},
     "output_type": "execute_result"
    }
   ],
   "source": [
    "#checking for null values after concatenating\n",
    "Xtrain_combined.isnull().sum().sum()"
   ]
  },
  {
   "cell_type": "markdown",
   "metadata": {},
   "source": [
    "#### Scaling numerical features (Xtest)"
   ]
  },
  {
   "cell_type": "code",
   "execution_count": 97,
   "metadata": {},
   "outputs": [],
   "source": [
    "Xtest_scaled = pd.DataFrame(Xtest_scaled, columns=Xtest[non_cat].columns)"
   ]
  },
  {
   "cell_type": "code",
   "execution_count": 98,
   "metadata": {},
   "outputs": [],
   "source": [
    "Xtest_dum = pd.DataFrame(Xtest[cat], columns=Xtest[cat].columns)"
   ]
  },
  {
   "cell_type": "markdown",
   "metadata": {},
   "source": [
    "#### Custom encoder for Xtest dataset"
   ]
  },
  {
   "cell_type": "markdown",
   "metadata": {},
   "source": [
    "The function below was borrowed after doing some research online. I decide to manually encode the test dataset as I repeatedly encountered problems when I used pd.get_dummies directly on the dataframe, e.g. missing columns. To use the function below, we first need to declare the categorical variable, then append the related column names into a list if they can be found in lasso1_features before we call the function to encode the categorical variables one by one."
   ]
  },
  {
   "cell_type": "code",
   "execution_count": 99,
   "metadata": {},
   "outputs": [],
   "source": [
    "def custom_encoder(df, cat_var, dummies):\n",
    "    checklist = []\n",
    "    for dummy in dummies:\n",
    "        df[dummy] = 0\n",
    "        checklist.append(dummy.split('_')[1])\n",
    "    for idx, value in enumerate(df[cat_var]):\n",
    "        if value in checklist:\n",
    "            df.loc[[idx], [cat_var + '_' + value]] = 1\n",
    "        else:\n",
    "            pass\n",
    "    return df.drop(columns=cat_var)"
   ]
  },
  {
   "cell_type": "code",
   "execution_count": 100,
   "metadata": {},
   "outputs": [
    {
     "data": {
      "text/plain": [
       "['mssubclass_30',\n",
       " 'mssubclass_50',\n",
       " 'mssubclass_60',\n",
       " 'mssubclass_20',\n",
       " 'mssubclass_90',\n",
       " 'mssubclass_160']"
      ]
     },
     "execution_count": 100,
     "metadata": {},
     "output_type": "execute_result"
    }
   ],
   "source": [
    "# declare variable and check if related variable names are in lassoed features list.\n",
    "cat_var = 'mssubclass'\n",
    "mssubclass_dummies = [f for f in lasso1_features if cat_var in f] #if yes, append to dummies list\n",
    "mssubclass_dummies"
   ]
  },
  {
   "cell_type": "code",
   "execution_count": 101,
   "metadata": {},
   "outputs": [],
   "source": [
    "# call function to encode categorical variable\n",
    "Xtest_dum = custom_encoder(Xtest, 'mssubclass', mssubclass_dummies)"
   ]
  },
  {
   "cell_type": "code",
   "execution_count": 102,
   "metadata": {},
   "outputs": [
    {
     "data": {
      "text/plain": [
       "['lotconfig_CulDSac', 'lotconfig_Inside']"
      ]
     },
     "execution_count": 102,
     "metadata": {},
     "output_type": "execute_result"
    }
   ],
   "source": [
    "cat_var= 'lotconfig'\n",
    "lotconfig_dummies = [f for f in lasso1_features if cat_var in f]\n",
    "lotconfig_dummies"
   ]
  },
  {
   "cell_type": "code",
   "execution_count": 103,
   "metadata": {},
   "outputs": [],
   "source": [
    "Xtest_dum = custom_encoder(Xtest, 'lotconfig', lotconfig_dummies)"
   ]
  },
  {
   "cell_type": "code",
   "execution_count": 104,
   "metadata": {},
   "outputs": [
    {
     "data": {
      "text/plain": [
       "['bldgtype_TwnhsE', 'bldgtype_Twnhs', 'bldgtype_Duplex']"
      ]
     },
     "execution_count": 104,
     "metadata": {},
     "output_type": "execute_result"
    }
   ],
   "source": [
    "cat_var= 'bldgtype'\n",
    "bldgtype_dummies = [f for f in lasso1_features if cat_var in f]\n",
    "bldgtype_dummies"
   ]
  },
  {
   "cell_type": "code",
   "execution_count": 105,
   "metadata": {},
   "outputs": [],
   "source": [
    "Xtest_dum = custom_encoder(Xtest, 'bldgtype', bldgtype_dummies)"
   ]
  },
  {
   "cell_type": "code",
   "execution_count": 106,
   "metadata": {},
   "outputs": [
    {
     "data": {
      "text/plain": [
       "['housestyle_2.5Unf', 'housestyle_SLvl', 'housestyle_2Story']"
      ]
     },
     "execution_count": 106,
     "metadata": {},
     "output_type": "execute_result"
    }
   ],
   "source": [
    "cat_var= 'housestyle'\n",
    "housestyle_dummies = [f for f in lasso1_features if cat_var in f]\n",
    "housestyle_dummies"
   ]
  },
  {
   "cell_type": "code",
   "execution_count": 107,
   "metadata": {},
   "outputs": [],
   "source": [
    "Xtest_dum = custom_encoder(Xtest, 'housestyle', housestyle_dummies)"
   ]
  },
  {
   "cell_type": "code",
   "execution_count": 108,
   "metadata": {},
   "outputs": [
    {
     "data": {
      "text/plain": [
       "['roofstyle_Hip', 'roofstyle_Gable', 'roofstyle_Mansard']"
      ]
     },
     "execution_count": 108,
     "metadata": {},
     "output_type": "execute_result"
    }
   ],
   "source": [
    "cat_var= 'roofstyle'\n",
    "roofstyle_dummies = [f for f in lasso1_features if cat_var in f]\n",
    "roofstyle_dummies"
   ]
  },
  {
   "cell_type": "code",
   "execution_count": 109,
   "metadata": {},
   "outputs": [],
   "source": [
    "Xtest_dum = custom_encoder(Xtest, 'roofstyle', roofstyle_dummies)"
   ]
  },
  {
   "cell_type": "code",
   "execution_count": 110,
   "metadata": {},
   "outputs": [
    {
     "data": {
      "text/plain": [
       "['roofmatl_WdShngl']"
      ]
     },
     "execution_count": 110,
     "metadata": {},
     "output_type": "execute_result"
    }
   ],
   "source": [
    "cat_var= 'roofmatl'\n",
    "roofmatl_dummies = [f for f in lasso1_features if cat_var in f]\n",
    "roofmatl_dummies"
   ]
  },
  {
   "cell_type": "code",
   "execution_count": 111,
   "metadata": {},
   "outputs": [],
   "source": [
    "Xtest_dum = custom_encoder(Xtest, 'roofmatl', roofmatl_dummies)"
   ]
  },
  {
   "cell_type": "code",
   "execution_count": 112,
   "metadata": {
    "scrolled": true
   },
   "outputs": [
    {
     "data": {
      "text/plain": [
       "['masvnrtype_Stone', 'masvnrtype_BrkFace', 'masvnrtype_None']"
      ]
     },
     "execution_count": 112,
     "metadata": {},
     "output_type": "execute_result"
    }
   ],
   "source": [
    "cat_var= 'masvnrtype'\n",
    "masvnrtype_dummies = [f for f in lasso1_features if cat_var in f]\n",
    "masvnrtype_dummies"
   ]
  },
  {
   "cell_type": "code",
   "execution_count": 113,
   "metadata": {},
   "outputs": [],
   "source": [
    "Xtest_dum = custom_encoder(Xtest, 'masvnrtype', masvnrtype_dummies)"
   ]
  },
  {
   "cell_type": "code",
   "execution_count": 114,
   "metadata": {},
   "outputs": [
    {
     "data": {
      "text/plain": [
       "['neighborhood_StoneBr',\n",
       " 'neighborhood_SawyerW',\n",
       " 'neighborhood_CollgCr',\n",
       " 'neighborhood_Crawfor',\n",
       " 'neighborhood_NridgHt',\n",
       " 'neighborhood_IDOTRR',\n",
       " 'neighborhood_Edwards',\n",
       " 'neighborhood_Mitchel',\n",
       " 'neighborhood_OldTown',\n",
       " 'neighborhood_NAmes',\n",
       " 'neighborhood_NWAmes',\n",
       " 'neighborhood_NPkVill',\n",
       " 'neighborhood_Timber',\n",
       " 'neighborhood_Somerst',\n",
       " 'neighborhood_Gilbert',\n",
       " 'neighborhood_NoRidge',\n",
       " 'neighborhood_ClearCr',\n",
       " 'neighborhood_BrkSide',\n",
       " 'neighborhood_GrnHill']"
      ]
     },
     "execution_count": 114,
     "metadata": {},
     "output_type": "execute_result"
    }
   ],
   "source": [
    "cat_var= 'neighborhood'\n",
    "neighborhood_dummies = [f for f in lasso1_features if cat_var in f]\n",
    "neighborhood_dummies"
   ]
  },
  {
   "cell_type": "code",
   "execution_count": 115,
   "metadata": {},
   "outputs": [],
   "source": [
    "Xtest_dum = custom_encoder(Xtest, 'neighborhood', neighborhood_dummies)"
   ]
  },
  {
   "cell_type": "code",
   "execution_count": 116,
   "metadata": {
    "scrolled": true
   },
   "outputs": [
    {
     "data": {
      "text/plain": [
       "['foundation_Slab', 'foundation_CBlock']"
      ]
     },
     "execution_count": 116,
     "metadata": {},
     "output_type": "execute_result"
    }
   ],
   "source": [
    "cat_var= 'foundation'\n",
    "foundation_dummies = [f for f in lasso1_features if cat_var in f]\n",
    "foundation_dummies"
   ]
  },
  {
   "cell_type": "code",
   "execution_count": 117,
   "metadata": {},
   "outputs": [],
   "source": [
    "Xtest_dum = custom_encoder(Xtest, 'foundation', foundation_dummies)"
   ]
  },
  {
   "cell_type": "code",
   "execution_count": 118,
   "metadata": {},
   "outputs": [
    {
     "data": {
      "text/plain": [
       "['saletype_CWD', 'saletype_New', 'saletype_Con', 'saletype_WD ']"
      ]
     },
     "execution_count": 118,
     "metadata": {},
     "output_type": "execute_result"
    }
   ],
   "source": [
    "cat_var= 'saletype'\n",
    "saletype_dummies = [f for f in lasso1_features if cat_var in f]\n",
    "saletype_dummies"
   ]
  },
  {
   "cell_type": "code",
   "execution_count": 119,
   "metadata": {},
   "outputs": [],
   "source": [
    "Xtest_dum = custom_encoder(Xtest, 'saletype', saletype_dummies)"
   ]
  },
  {
   "cell_type": "code",
   "execution_count": 120,
   "metadata": {},
   "outputs": [
    {
     "data": {
      "text/plain": [
       "['combined_exterior_MetalSdMetalSd',\n",
       " 'combined_exterior_HdBoardHdBoard',\n",
       " 'combined_exterior_CemntBdCemntBd',\n",
       " 'combined_exterior_VinylSdVinylSd',\n",
       " 'combined_exterior_BrkFaceBrkFace',\n",
       " 'combined_exterior_BrkFaceWd Sdng',\n",
       " 'combined_exterior_Wd SdngWd Sdng',\n",
       " 'combined_exterior_BrkCommBrk Cmn']"
      ]
     },
     "execution_count": 120,
     "metadata": {},
     "output_type": "execute_result"
    }
   ],
   "source": [
    "cat_var = 'combined_exterior'\n",
    "combined_exterior_dummies = [f for f in lasso1_features if cat_var in f]\n",
    "combined_exterior_dummies"
   ]
  },
  {
   "cell_type": "code",
   "execution_count": 121,
   "metadata": {},
   "outputs": [],
   "source": [
    "Xtest_dum = custom_encoder(Xtest, 'combined_exterior', combined_exterior_dummies)"
   ]
  },
  {
   "cell_type": "markdown",
   "metadata": {},
   "source": [
    "Now that we are done with the manual encoding, we check the columns in the dataframe"
   ]
  },
  {
   "cell_type": "code",
   "execution_count": 122,
   "metadata": {},
   "outputs": [
    {
     "data": {
      "text/html": [
       "<div>\n",
       "<style scoped>\n",
       "    .dataframe tbody tr th:only-of-type {\n",
       "        vertical-align: middle;\n",
       "    }\n",
       "\n",
       "    .dataframe tbody tr th {\n",
       "        vertical-align: top;\n",
       "    }\n",
       "\n",
       "    .dataframe thead th {\n",
       "        text-align: right;\n",
       "    }\n",
       "</style>\n",
       "<table border=\"1\" class=\"dataframe\">\n",
       "  <thead>\n",
       "    <tr style=\"text-align: right;\">\n",
       "      <th></th>\n",
       "      <th>id</th>\n",
       "      <th>mssubclass</th>\n",
       "      <th>lotconfig</th>\n",
       "      <th>neighborhood</th>\n",
       "      <th>bldgtype</th>\n",
       "      <th>housestyle</th>\n",
       "      <th>yearbuilt</th>\n",
       "      <th>yearremod/add</th>\n",
       "      <th>roofstyle</th>\n",
       "      <th>roofmatl</th>\n",
       "      <th>...</th>\n",
       "      <th>saletype_Con</th>\n",
       "      <th>saletype_WD</th>\n",
       "      <th>combined_exterior_MetalSdMetalSd</th>\n",
       "      <th>combined_exterior_HdBoardHdBoard</th>\n",
       "      <th>combined_exterior_CemntBdCemntBd</th>\n",
       "      <th>combined_exterior_VinylSdVinylSd</th>\n",
       "      <th>combined_exterior_BrkFaceBrkFace</th>\n",
       "      <th>combined_exterior_BrkFaceWd Sdng</th>\n",
       "      <th>combined_exterior_Wd SdngWd Sdng</th>\n",
       "      <th>combined_exterior_BrkCommBrk Cmn</th>\n",
       "    </tr>\n",
       "  </thead>\n",
       "  <tbody>\n",
       "    <tr>\n",
       "      <th>0</th>\n",
       "      <td>2658</td>\n",
       "      <td>190</td>\n",
       "      <td>Inside</td>\n",
       "      <td>OldTown</td>\n",
       "      <td>2fmCon</td>\n",
       "      <td>2Story</td>\n",
       "      <td>1910</td>\n",
       "      <td>1950</td>\n",
       "      <td>Gable</td>\n",
       "      <td>CompShg</td>\n",
       "      <td>...</td>\n",
       "      <td>0</td>\n",
       "      <td>1</td>\n",
       "      <td>0</td>\n",
       "      <td>0</td>\n",
       "      <td>0</td>\n",
       "      <td>0</td>\n",
       "      <td>0</td>\n",
       "      <td>0</td>\n",
       "      <td>0</td>\n",
       "      <td>0</td>\n",
       "    </tr>\n",
       "    <tr>\n",
       "      <th>1</th>\n",
       "      <td>2718</td>\n",
       "      <td>90</td>\n",
       "      <td>Inside</td>\n",
       "      <td>Sawyer</td>\n",
       "      <td>Duplex</td>\n",
       "      <td>1Story</td>\n",
       "      <td>1977</td>\n",
       "      <td>1977</td>\n",
       "      <td>Gable</td>\n",
       "      <td>CompShg</td>\n",
       "      <td>...</td>\n",
       "      <td>0</td>\n",
       "      <td>1</td>\n",
       "      <td>0</td>\n",
       "      <td>0</td>\n",
       "      <td>0</td>\n",
       "      <td>0</td>\n",
       "      <td>0</td>\n",
       "      <td>0</td>\n",
       "      <td>0</td>\n",
       "      <td>0</td>\n",
       "    </tr>\n",
       "    <tr>\n",
       "      <th>2</th>\n",
       "      <td>2414</td>\n",
       "      <td>60</td>\n",
       "      <td>Inside</td>\n",
       "      <td>Gilbert</td>\n",
       "      <td>1Fam</td>\n",
       "      <td>2Story</td>\n",
       "      <td>2006</td>\n",
       "      <td>2006</td>\n",
       "      <td>Gable</td>\n",
       "      <td>CompShg</td>\n",
       "      <td>...</td>\n",
       "      <td>0</td>\n",
       "      <td>0</td>\n",
       "      <td>0</td>\n",
       "      <td>0</td>\n",
       "      <td>0</td>\n",
       "      <td>0</td>\n",
       "      <td>0</td>\n",
       "      <td>0</td>\n",
       "      <td>0</td>\n",
       "      <td>0</td>\n",
       "    </tr>\n",
       "    <tr>\n",
       "      <th>3</th>\n",
       "      <td>1989</td>\n",
       "      <td>30</td>\n",
       "      <td>Inside</td>\n",
       "      <td>OldTown</td>\n",
       "      <td>1Fam</td>\n",
       "      <td>1Story</td>\n",
       "      <td>1923</td>\n",
       "      <td>2006</td>\n",
       "      <td>Gable</td>\n",
       "      <td>CompShg</td>\n",
       "      <td>...</td>\n",
       "      <td>0</td>\n",
       "      <td>1</td>\n",
       "      <td>0</td>\n",
       "      <td>0</td>\n",
       "      <td>0</td>\n",
       "      <td>0</td>\n",
       "      <td>0</td>\n",
       "      <td>0</td>\n",
       "      <td>0</td>\n",
       "      <td>0</td>\n",
       "    </tr>\n",
       "    <tr>\n",
       "      <th>4</th>\n",
       "      <td>625</td>\n",
       "      <td>20</td>\n",
       "      <td>Inside</td>\n",
       "      <td>NAmes</td>\n",
       "      <td>1Fam</td>\n",
       "      <td>1Story</td>\n",
       "      <td>1963</td>\n",
       "      <td>1963</td>\n",
       "      <td>Gable</td>\n",
       "      <td>CompShg</td>\n",
       "      <td>...</td>\n",
       "      <td>0</td>\n",
       "      <td>1</td>\n",
       "      <td>0</td>\n",
       "      <td>0</td>\n",
       "      <td>0</td>\n",
       "      <td>0</td>\n",
       "      <td>0</td>\n",
       "      <td>0</td>\n",
       "      <td>0</td>\n",
       "      <td>0</td>\n",
       "    </tr>\n",
       "  </tbody>\n",
       "</table>\n",
       "<p>5 rows × 77 columns</p>\n",
       "</div>"
      ],
      "text/plain": [
       "     id mssubclass lotconfig neighborhood bldgtype housestyle  yearbuilt  \\\n",
       "0  2658        190    Inside      OldTown   2fmCon     2Story       1910   \n",
       "1  2718         90    Inside       Sawyer   Duplex     1Story       1977   \n",
       "2  2414         60    Inside      Gilbert     1Fam     2Story       2006   \n",
       "3  1989         30    Inside      OldTown     1Fam     1Story       1923   \n",
       "4   625         20    Inside        NAmes     1Fam     1Story       1963   \n",
       "\n",
       "   yearremod/add roofstyle roofmatl  ... saletype_Con  saletype_WD   \\\n",
       "0           1950     Gable  CompShg  ...            0             1   \n",
       "1           1977     Gable  CompShg  ...            0             1   \n",
       "2           2006     Gable  CompShg  ...            0             0   \n",
       "3           2006     Gable  CompShg  ...            0             1   \n",
       "4           1963     Gable  CompShg  ...            0             1   \n",
       "\n",
       "  combined_exterior_MetalSdMetalSd  combined_exterior_HdBoardHdBoard  \\\n",
       "0                                0                                 0   \n",
       "1                                0                                 0   \n",
       "2                                0                                 0   \n",
       "3                                0                                 0   \n",
       "4                                0                                 0   \n",
       "\n",
       "   combined_exterior_CemntBdCemntBd  combined_exterior_VinylSdVinylSd  \\\n",
       "0                                 0                                 0   \n",
       "1                                 0                                 0   \n",
       "2                                 0                                 0   \n",
       "3                                 0                                 0   \n",
       "4                                 0                                 0   \n",
       "\n",
       "   combined_exterior_BrkFaceBrkFace  combined_exterior_BrkFaceWd Sdng  \\\n",
       "0                                 0                                 0   \n",
       "1                                 0                                 0   \n",
       "2                                 0                                 0   \n",
       "3                                 0                                 0   \n",
       "4                                 0                                 0   \n",
       "\n",
       "   combined_exterior_Wd SdngWd Sdng combined_exterior_BrkCommBrk Cmn  \n",
       "0                                 0                                0  \n",
       "1                                 0                                0  \n",
       "2                                 0                                0  \n",
       "3                                 0                                0  \n",
       "4                                 0                                0  \n",
       "\n",
       "[5 rows x 77 columns]"
      ]
     },
     "execution_count": 122,
     "metadata": {},
     "output_type": "execute_result"
    }
   ],
   "source": [
    "Xtest_dum.head()"
   ]
  },
  {
   "cell_type": "markdown",
   "metadata": {},
   "source": [
    "We need to drop all the columns and leave only the encoded ones behind."
   ]
  },
  {
   "cell_type": "code",
   "execution_count": 123,
   "metadata": {},
   "outputs": [],
   "source": [
    "dropcols = non_cat + cat"
   ]
  },
  {
   "cell_type": "code",
   "execution_count": 124,
   "metadata": {},
   "outputs": [],
   "source": [
    "dropcols.remove('combined_exterior')"
   ]
  },
  {
   "cell_type": "code",
   "execution_count": 125,
   "metadata": {},
   "outputs": [],
   "source": [
    "#remove duplicate names\n",
    "dropcols = list(set(dropcols))"
   ]
  },
  {
   "cell_type": "code",
   "execution_count": 126,
   "metadata": {},
   "outputs": [],
   "source": [
    "#drop the columns not required\n",
    "Xtest_dum = Xtest_dum.drop(dropcols, axis=1)"
   ]
  },
  {
   "cell_type": "code",
   "execution_count": 127,
   "metadata": {
    "scrolled": false
   },
   "outputs": [],
   "source": [
    "#drop id \n",
    "Xtest_dum = Xtest_dum.drop('id', axis=1)"
   ]
  },
  {
   "cell_type": "markdown",
   "metadata": {},
   "source": [
    "Finally, we concatenate the scaled numerical features and encoded categorical features together."
   ]
  },
  {
   "cell_type": "code",
   "execution_count": 128,
   "metadata": {},
   "outputs": [],
   "source": [
    "Xtest_combined = pd.concat([Xtest_scaled, Xtest_dum], axis=1)"
   ]
  },
  {
   "cell_type": "code",
   "execution_count": 129,
   "metadata": {
    "scrolled": false
   },
   "outputs": [
    {
     "data": {
      "text/plain": [
       "0"
      ]
     },
     "execution_count": 129,
     "metadata": {},
     "output_type": "execute_result"
    }
   ],
   "source": [
    "#Checking for null values\n",
    "Xtest_combined.isnull().sum().sum()"
   ]
  },
  {
   "cell_type": "markdown",
   "metadata": {},
   "source": [
    "### Fitting the model and initial look at the train RMSE and R2"
   ]
  },
  {
   "cell_type": "code",
   "execution_count": 130,
   "metadata": {},
   "outputs": [],
   "source": [
    "Xtest_full = Xtest_combined[lasso1_features]  # we will use the features identified earlier"
   ]
  },
  {
   "cell_type": "code",
   "execution_count": 131,
   "metadata": {},
   "outputs": [],
   "source": [
    "X_final = Xtrain_combined[lasso1_features] # we will use the features identified earlier"
   ]
  },
  {
   "cell_type": "code",
   "execution_count": 132,
   "metadata": {},
   "outputs": [
    {
     "data": {
      "text/plain": [
       "Ridge(alpha=1.3354515629298989)"
      ]
     },
     "execution_count": 132,
     "metadata": {},
     "output_type": "execute_result"
    }
   ],
   "source": [
    "#fit\n",
    "ridge.fit(X_final, y)"
   ]
  },
  {
   "cell_type": "code",
   "execution_count": 133,
   "metadata": {},
   "outputs": [
    {
     "data": {
      "text/plain": [
       "('RMSE:', 27343.120587491725)"
      ]
     },
     "execution_count": 133,
     "metadata": {},
     "output_type": "execute_result"
    }
   ],
   "source": [
    "#RMSE train \n",
    "rmse(ridge, X_final, y)"
   ]
  },
  {
   "cell_type": "code",
   "execution_count": 135,
   "metadata": {},
   "outputs": [
    {
     "data": {
      "text/plain": [
       "('r2: ', 0.8934724479468832)"
      ]
     },
     "execution_count": 135,
     "metadata": {},
     "output_type": "execute_result"
    }
   ],
   "source": [
    "#R2 train\n",
    "r2_score(ridge, X_final, y)"
   ]
  },
  {
   "cell_type": "markdown",
   "metadata": {},
   "source": [
    "Our model seems to be able to predict the train data set quite well."
   ]
  },
  {
   "cell_type": "code",
   "execution_count": 136,
   "metadata": {},
   "outputs": [],
   "source": [
    "y_pred_train = ridge.predict(X_final)\n",
    "y_pred_val = ridge.predict(Xtest_full)"
   ]
  },
  {
   "cell_type": "code",
   "execution_count": 139,
   "metadata": {},
   "outputs": [
    {
     "data": {
      "text/plain": [
       "25880.10369842051"
      ]
     },
     "execution_count": 139,
     "metadata": {},
     "output_type": "execute_result"
    }
   ],
   "source": [
    "#RMSE validation\n",
    "np.sqrt(metrics.mean_squared_error(y, y_pred_train))"
   ]
  },
  {
   "cell_type": "code",
   "execution_count": 152,
   "metadata": {
    "scrolled": false
   },
   "outputs": [
    {
     "data": {
      "image/png": "[encoded data removed]",
      "text/plain": [
       "<Figure size 432x360 with 1 Axes>"
      ]
     },
     "metadata": {
      "needs_background": "light"
     },
     "output_type": "display_data"
    }
   ],
   "source": [
    "residual = y_pred_train - y\n",
    "\n",
    "plt.figure(figsize=(6,5))\n",
    "plt.scatter(y, residual)\n",
    "plt.axhline(0, linestyle='-', color='r')\n",
    "plt.title('residual distribution plot for train data',fontsize=14)\n",
    "plt.xlabel('actual values',fontsize=12)\n",
    "plt.ylabel('residuals',fontsize=12)\n",
    "plt.plot([], [], ' ', label=\"model: ridge\")\n",
    "plt.legend()\n",
    "plt.tight_layout()"
   ]
  },
  {
   "cell_type": "code",
   "execution_count": 141,
   "metadata": {
    "scrolled": true
   },
   "outputs": [
    {
     "data": {
      "image/png": "[encoded data removed]",
      "text/plain": [
       "<Figure size 432x360 with 1 Axes>"
      ]
     },
     "metadata": {
      "needs_background": "light"
     },
     "output_type": "display_data"
    }
   ],
   "source": [
    "# plot ypred vs ytrue\n",
    "plt.figure(figsize=(6,5))\n",
    "ax = plt.gca()\n",
    "sns.regplot(x= y, y= y_pred_train, color='skyblue', ax=ax, label=\"y pred train set\")\n",
    "ax.set_title('predicted values vs actual values', fontsize=12)\n",
    "ax.legend()\n",
    "ax.set(xlabel='Actual', ylabel='Predicted');"
   ]
  },
  {
   "cell_type": "markdown",
   "metadata": {},
   "source": [
    "Looking at the residual plot, the data seems pretty symmetrically distributed, tending to cluster towards the middle of the plot. It looks like our current model is homoscedastic; meaning there is not a lot of variance, with the exception of a few outliers. Our actual vs predicted values scatter plot shows strong correlation between the model’s predictions and its actual results. This means our model does not seem to be overfitting, and should be able to predict and explain sale prices reasonably well.\n",
    "\n",
    "We will now proceed to use the y_pred_val for submission to Kaggle."
   ]
  },
  {
   "cell_type": "markdown",
   "metadata": {},
   "source": [
    "### Submission to Kaggle"
   ]
  },
  {
   "cell_type": "code",
   "execution_count": 139,
   "metadata": {
    "scrolled": true
   },
   "outputs": [],
   "source": [
    "#retrieving the id\n",
    "X_test_id = test_df.iloc[:, :1]"
   ]
  },
  {
   "cell_type": "code",
   "execution_count": 140,
   "metadata": {},
   "outputs": [
    {
     "data": {
      "text/html": [
       "<div>\n",
       "<style scoped>\n",
       "    .dataframe tbody tr th:only-of-type {\n",
       "        vertical-align: middle;\n",
       "    }\n",
       "\n",
       "    .dataframe tbody tr th {\n",
       "        vertical-align: top;\n",
       "    }\n",
       "\n",
       "    .dataframe thead th {\n",
       "        text-align: right;\n",
       "    }\n",
       "</style>\n",
       "<table border=\"1\" class=\"dataframe\">\n",
       "  <thead>\n",
       "    <tr style=\"text-align: right;\">\n",
       "      <th></th>\n",
       "      <th>id</th>\n",
       "    </tr>\n",
       "  </thead>\n",
       "  <tbody>\n",
       "    <tr>\n",
       "      <th>0</th>\n",
       "      <td>2658</td>\n",
       "    </tr>\n",
       "    <tr>\n",
       "      <th>1</th>\n",
       "      <td>2718</td>\n",
       "    </tr>\n",
       "    <tr>\n",
       "      <th>2</th>\n",
       "      <td>2414</td>\n",
       "    </tr>\n",
       "    <tr>\n",
       "      <th>3</th>\n",
       "      <td>1989</td>\n",
       "    </tr>\n",
       "    <tr>\n",
       "      <th>4</th>\n",
       "      <td>625</td>\n",
       "    </tr>\n",
       "    <tr>\n",
       "      <th>...</th>\n",
       "      <td>...</td>\n",
       "    </tr>\n",
       "    <tr>\n",
       "      <th>874</th>\n",
       "      <td>1662</td>\n",
       "    </tr>\n",
       "    <tr>\n",
       "      <th>875</th>\n",
       "      <td>1234</td>\n",
       "    </tr>\n",
       "    <tr>\n",
       "      <th>876</th>\n",
       "      <td>1373</td>\n",
       "    </tr>\n",
       "    <tr>\n",
       "      <th>877</th>\n",
       "      <td>1672</td>\n",
       "    </tr>\n",
       "    <tr>\n",
       "      <th>878</th>\n",
       "      <td>1939</td>\n",
       "    </tr>\n",
       "  </tbody>\n",
       "</table>\n",
       "<p>879 rows × 1 columns</p>\n",
       "</div>"
      ],
      "text/plain": [
       "       id\n",
       "0    2658\n",
       "1    2718\n",
       "2    2414\n",
       "3    1989\n",
       "4     625\n",
       "..    ...\n",
       "874  1662\n",
       "875  1234\n",
       "876  1373\n",
       "877  1672\n",
       "878  1939\n",
       "\n",
       "[879 rows x 1 columns]"
      ]
     },
     "execution_count": 140,
     "metadata": {},
     "output_type": "execute_result"
    }
   ],
   "source": [
    "X_test_id"
   ]
  },
  {
   "cell_type": "code",
   "execution_count": 141,
   "metadata": {},
   "outputs": [],
   "source": [
    "#concatenating id with y_pred_val, our predicted saleprices for validation\n",
    "sub_pred = pd.concat([X_test_id, pd.DataFrame(y_pred_val, columns=['saleprice'])], axis=1)"
   ]
  },
  {
   "cell_type": "code",
   "execution_count": 142,
   "metadata": {},
   "outputs": [
    {
     "data": {
      "text/html": [
       "<div>\n",
       "<style scoped>\n",
       "    .dataframe tbody tr th:only-of-type {\n",
       "        vertical-align: middle;\n",
       "    }\n",
       "\n",
       "    .dataframe tbody tr th {\n",
       "        vertical-align: top;\n",
       "    }\n",
       "\n",
       "    .dataframe thead th {\n",
       "        text-align: right;\n",
       "    }\n",
       "</style>\n",
       "<table border=\"1\" class=\"dataframe\">\n",
       "  <thead>\n",
       "    <tr style=\"text-align: right;\">\n",
       "      <th></th>\n",
       "      <th>id</th>\n",
       "      <th>saleprice</th>\n",
       "    </tr>\n",
       "  </thead>\n",
       "  <tbody>\n",
       "    <tr>\n",
       "      <th>0</th>\n",
       "      <td>2658</td>\n",
       "      <td>128681.749053</td>\n",
       "    </tr>\n",
       "    <tr>\n",
       "      <th>1</th>\n",
       "      <td>2718</td>\n",
       "      <td>201200.587297</td>\n",
       "    </tr>\n",
       "    <tr>\n",
       "      <th>2</th>\n",
       "      <td>2414</td>\n",
       "      <td>201830.772593</td>\n",
       "    </tr>\n",
       "    <tr>\n",
       "      <th>3</th>\n",
       "      <td>1989</td>\n",
       "      <td>127874.989054</td>\n",
       "    </tr>\n",
       "    <tr>\n",
       "      <th>4</th>\n",
       "      <td>625</td>\n",
       "      <td>180343.832721</td>\n",
       "    </tr>\n",
       "  </tbody>\n",
       "</table>\n",
       "</div>"
      ],
      "text/plain": [
       "     id      saleprice\n",
       "0  2658  128681.749053\n",
       "1  2718  201200.587297\n",
       "2  2414  201830.772593\n",
       "3  1989  127874.989054\n",
       "4   625  180343.832721"
      ]
     },
     "execution_count": 142,
     "metadata": {},
     "output_type": "execute_result"
    }
   ],
   "source": [
    "sub_pred.head()"
   ]
  },
  {
   "cell_type": "code",
   "execution_count": 143,
   "metadata": {},
   "outputs": [
    {
     "data": {
      "text/plain": [
       "(879, 2)"
      ]
     },
     "execution_count": 143,
     "metadata": {},
     "output_type": "execute_result"
    }
   ],
   "source": [
    "sub_pred.shape"
   ]
  },
  {
   "cell_type": "code",
   "execution_count": 144,
   "metadata": {},
   "outputs": [],
   "source": [
    "sub_pred.to_csv('datasets/submission_predict.csv', index=False)"
   ]
  },
  {
   "attachments": {
    "Kaggle%20Score.JPG": {
     "image/jpeg": "[encoded data removed]"
    }
   },
   "cell_type": "markdown",
   "metadata": {},
   "source": [
    "![Kaggle%20Score.JPG](attachment:Kaggle%20Score.JPG)"
   ]
  },
  {
   "cell_type": "markdown",
   "metadata": {},
   "source": [
    "#### Hooray, our model achieved a score of about 30895. This is confirmation that our model generalises well on unseen data."
   ]
  },
  {
   "cell_type": "markdown",
   "metadata": {},
   "source": [
    "### Conclusion and recommendations <a class=\"anchor\" id=\"conc\"></a>"
   ]
  },
  {
   "cell_type": "markdown",
   "metadata": {},
   "source": [
    "In our process of developing our production model for Ames property sale price predictions, we see that a few features have a huge influence in the sale price of a property: <br>\n",
    "1) **Neighborhood**: The neighborhood the property is located in. <br> \n",
    "2) **Quality**: The overall finishing and material of the house. <br>\n",
    "3) **Square Feet**: The size of the property. <br> \n",
    "4) **Materials e.g. Foundation, Roof** : The materials used to construct the property <br> \n",
    "\n",
    "Surprisingly, the age of the property did not influence the sale price as much as we initially assumed. Maintenance and remodelling of homes seemed to matter more, and could [add years to the useful life of a home.](https://www.adn.com/business-economy/2018/06/21/the-age-of-your-house-isnt-just-based-on-the-year-it-was-built-heres-why-thats-important-when-youre-selling-your-home/) <br>\n",
    "\n",
    "Homeowners could consider doing some remodelling to increase the value of their property and maintain their homes. <br>\n",
    "\n",
    "These neighborhoods in Ames seem like a good investment: \n",
    "1) **Stone Brook** : A few minutes drive from the [Iowa State University campus](https://www.stonebrooke.org/).  <br>\n",
    "2) **Northridge Heights** : Located to thriving [Gilbert school district](https://www.hunzikerdevelopment.com/active-developments/northridge-heights/). <br> \n",
    "3) **Green Hills**: Retirement community for [Iowa State University alumni](https://greenhillsrc.com/about-us/).\n",
    "\n",
    "We will not be able to generalise this model to other cities as the data seems to be Ames specific. To be able to generalise our model we would need more generic features to be included in the dataset such as distance to amenities, e.g. schools, malls etc. This seems to have some correlation to neighborhood as we observe from the top 3 neighborhoods for property investment in Ames."
   ]
  }
 ],
 "metadata": {
  "kernelspec": {
   "display_name": "Python 3",
   "language": "python",
   "name": "python3"
  },
  "language_info": {
   "codemirror_mode": {
    "name": "ipython",
    "version": 3
   },
   "file_extension": ".py",
   "mimetype": "text/x-python",
   "name": "python",
   "nbconvert_exporter": "python",
   "pygments_lexer": "ipython3",
   "version": "3.8.5"
  }
 },
 "nbformat": 4,
 "nbformat_minor": 4
}
