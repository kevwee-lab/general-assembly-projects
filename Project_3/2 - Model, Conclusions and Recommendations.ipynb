{
 "cells": [
  {
   "cell_type": "markdown",
   "metadata": {},
   "source": [
    "## Reddit Classifier Projects- Horror vs SciFi"
   ]
  },
  {
   "cell_type": "markdown",
   "metadata": {},
   "source": [
    "### 2 - Model, Conclusions and Recommendations"
   ]
  },
  {
   "cell_type": "markdown",
   "metadata": {},
   "source": [
    "### Contents\n",
    "\n",
    "[**2.1 Model Prep** ](#prep)<br>\n",
    "\n",
    "[**2.2 Logistic Regression modelling** ](#lr_model)<br>\n",
    "*    [2.21a Logistic Regression with Count Vectorizer ](#lr1)<br>\n",
    "*    [2.21b Coefficients and Feature Names](#lr1coef) <br>\n",
    "*    [2.22a Logistic Regression with Tfidf Vectorizer](#lr2) <br>\n",
    "*    [2.22b Coefficients and Feature Names](#lr2coef) <br>\n",
    "\n",
    "[**2.3 Naive Bayes modelling** ](#nb_model)<br>\n",
    "*    [2.31a Naive Bayes with Count Vectorizer](#nb1) <br>\n",
    "*    [2.31b Coefficients and Feature Names](#nb1coef) <br>\n",
    "*    [2.32a Naive Bayes with Tfidf Vectorizer](#nb2) <br>\n",
    "*    [2.32b Coefficients and Feature Names](#nb2coef) <br>\n",
    "\n",
    "[**2.4 Random Forest modelling**](#rf_model) <br>\n",
    "*    [2.41a Random Forest with Count Vectorizer](#rf1) <br>\n",
    "*    [2.41b Features and Feature Importance Scores](#rf1coef) <br>\n",
    "*    [2.42a Random Forest with Tfidf Vectorizer](#rf2) <br>\n",
    "*    [2.42b Features and Feature Importance Scores](#rf2coef) <br>\n",
    "\n",
    "[**2.5 Model Evaluation**](#eval) <br>\n",
    "*    [2.51 ROC Curve ](#roc)<br>\n",
    "*    [2.52 Confusion Matrix](#cm) <br>\n",
    "    \n",
    "[**2.6 Final Model Analysis**](#final) <br>\n",
    "*    [2.61 Recap of Coefficients and Features](#recap) <br>\n",
    "*    [2.62 Misclassified Posts](#misclass) <br>\n",
    "\n",
    "[**2.7 Conclusion**](#conclu) <br>"
   ]
  },
  {
   "cell_type": "code",
   "execution_count": 1,
   "metadata": {},
   "outputs": [],
   "source": [
    "#importing \n",
    "import pandas as pd\n",
    "import numpy as np\n",
    "import seaborn as sns\n",
    "import matplotlib.pyplot as plt\n",
    "\n",
    "from sklearn.feature_extraction.text import TfidfVectorizer, CountVectorizer\n",
    "from sklearn.linear_model import LogisticRegression\n",
    "from sklearn.ensemble import RandomForestClassifier\n",
    "from sklearn.naive_bayes import MultinomialNB\n",
    "from sklearn.model_selection import train_test_split, cross_val_score, GridSearchCV\n",
    "from sklearn.pipeline import Pipeline\n",
    "from sklearn.metrics import confusion_matrix, plot_confusion_matrix, plot_roc_curve, precision_recall_fscore_support\n",
    "from sklearn import metrics\n",
    "from nltk.corpus import stopwords"
   ]
  },
  {
   "cell_type": "code",
   "execution_count": 2,
   "metadata": {},
   "outputs": [],
   "source": [
    "#reading the csv\n",
    "df = pd.read_csv('reddit_combined.csv')"
   ]
  },
  {
   "cell_type": "code",
   "execution_count": 3,
   "metadata": {
    "scrolled": true
   },
   "outputs": [
    {
     "data": {
      "text/plain": [
       "(1466, 3)"
      ]
     },
     "execution_count": 3,
     "metadata": {},
     "output_type": "execute_result"
    }
   ],
   "source": [
    "df.shape"
   ]
  },
  {
   "cell_type": "markdown",
   "metadata": {},
   "source": [
    "### 2.1 Model Prep <a class=\"anchor\" id=\"prep\"></a>"
   ]
  },
  {
   "cell_type": "code",
   "execution_count": 4,
   "metadata": {},
   "outputs": [],
   "source": [
    "#set X and y variables\n",
    "X = df['posts']\n",
    "y = df['target']"
   ]
  },
  {
   "cell_type": "code",
   "execution_count": 5,
   "metadata": {},
   "outputs": [
    {
     "data": {
      "text/plain": [
       "0    0.50955\n",
       "1    0.49045\n",
       "Name: target, dtype: float64"
      ]
     },
     "execution_count": 5,
     "metadata": {},
     "output_type": "execute_result"
    }
   ],
   "source": [
    "# Looking at baseline\n",
    "y.value_counts(normalize=True)"
   ]
  },
  {
   "cell_type": "markdown",
   "metadata": {},
   "source": [
    "We see no severely unbalanced classes as both look roughly proportional. The baseline model will predict class 0 (r/shortscifistories) most of the time as it has a slightly higher accuracy score (50.95%)."
   ]
  },
  {
   "cell_type": "code",
   "execution_count": 6,
   "metadata": {},
   "outputs": [],
   "source": [
    "#train test split\n",
    "X_train, X_test, y_train, y_test = train_test_split(X,\n",
    "                                                    y,\n",
    "                                                    test_size=0.33,\n",
    "                                                    random_state=42,\n",
    "                                                    stratify=y)"
   ]
  },
  {
   "cell_type": "markdown",
   "metadata": {},
   "source": [
    "### 2.2 Logistic Regression modelling <a class=\"anchor\" id=\"lr_model\"></a>\n",
    "\n",
    "We will use the logistic regression model to predict either class 0 or 1. We will also be using different vectorizers per model."
   ]
  },
  {
   "cell_type": "markdown",
   "metadata": {},
   "source": [
    "#### 2.21a Logistic Regression with Count Vectorizer <a class=\"anchor\" id=\"lr1\"></a>"
   ]
  },
  {
   "cell_type": "code",
   "execution_count": 7,
   "metadata": {},
   "outputs": [],
   "source": [
    "#adding the subreddit names to stopwords\n",
    "stopword_list = stopwords.words('english')\n",
    "stopword_list.extend(['nosleep', 'shortscifistories', 'scifi', 'sci', 'fi', 'sci fi', 'sci-fi'])"
   ]
  },
  {
   "cell_type": "code",
   "execution_count": 8,
   "metadata": {},
   "outputs": [],
   "source": [
    "#pipeline\n",
    "\n",
    "lr1_pipeline = Pipeline([('cvec', CountVectorizer(stop_words=stopword_list)), ('log_r', LogisticRegression(max_iter=500))])"
   ]
  },
  {
   "cell_type": "code",
   "execution_count": 9,
   "metadata": {},
   "outputs": [
    {
     "data": {
      "text/plain": [
       "Pipeline(steps=[('cvec',\n",
       "                 CountVectorizer(stop_words=['i', 'me', 'my', 'myself', 'we',\n",
       "                                             'our', 'ours', 'ourselves', 'you',\n",
       "                                             \"you're\", \"you've\", \"you'll\",\n",
       "                                             \"you'd\", 'your', 'yours',\n",
       "                                             'yourself', 'yourselves', 'he',\n",
       "                                             'him', 'his', 'himself', 'she',\n",
       "                                             \"she's\", 'her', 'hers', 'herself',\n",
       "                                             'it', \"it's\", 'its', 'itself', ...])),\n",
       "                ('log_r', LogisticRegression(max_iter=500))])"
      ]
     },
     "execution_count": 9,
     "metadata": {},
     "output_type": "execute_result"
    }
   ],
   "source": [
    "# Fit the model\n",
    "lr1_pipeline.fit(X_train, y_train)"
   ]
  },
  {
   "cell_type": "code",
   "execution_count": 10,
   "metadata": {},
   "outputs": [
    {
     "data": {
      "text/plain": [
       "1.0"
      ]
     },
     "execution_count": 10,
     "metadata": {},
     "output_type": "execute_result"
    }
   ],
   "source": [
    "#Train score\n",
    "lr1_pipeline.score(X_train, y_train)"
   ]
  },
  {
   "cell_type": "code",
   "execution_count": 11,
   "metadata": {},
   "outputs": [
    {
     "data": {
      "text/plain": [
       "0.9483471074380165"
      ]
     },
     "execution_count": 11,
     "metadata": {},
     "output_type": "execute_result"
    }
   ],
   "source": [
    "# Test score\n",
    "lr1_pipeline.score(X_test, y_test)"
   ]
  },
  {
   "cell_type": "markdown",
   "metadata": {},
   "source": [
    "We note something odd here, that the training accuracy is 100%.  This could be an indicator that we overfit the data.However, looking at the test score, we note that the overfit might not be severe as there is a drop of 5.2% on the test data, which seems reasonable."
   ]
  },
  {
   "cell_type": "code",
   "execution_count": 12,
   "metadata": {},
   "outputs": [],
   "source": [
    "#param for gridsearch\n",
    "lr1_params = {\n",
    "   'cvec__max_features': [2000, 3000, 4000, 5000],\n",
    "    'cvec__min_df': [2, 3],\n",
    "    'cvec__max_df': [0.9, 0.95],\n",
    "    'cvec__ngram_range': [(1, 1),(1, 2)],\n",
    "}"
   ]
  },
  {
   "cell_type": "code",
   "execution_count": 13,
   "metadata": {},
   "outputs": [
    {
     "name": "stdout",
     "output_type": "stream",
     "text": [
      "Fitting 5 folds for each of 32 candidates, totalling 160 fits\n"
     ]
    },
    {
     "name": "stderr",
     "output_type": "stream",
     "text": [
      "[Parallel(n_jobs=1)]: Using backend SequentialBackend with 1 concurrent workers.\n",
      "[Parallel(n_jobs=1)]: Done 160 out of 160 | elapsed:  5.6min finished\n"
     ]
    },
    {
     "data": {
      "text/plain": [
       "GridSearchCV(cv=5,\n",
       "             estimator=Pipeline(steps=[('cvec',\n",
       "                                        CountVectorizer(stop_words=['i', 'me',\n",
       "                                                                    'my',\n",
       "                                                                    'myself',\n",
       "                                                                    'we', 'our',\n",
       "                                                                    'ours',\n",
       "                                                                    'ourselves',\n",
       "                                                                    'you',\n",
       "                                                                    \"you're\",\n",
       "                                                                    \"you've\",\n",
       "                                                                    \"you'll\",\n",
       "                                                                    \"you'd\",\n",
       "                                                                    'your',\n",
       "                                                                    'yours',\n",
       "                                                                    'yourself',\n",
       "                                                                    'yourselves',\n",
       "                                                                    'he', 'him',\n",
       "                                                                    'his',\n",
       "                                                                    'himself',\n",
       "                                                                    'she',\n",
       "                                                                    \"she's\",\n",
       "                                                                    'her',\n",
       "                                                                    'hers',\n",
       "                                                                    'herself',\n",
       "                                                                    'it',\n",
       "                                                                    \"it's\",\n",
       "                                                                    'its',\n",
       "                                                                    'itself', ...])),\n",
       "                                       ('log_r',\n",
       "                                        LogisticRegression(max_iter=500))]),\n",
       "             param_grid={'cvec__max_df': [0.9, 0.95],\n",
       "                         'cvec__max_features': [2000, 3000, 4000, 5000],\n",
       "                         'cvec__min_df': [2, 3],\n",
       "                         'cvec__ngram_range': [(1, 1), (1, 2)]},\n",
       "             verbose=1)"
      ]
     },
     "execution_count": 13,
     "metadata": {},
     "output_type": "execute_result"
    }
   ],
   "source": [
    "#5 fold gridsearchcv\n",
    "gs_lr1 = GridSearchCV(lr1_pipeline, param_grid = lr1_params, cv=5, verbose=1)\n",
    "\n",
    "#fit to train data\n",
    "gs_lr1.fit(X_train, y_train)"
   ]
  },
  {
   "cell_type": "code",
   "execution_count": 14,
   "metadata": {
    "scrolled": false
   },
   "outputs": [
    {
     "data": {
      "text/plain": [
       "Pipeline(steps=[('cvec',\n",
       "                 CountVectorizer(max_df=0.9, max_features=3000, min_df=3,\n",
       "                                 stop_words=['i', 'me', 'my', 'myself', 'we',\n",
       "                                             'our', 'ours', 'ourselves', 'you',\n",
       "                                             \"you're\", \"you've\", \"you'll\",\n",
       "                                             \"you'd\", 'your', 'yours',\n",
       "                                             'yourself', 'yourselves', 'he',\n",
       "                                             'him', 'his', 'himself', 'she',\n",
       "                                             \"she's\", 'her', 'hers', 'herself',\n",
       "                                             'it', \"it's\", 'its', 'itself', ...])),\n",
       "                ('log_r', LogisticRegression(max_iter=500))])"
      ]
     },
     "execution_count": 14,
     "metadata": {},
     "output_type": "execute_result"
    }
   ],
   "source": [
    "gs_lr1.best_estimator_"
   ]
  },
  {
   "cell_type": "code",
   "execution_count": 15,
   "metadata": {},
   "outputs": [],
   "source": [
    "# save best model \n",
    "gs_lr1_model = gs_lr1.best_estimator_"
   ]
  },
  {
   "cell_type": "code",
   "execution_count": 16,
   "metadata": {},
   "outputs": [
    {
     "data": {
      "text/plain": [
       "0.9602817776856936"
      ]
     },
     "execution_count": 16,
     "metadata": {},
     "output_type": "execute_result"
    }
   ],
   "source": [
    "#best score\n",
    "gs_lr1.best_score_"
   ]
  },
  {
   "cell_type": "code",
   "execution_count": 17,
   "metadata": {},
   "outputs": [
    {
     "data": {
      "text/plain": [
       "1.0"
      ]
     },
     "execution_count": 17,
     "metadata": {},
     "output_type": "execute_result"
    }
   ],
   "source": [
    "# Score model on training set.\n",
    "gs_lr1_model.score(X_train, y_train)"
   ]
  },
  {
   "cell_type": "code",
   "execution_count": 18,
   "metadata": {},
   "outputs": [],
   "source": [
    "lr1_model_train_score = gs_lr1_model.score(X_train, y_train)"
   ]
  },
  {
   "cell_type": "code",
   "execution_count": 19,
   "metadata": {},
   "outputs": [
    {
     "data": {
      "text/plain": [
       "0.9462809917355371"
      ]
     },
     "execution_count": 19,
     "metadata": {},
     "output_type": "execute_result"
    }
   ],
   "source": [
    "# Score model on testing set.\n",
    "gs_lr1_model.score(X_test, y_test)"
   ]
  },
  {
   "cell_type": "code",
   "execution_count": 20,
   "metadata": {},
   "outputs": [],
   "source": [
    "lr1_model_test_score = gs_lr1_model.score(X_test, y_test)"
   ]
  },
  {
   "cell_type": "code",
   "execution_count": 21,
   "metadata": {},
   "outputs": [],
   "source": [
    "# creating lists to store model names, scores and parameters for evaluation\n",
    "\n",
    "model_name = []\n",
    "model_train_scores = []\n",
    "model_test_scores = []\n",
    "model_best_score = []\n",
    "model_estimators = []\n",
    "\n",
    "model_name.append('Logistic Regression with CountVectorizer')\n",
    "model_train_scores.append(lr1_model_train_score)\n",
    "model_test_scores.append(lr1_model_test_score)\n",
    "model_best_score.append(gs_lr1.best_score_)\n",
    "model_estimators.append(gs_lr1_model)\n"
   ]
  },
  {
   "cell_type": "markdown",
   "metadata": {},
   "source": [
    " We note that after using GridSearch with a 5 fold cross validation, the train score for our best model is still 1.0.\n",
    " However, the test accuracy has slightly dropped to about 94.6% compared to the earlier train score of around 94.8%. There is a drop of about 5.4% in accuracy score for the test set, which still seems reasonable."
   ]
  },
  {
   "cell_type": "markdown",
   "metadata": {},
   "source": [
    "#### 2.21b Getting coefficients and feature names for logistic regression model with countvectorizer <a class=\"anchor\" id=\"lr1coef\"></a>"
   ]
  },
  {
   "cell_type": "code",
   "execution_count": 22,
   "metadata": {},
   "outputs": [],
   "source": [
    "coef_names_lr1 = gs_lr1_model.steps[0][1].get_feature_names()\n",
    "coef_lr1 = gs_lr1_model.steps[1][1].coef_[0]\n",
    "#creating dataframe for tokens and their corresponding coefficientss\n",
    "tokens_lr1 = pd.DataFrame({'token': coef_names_lr1, 'coefficient': coef_lr1}).set_index('token')"
   ]
  },
  {
   "cell_type": "code",
   "execution_count": 23,
   "metadata": {
    "scrolled": false
   },
   "outputs": [
    {
     "data": {
      "text/html": [
       "<div>\n",
       "<style scoped>\n",
       "    .dataframe tbody tr th:only-of-type {\n",
       "        vertical-align: middle;\n",
       "    }\n",
       "\n",
       "    .dataframe tbody tr th {\n",
       "        vertical-align: top;\n",
       "    }\n",
       "\n",
       "    .dataframe thead th {\n",
       "        text-align: right;\n",
       "    }\n",
       "</style>\n",
       "<table border=\"1\" class=\"dataframe\">\n",
       "  <thead>\n",
       "    <tr style=\"text-align: right;\">\n",
       "      <th></th>\n",
       "      <th>coefficient</th>\n",
       "    </tr>\n",
       "    <tr>\n",
       "      <th>token</th>\n",
       "      <th></th>\n",
       "    </tr>\n",
       "  </thead>\n",
       "  <tbody>\n",
       "    <tr>\n",
       "      <th>world</th>\n",
       "      <td>-0.270257</td>\n",
       "    </tr>\n",
       "    <tr>\n",
       "      <th>child</th>\n",
       "      <td>-0.264110</td>\n",
       "    </tr>\n",
       "    <tr>\n",
       "      <th>light</th>\n",
       "      <td>-0.260308</td>\n",
       "    </tr>\n",
       "    <tr>\n",
       "      <th>new</th>\n",
       "      <td>-0.209954</td>\n",
       "    </tr>\n",
       "    <tr>\n",
       "      <th>planet</th>\n",
       "      <td>-0.189315</td>\n",
       "    </tr>\n",
       "    <tr>\n",
       "      <th>puddle</th>\n",
       "      <td>-0.188142</td>\n",
       "    </tr>\n",
       "    <tr>\n",
       "      <th>george</th>\n",
       "      <td>-0.180121</td>\n",
       "    </tr>\n",
       "    <tr>\n",
       "      <th>charlotte</th>\n",
       "      <td>-0.179563</td>\n",
       "    </tr>\n",
       "    <tr>\n",
       "      <th>earth</th>\n",
       "      <td>-0.171871</td>\n",
       "    </tr>\n",
       "    <tr>\n",
       "      <th>level</th>\n",
       "      <td>-0.170724</td>\n",
       "    </tr>\n",
       "    <tr>\n",
       "      <th>hand</th>\n",
       "      <td>-0.161958</td>\n",
       "    </tr>\n",
       "    <tr>\n",
       "      <th>everyone</th>\n",
       "      <td>-0.154760</td>\n",
       "    </tr>\n",
       "    <tr>\n",
       "      <th>love</th>\n",
       "      <td>-0.147558</td>\n",
       "    </tr>\n",
       "    <tr>\n",
       "      <th>lost</th>\n",
       "      <td>-0.143451</td>\n",
       "    </tr>\n",
       "    <tr>\n",
       "      <th>first</th>\n",
       "      <td>-0.142702</td>\n",
       "    </tr>\n",
       "    <tr>\n",
       "      <th>stood</th>\n",
       "      <td>-0.140737</td>\n",
       "    </tr>\n",
       "    <tr>\n",
       "      <th>artifact</th>\n",
       "      <td>-0.137194</td>\n",
       "    </tr>\n",
       "    <tr>\n",
       "      <th>called</th>\n",
       "      <td>-0.137178</td>\n",
       "    </tr>\n",
       "    <tr>\n",
       "      <th>ship</th>\n",
       "      <td>-0.132763</td>\n",
       "    </tr>\n",
       "    <tr>\n",
       "      <th>week</th>\n",
       "      <td>-0.131140</td>\n",
       "    </tr>\n",
       "  </tbody>\n",
       "</table>\n",
       "</div>"
      ],
      "text/plain": [
       "           coefficient\n",
       "token                 \n",
       "world        -0.270257\n",
       "child        -0.264110\n",
       "light        -0.260308\n",
       "new          -0.209954\n",
       "planet       -0.189315\n",
       "puddle       -0.188142\n",
       "george       -0.180121\n",
       "charlotte    -0.179563\n",
       "earth        -0.171871\n",
       "level        -0.170724\n",
       "hand         -0.161958\n",
       "everyone     -0.154760\n",
       "love         -0.147558\n",
       "lost         -0.143451\n",
       "first        -0.142702\n",
       "stood        -0.140737\n",
       "artifact     -0.137194\n",
       "called       -0.137178\n",
       "ship         -0.132763\n",
       "week         -0.131140"
      ]
     },
     "execution_count": 23,
     "metadata": {},
     "output_type": "execute_result"
    }
   ],
   "source": [
    "tokens_lr1.sort_values(by='coefficient').head(20)"
   ]
  },
  {
   "cell_type": "code",
   "execution_count": 24,
   "metadata": {
    "scrolled": false
   },
   "outputs": [
    {
     "data": {
      "image/png": "[encoded data removed]",
      "text/plain": [
       "<Figure size 1152x432 with 1 Axes>"
      ]
     },
     "metadata": {
      "needs_background": "light"
     },
     "output_type": "display_data"
    }
   ],
   "source": [
    "#plotting the barchart to visualise top 20 features\n",
    "tokens_lr1.sort_values(by='coefficient').head(20).plot(kind='barh', figsize=(16,6))\n",
    "plt.gca().invert_xaxis()\n",
    "plt.gca().invert_yaxis()\n",
    "plt.title('top 20 features for r/shortscifistories');"
   ]
  },
  {
   "cell_type": "code",
   "execution_count": 25,
   "metadata": {},
   "outputs": [
    {
     "data": {
      "text/html": [
       "<div>\n",
       "<style scoped>\n",
       "    .dataframe tbody tr th:only-of-type {\n",
       "        vertical-align: middle;\n",
       "    }\n",
       "\n",
       "    .dataframe tbody tr th {\n",
       "        vertical-align: top;\n",
       "    }\n",
       "\n",
       "    .dataframe thead th {\n",
       "        text-align: right;\n",
       "    }\n",
       "</style>\n",
       "<table border=\"1\" class=\"dataframe\">\n",
       "  <thead>\n",
       "    <tr style=\"text-align: right;\">\n",
       "      <th></th>\n",
       "      <th>coefficient</th>\n",
       "    </tr>\n",
       "    <tr>\n",
       "      <th>token</th>\n",
       "      <th></th>\n",
       "    </tr>\n",
       "  </thead>\n",
       "  <tbody>\n",
       "    <tr>\n",
       "      <th>ran</th>\n",
       "      <td>0.216563</td>\n",
       "    </tr>\n",
       "    <tr>\n",
       "      <th>pop</th>\n",
       "      <td>0.223929</td>\n",
       "    </tr>\n",
       "    <tr>\n",
       "      <th>year</th>\n",
       "      <td>0.224149</td>\n",
       "    </tr>\n",
       "    <tr>\n",
       "      <th>get</th>\n",
       "      <td>0.229770</td>\n",
       "    </tr>\n",
       "    <tr>\n",
       "      <th>teeth</th>\n",
       "      <td>0.232059</td>\n",
       "    </tr>\n",
       "    <tr>\n",
       "      <th>heard</th>\n",
       "      <td>0.232339</td>\n",
       "    </tr>\n",
       "    <tr>\n",
       "      <th>night</th>\n",
       "      <td>0.233997</td>\n",
       "    </tr>\n",
       "    <tr>\n",
       "      <th>tried</th>\n",
       "      <td>0.244405</td>\n",
       "    </tr>\n",
       "    <tr>\n",
       "      <th>hear</th>\n",
       "      <td>0.245283</td>\n",
       "    </tr>\n",
       "    <tr>\n",
       "      <th>floor</th>\n",
       "      <td>0.251703</td>\n",
       "    </tr>\n",
       "    <tr>\n",
       "      <th>know</th>\n",
       "      <td>0.260859</td>\n",
       "    </tr>\n",
       "    <tr>\n",
       "      <th>story</th>\n",
       "      <td>0.267170</td>\n",
       "    </tr>\n",
       "    <tr>\n",
       "      <th>trying</th>\n",
       "      <td>0.267767</td>\n",
       "    </tr>\n",
       "    <tr>\n",
       "      <th>went</th>\n",
       "      <td>0.285713</td>\n",
       "    </tr>\n",
       "    <tr>\n",
       "      <th>really</th>\n",
       "      <td>0.287425</td>\n",
       "    </tr>\n",
       "    <tr>\n",
       "      <th>one</th>\n",
       "      <td>0.292523</td>\n",
       "    </tr>\n",
       "    <tr>\n",
       "      <th>house</th>\n",
       "      <td>0.309644</td>\n",
       "    </tr>\n",
       "    <tr>\n",
       "      <th>weird</th>\n",
       "      <td>0.324329</td>\n",
       "    </tr>\n",
       "    <tr>\n",
       "      <th>started</th>\n",
       "      <td>0.345457</td>\n",
       "    </tr>\n",
       "    <tr>\n",
       "      <th>friend</th>\n",
       "      <td>0.351004</td>\n",
       "    </tr>\n",
       "  </tbody>\n",
       "</table>\n",
       "</div>"
      ],
      "text/plain": [
       "         coefficient\n",
       "token               \n",
       "ran         0.216563\n",
       "pop         0.223929\n",
       "year        0.224149\n",
       "get         0.229770\n",
       "teeth       0.232059\n",
       "heard       0.232339\n",
       "night       0.233997\n",
       "tried       0.244405\n",
       "hear        0.245283\n",
       "floor       0.251703\n",
       "know        0.260859\n",
       "story       0.267170\n",
       "trying      0.267767\n",
       "went        0.285713\n",
       "really      0.287425\n",
       "one         0.292523\n",
       "house       0.309644\n",
       "weird       0.324329\n",
       "started     0.345457\n",
       "friend      0.351004"
      ]
     },
     "execution_count": 25,
     "metadata": {},
     "output_type": "execute_result"
    }
   ],
   "source": [
    "#getting the top 20 tokens for r/nosleep\n",
    "tokens_lr1.sort_values(by='coefficient').tail(20)"
   ]
  },
  {
   "cell_type": "code",
   "execution_count": 26,
   "metadata": {
    "scrolled": false
   },
   "outputs": [
    {
     "data": {
      "image/png": "[encoded data removed]",
      "text/plain": [
       "<Figure size 1152x432 with 1 Axes>"
      ]
     },
     "metadata": {
      "needs_background": "light"
     },
     "output_type": "display_data"
    }
   ],
   "source": [
    "tokens_lr1.sort_values(by='coefficient').tail(20).plot(kind='barh',figsize=(16,6))\n",
    "plt.title('top 20 features for r/nosleep');"
   ]
  },
  {
   "cell_type": "markdown",
   "metadata": {},
   "source": [
    "The coefficients returned here represent the log odds of a token occurring in each class. If the log odds are positive, the token will be classified to '1', which we earlier defined as r/nosleep. If the log odds are negative, it will be classified to '0' or r/shortscifistories. \n",
    "\n",
    "This means that if the logit is a positive value, the exponentiated log odds will be > 1. This means an increase in the probability of the event when you have a positive change in the independent variable. The converse is true for logits with negative values.\n",
    "\n",
    "For the shortscifi stories subreddit, we see that the most important tokens/features (high coefficients) are related to planets or space travel, e.g. world, earth, planet, ship, artifacts etc.\n",
    "\n",
    "For the nosleep subreddit, we see that words related to senses, e.g. hear, heard have larger importance. Some features familiar to the genre, e.g. weird and night are also appear to be important."
   ]
  },
  {
   "cell_type": "markdown",
   "metadata": {},
   "source": [
    "#### 2.22a Logistic Regression with Tfidf vectorizer <a class=\"anchor\" id=\"lr2\"></a>"
   ]
  },
  {
   "cell_type": "code",
   "execution_count": 27,
   "metadata": {},
   "outputs": [],
   "source": [
    "#pipeline\n",
    "lr2_pipeline = Pipeline([('tvec', TfidfVectorizer(stop_words=stopword_list)), ('log_r', LogisticRegression(max_iter=500))])"
   ]
  },
  {
   "cell_type": "code",
   "execution_count": 28,
   "metadata": {},
   "outputs": [],
   "source": [
    "#param for gridsearch\n",
    "lr2_params = {\n",
    "   'tvec__max_features': [2000, 3000, 4000, 5000],\n",
    "    'tvec__min_df': [2, 3],\n",
    "    'tvec__max_df': [0.9, 0.95],\n",
    "    'tvec__ngram_range': [(1, 1),(1, 2)],\n",
    "}"
   ]
  },
  {
   "cell_type": "code",
   "execution_count": 29,
   "metadata": {},
   "outputs": [
    {
     "data": {
      "text/plain": [
       "Pipeline(steps=[('tvec',\n",
       "                 TfidfVectorizer(stop_words=['i', 'me', 'my', 'myself', 'we',\n",
       "                                             'our', 'ours', 'ourselves', 'you',\n",
       "                                             \"you're\", \"you've\", \"you'll\",\n",
       "                                             \"you'd\", 'your', 'yours',\n",
       "                                             'yourself', 'yourselves', 'he',\n",
       "                                             'him', 'his', 'himself', 'she',\n",
       "                                             \"she's\", 'her', 'hers', 'herself',\n",
       "                                             'it', \"it's\", 'its', 'itself', ...])),\n",
       "                ('log_r', LogisticRegression(max_iter=500))])"
      ]
     },
     "execution_count": 29,
     "metadata": {},
     "output_type": "execute_result"
    }
   ],
   "source": [
    "# Fit the model\n",
    "lr2_pipeline.fit(X_train, y_train)"
   ]
  },
  {
   "cell_type": "code",
   "execution_count": 30,
   "metadata": {},
   "outputs": [
    {
     "data": {
      "text/plain": [
       "0.9775967413441955"
      ]
     },
     "execution_count": 30,
     "metadata": {},
     "output_type": "execute_result"
    }
   ],
   "source": [
    "# Train score\n",
    "lr2_pipeline.score(X_train, y_train)"
   ]
  },
  {
   "cell_type": "code",
   "execution_count": 31,
   "metadata": {},
   "outputs": [
    {
     "data": {
      "text/plain": [
       "0.9338842975206612"
      ]
     },
     "execution_count": 31,
     "metadata": {},
     "output_type": "execute_result"
    }
   ],
   "source": [
    "# Test score\n",
    "lr2_pipeline.score(X_test, y_test)"
   ]
  },
  {
   "cell_type": "markdown",
   "metadata": {},
   "source": [
    "Here we observe that using the TfidfVectorizer with Log Regression, we have a slightly lower score than CountVectorizer with Log Regression. Again, there does not seem to be any overfitting."
   ]
  },
  {
   "cell_type": "code",
   "execution_count": 32,
   "metadata": {},
   "outputs": [
    {
     "name": "stdout",
     "output_type": "stream",
     "text": [
      "Fitting 5 folds for each of 32 candidates, totalling 160 fits\n"
     ]
    },
    {
     "name": "stderr",
     "output_type": "stream",
     "text": [
      "[Parallel(n_jobs=1)]: Using backend SequentialBackend with 1 concurrent workers.\n",
      "[Parallel(n_jobs=1)]: Done 160 out of 160 | elapsed:  6.7min finished\n"
     ]
    },
    {
     "data": {
      "text/plain": [
       "GridSearchCV(cv=5,\n",
       "             estimator=Pipeline(steps=[('tvec',\n",
       "                                        TfidfVectorizer(stop_words=['i', 'me',\n",
       "                                                                    'my',\n",
       "                                                                    'myself',\n",
       "                                                                    'we', 'our',\n",
       "                                                                    'ours',\n",
       "                                                                    'ourselves',\n",
       "                                                                    'you',\n",
       "                                                                    \"you're\",\n",
       "                                                                    \"you've\",\n",
       "                                                                    \"you'll\",\n",
       "                                                                    \"you'd\",\n",
       "                                                                    'your',\n",
       "                                                                    'yours',\n",
       "                                                                    'yourself',\n",
       "                                                                    'yourselves',\n",
       "                                                                    'he', 'him',\n",
       "                                                                    'his',\n",
       "                                                                    'himself',\n",
       "                                                                    'she',\n",
       "                                                                    \"she's\",\n",
       "                                                                    'her',\n",
       "                                                                    'hers',\n",
       "                                                                    'herself',\n",
       "                                                                    'it',\n",
       "                                                                    \"it's\",\n",
       "                                                                    'its',\n",
       "                                                                    'itself', ...])),\n",
       "                                       ('log_r',\n",
       "                                        LogisticRegression(max_iter=500))]),\n",
       "             param_grid={'tvec__max_df': [0.9, 0.95],\n",
       "                         'tvec__max_features': [2000, 3000, 4000, 5000],\n",
       "                         'tvec__min_df': [2, 3],\n",
       "                         'tvec__ngram_range': [(1, 1), (1, 2)]},\n",
       "             verbose=1)"
      ]
     },
     "execution_count": 32,
     "metadata": {},
     "output_type": "execute_result"
    }
   ],
   "source": [
    "#5 fold gridsearchcv\n",
    "gs_lr2 = GridSearchCV(lr2_pipeline, param_grid = lr2_params, cv=5, verbose=1)\n",
    "\n",
    "#fit to train data\n",
    "gs_lr2.fit(X_train, y_train)"
   ]
  },
  {
   "cell_type": "code",
   "execution_count": 33,
   "metadata": {},
   "outputs": [
    {
     "data": {
      "text/plain": [
       "Pipeline(steps=[('tvec',\n",
       "                 TfidfVectorizer(max_df=0.9, max_features=5000, min_df=2,\n",
       "                                 stop_words=['i', 'me', 'my', 'myself', 'we',\n",
       "                                             'our', 'ours', 'ourselves', 'you',\n",
       "                                             \"you're\", \"you've\", \"you'll\",\n",
       "                                             \"you'd\", 'your', 'yours',\n",
       "                                             'yourself', 'yourselves', 'he',\n",
       "                                             'him', 'his', 'himself', 'she',\n",
       "                                             \"she's\", 'her', 'hers', 'herself',\n",
       "                                             'it', \"it's\", 'its', 'itself', ...])),\n",
       "                ('log_r', LogisticRegression(max_iter=500))])"
      ]
     },
     "execution_count": 33,
     "metadata": {},
     "output_type": "execute_result"
    }
   ],
   "source": [
    "gs_lr2.best_estimator_"
   ]
  },
  {
   "cell_type": "code",
   "execution_count": 34,
   "metadata": {},
   "outputs": [],
   "source": [
    "gs_lr2_model = gs_lr2.best_estimator_"
   ]
  },
  {
   "cell_type": "code",
   "execution_count": 35,
   "metadata": {},
   "outputs": [
    {
     "data": {
      "text/plain": [
       "0.9399305915259506"
      ]
     },
     "execution_count": 35,
     "metadata": {},
     "output_type": "execute_result"
    }
   ],
   "source": [
    "#best score\n",
    "gs_lr2.best_score_"
   ]
  },
  {
   "cell_type": "code",
   "execution_count": 36,
   "metadata": {},
   "outputs": [
    {
     "data": {
      "text/plain": [
       "0.9663951120162932"
      ]
     },
     "execution_count": 36,
     "metadata": {},
     "output_type": "execute_result"
    }
   ],
   "source": [
    "#train score\n",
    "gs_lr2_model.score(X_train, y_train)"
   ]
  },
  {
   "cell_type": "code",
   "execution_count": 37,
   "metadata": {},
   "outputs": [],
   "source": [
    "lr2_model_train_score = gs_lr2_model.score(X_train, y_train)"
   ]
  },
  {
   "cell_type": "code",
   "execution_count": 38,
   "metadata": {},
   "outputs": [
    {
     "data": {
      "text/plain": [
       "0.9338842975206612"
      ]
     },
     "execution_count": 38,
     "metadata": {},
     "output_type": "execute_result"
    }
   ],
   "source": [
    "#test score\n",
    "gs_lr2_model.score(X_test, y_test)"
   ]
  },
  {
   "cell_type": "code",
   "execution_count": 39,
   "metadata": {},
   "outputs": [],
   "source": [
    "lr2_model_test_score = gs_lr2_model.score(X_test, y_test)"
   ]
  },
  {
   "cell_type": "code",
   "execution_count": 40,
   "metadata": {},
   "outputs": [],
   "source": [
    "model_name.append('Logistic Regression with TfidfVectorizer')\n",
    "model_train_scores.append(lr2_model_train_score)\n",
    "model_test_scores.append(lr2_model_test_score)\n",
    "model_best_score.append(gs_lr2.best_score_)\n",
    "model_estimators.append(gs_lr2_model)\n"
   ]
  },
  {
   "cell_type": "markdown",
   "metadata": {},
   "source": [
    "We see that although the train test scores for the best estimator of TfidfVectorizer with Log Regression is lower than that of CountVectorizer with Log Regression, there is lesser overfit. The delta is about ~3.3%."
   ]
  },
  {
   "cell_type": "markdown",
   "metadata": {},
   "source": [
    "#### 2.22b Getting coefficients and feature names for logistic regression model with tfidfvectorizer <a class=\"anchor\" id=\"lr2coef\"></a>"
   ]
  },
  {
   "cell_type": "code",
   "execution_count": 41,
   "metadata": {},
   "outputs": [],
   "source": [
    "coef_names_lr2 = gs_lr2_model.steps[0][1].get_feature_names()\n",
    "coef_lr2 = gs_lr2_model.steps[1][1].coef_[0]\n",
    "#creating a dataframe for tokens and coefficients\n",
    "tokens_lr2 = pd.DataFrame({'token': coef_names_lr2, 'coefficient': coef_lr2}).set_index('token')"
   ]
  },
  {
   "cell_type": "code",
   "execution_count": 42,
   "metadata": {},
   "outputs": [
    {
     "data": {
      "text/html": [
       "<div>\n",
       "<style scoped>\n",
       "    .dataframe tbody tr th:only-of-type {\n",
       "        vertical-align: middle;\n",
       "    }\n",
       "\n",
       "    .dataframe tbody tr th {\n",
       "        vertical-align: top;\n",
       "    }\n",
       "\n",
       "    .dataframe thead th {\n",
       "        text-align: right;\n",
       "    }\n",
       "</style>\n",
       "<table border=\"1\" class=\"dataframe\">\n",
       "  <thead>\n",
       "    <tr style=\"text-align: right;\">\n",
       "      <th></th>\n",
       "      <th>coefficient</th>\n",
       "    </tr>\n",
       "    <tr>\n",
       "      <th>token</th>\n",
       "      <th></th>\n",
       "    </tr>\n",
       "  </thead>\n",
       "  <tbody>\n",
       "    <tr>\n",
       "      <th>earth</th>\n",
       "      <td>-1.185525</td>\n",
       "    </tr>\n",
       "    <tr>\n",
       "      <th>planet</th>\n",
       "      <td>-0.969874</td>\n",
       "    </tr>\n",
       "    <tr>\n",
       "      <th>ai</th>\n",
       "      <td>-0.961754</td>\n",
       "    </tr>\n",
       "    <tr>\n",
       "      <th>world</th>\n",
       "      <td>-0.919119</td>\n",
       "    </tr>\n",
       "    <tr>\n",
       "      <th>ship</th>\n",
       "      <td>-0.850411</td>\n",
       "    </tr>\n",
       "    <tr>\n",
       "      <th>artifact</th>\n",
       "      <td>-0.826702</td>\n",
       "    </tr>\n",
       "    <tr>\n",
       "      <th>system</th>\n",
       "      <td>-0.826652</td>\n",
       "    </tr>\n",
       "    <tr>\n",
       "      <th>universe</th>\n",
       "      <td>-0.786065</td>\n",
       "    </tr>\n",
       "    <tr>\n",
       "      <th>human</th>\n",
       "      <td>-0.767545</td>\n",
       "    </tr>\n",
       "    <tr>\n",
       "      <th>robot</th>\n",
       "      <td>-0.763940</td>\n",
       "    </tr>\n",
       "    <tr>\n",
       "      <th>scientist</th>\n",
       "      <td>-0.740005</td>\n",
       "    </tr>\n",
       "    <tr>\n",
       "      <th>alien</th>\n",
       "      <td>-0.732413</td>\n",
       "    </tr>\n",
       "    <tr>\n",
       "      <th>daryl</th>\n",
       "      <td>-0.642421</td>\n",
       "    </tr>\n",
       "    <tr>\n",
       "      <th>sir</th>\n",
       "      <td>-0.631317</td>\n",
       "    </tr>\n",
       "    <tr>\n",
       "      <th>humanity</th>\n",
       "      <td>-0.612606</td>\n",
       "    </tr>\n",
       "    <tr>\n",
       "      <th>joe</th>\n",
       "      <td>-0.587793</td>\n",
       "    </tr>\n",
       "    <tr>\n",
       "      <th>susan</th>\n",
       "      <td>-0.567483</td>\n",
       "    </tr>\n",
       "    <tr>\n",
       "      <th>captain</th>\n",
       "      <td>-0.557041</td>\n",
       "    </tr>\n",
       "    <tr>\n",
       "      <th>smith</th>\n",
       "      <td>-0.543953</td>\n",
       "    </tr>\n",
       "    <tr>\n",
       "      <th>space</th>\n",
       "      <td>-0.542307</td>\n",
       "    </tr>\n",
       "  </tbody>\n",
       "</table>\n",
       "</div>"
      ],
      "text/plain": [
       "           coefficient\n",
       "token                 \n",
       "earth        -1.185525\n",
       "planet       -0.969874\n",
       "ai           -0.961754\n",
       "world        -0.919119\n",
       "ship         -0.850411\n",
       "artifact     -0.826702\n",
       "system       -0.826652\n",
       "universe     -0.786065\n",
       "human        -0.767545\n",
       "robot        -0.763940\n",
       "scientist    -0.740005\n",
       "alien        -0.732413\n",
       "daryl        -0.642421\n",
       "sir          -0.631317\n",
       "humanity     -0.612606\n",
       "joe          -0.587793\n",
       "susan        -0.567483\n",
       "captain      -0.557041\n",
       "smith        -0.543953\n",
       "space        -0.542307"
      ]
     },
     "execution_count": 42,
     "metadata": {},
     "output_type": "execute_result"
    }
   ],
   "source": [
    "tokens_lr2.sort_values(by='coefficient').head(20)"
   ]
  },
  {
   "cell_type": "code",
   "execution_count": 43,
   "metadata": {},
   "outputs": [
    {
     "data": {
      "image/png": "[encoded data removed]",
      "text/plain": [
       "<Figure size 1152x432 with 1 Axes>"
      ]
     },
     "metadata": {
      "needs_background": "light"
     },
     "output_type": "display_data"
    }
   ],
   "source": [
    "tokens_lr2.sort_values(by='coefficient').head(20).plot(kind='barh',figsize=(16,6))\n",
    "plt.gca().invert_xaxis()\n",
    "plt.gca().invert_yaxis()\n",
    "plt.title('top 20 features for r/shortscifistories');"
   ]
  },
  {
   "cell_type": "code",
   "execution_count": 44,
   "metadata": {
    "scrolled": false
   },
   "outputs": [
    {
     "data": {
      "text/html": [
       "<div>\n",
       "<style scoped>\n",
       "    .dataframe tbody tr th:only-of-type {\n",
       "        vertical-align: middle;\n",
       "    }\n",
       "\n",
       "    .dataframe tbody tr th {\n",
       "        vertical-align: top;\n",
       "    }\n",
       "\n",
       "    .dataframe thead th {\n",
       "        text-align: right;\n",
       "    }\n",
       "</style>\n",
       "<table border=\"1\" class=\"dataframe\">\n",
       "  <thead>\n",
       "    <tr style=\"text-align: right;\">\n",
       "      <th></th>\n",
       "      <th>coefficient</th>\n",
       "    </tr>\n",
       "    <tr>\n",
       "      <th>token</th>\n",
       "      <th></th>\n",
       "    </tr>\n",
       "  </thead>\n",
       "  <tbody>\n",
       "    <tr>\n",
       "      <th>go</th>\n",
       "      <td>1.072944</td>\n",
       "    </tr>\n",
       "    <tr>\n",
       "      <th>even</th>\n",
       "      <td>1.079735</td>\n",
       "    </tr>\n",
       "    <tr>\n",
       "      <th>look</th>\n",
       "      <td>1.093486</td>\n",
       "    </tr>\n",
       "    <tr>\n",
       "      <th>could</th>\n",
       "      <td>1.109990</td>\n",
       "    </tr>\n",
       "    <tr>\n",
       "      <th>went</th>\n",
       "      <td>1.145653</td>\n",
       "    </tr>\n",
       "    <tr>\n",
       "      <th>friend</th>\n",
       "      <td>1.153134</td>\n",
       "    </tr>\n",
       "    <tr>\n",
       "      <th>room</th>\n",
       "      <td>1.190734</td>\n",
       "    </tr>\n",
       "    <tr>\n",
       "      <th>eye</th>\n",
       "      <td>1.191086</td>\n",
       "    </tr>\n",
       "    <tr>\n",
       "      <th>car</th>\n",
       "      <td>1.192582</td>\n",
       "    </tr>\n",
       "    <tr>\n",
       "      <th>started</th>\n",
       "      <td>1.257356</td>\n",
       "    </tr>\n",
       "    <tr>\n",
       "      <th>get</th>\n",
       "      <td>1.279465</td>\n",
       "    </tr>\n",
       "    <tr>\n",
       "      <th>something</th>\n",
       "      <td>1.301522</td>\n",
       "    </tr>\n",
       "    <tr>\n",
       "      <th>door</th>\n",
       "      <td>1.310932</td>\n",
       "    </tr>\n",
       "    <tr>\n",
       "      <th>night</th>\n",
       "      <td>1.326798</td>\n",
       "    </tr>\n",
       "    <tr>\n",
       "      <th>know</th>\n",
       "      <td>1.351832</td>\n",
       "    </tr>\n",
       "    <tr>\n",
       "      <th>like</th>\n",
       "      <td>1.455514</td>\n",
       "    </tr>\n",
       "    <tr>\n",
       "      <th>looked</th>\n",
       "      <td>1.462452</td>\n",
       "    </tr>\n",
       "    <tr>\n",
       "      <th>house</th>\n",
       "      <td>1.628495</td>\n",
       "    </tr>\n",
       "    <tr>\n",
       "      <th>back</th>\n",
       "      <td>1.701222</td>\n",
       "    </tr>\n",
       "    <tr>\n",
       "      <th>said</th>\n",
       "      <td>2.085166</td>\n",
       "    </tr>\n",
       "  </tbody>\n",
       "</table>\n",
       "</div>"
      ],
      "text/plain": [
       "           coefficient\n",
       "token                 \n",
       "go            1.072944\n",
       "even          1.079735\n",
       "look          1.093486\n",
       "could         1.109990\n",
       "went          1.145653\n",
       "friend        1.153134\n",
       "room          1.190734\n",
       "eye           1.191086\n",
       "car           1.192582\n",
       "started       1.257356\n",
       "get           1.279465\n",
       "something     1.301522\n",
       "door          1.310932\n",
       "night         1.326798\n",
       "know          1.351832\n",
       "like          1.455514\n",
       "looked        1.462452\n",
       "house         1.628495\n",
       "back          1.701222\n",
       "said          2.085166"
      ]
     },
     "execution_count": 44,
     "metadata": {},
     "output_type": "execute_result"
    }
   ],
   "source": [
    "tokens_lr2.sort_values(by='coefficient').tail(20)"
   ]
  },
  {
   "cell_type": "code",
   "execution_count": 45,
   "metadata": {
    "scrolled": false
   },
   "outputs": [
    {
     "data": {
      "image/png": "[encoded data removed]",
      "text/plain": [
       "<Figure size 1152x432 with 1 Axes>"
      ]
     },
     "metadata": {
      "needs_background": "light"
     },
     "output_type": "display_data"
    }
   ],
   "source": [
    "tokens_lr2.sort_values(by='coefficient').tail(20).plot(kind='barh',figsize=(16,6))\n",
    "plt.title('top 20 features for r/nosleep');"
   ]
  },
  {
   "cell_type": "markdown",
   "metadata": {},
   "source": [
    "We see that for this logistic model with tfidfvectorizer, a different set of features have higher likelihood for classifying the 2 subreddits. \n",
    "\n",
    "For shortscifistories, there are more tokens related to planets/galaxies, e.g. space, universe, alien. Terms related to artificial intelligence and robotics also start to become more prominent, e.g. ai, system, robot.\n",
    "\n",
    "For nosleep, the important features seem to be still be related to senses, e.g. said, looked, eye etc. However, we note that hearing has now disappeared. Features like house and back start becoming more prominent, which makes sense as most stories might begin with haunted houses, or sensing something behind."
   ]
  },
  {
   "cell_type": "markdown",
   "metadata": {},
   "source": [
    "### 2.3 Naive Bayes modelling <a class=\"anchor\" id=\"nb_model\"></a>"
   ]
  },
  {
   "cell_type": "markdown",
   "metadata": {},
   "source": [
    "We know that the Multinomial Naive Bayes method implements the naive Bayes algorithm for multinomially distributed data, and is one of the two classic naive Bayes variants commonly used in text classification. We will therefore proceed to fit the Multinomial NB model with our data."
   ]
  },
  {
   "cell_type": "markdown",
   "metadata": {},
   "source": [
    "#### 2.31a Naive Bayes with Count Vectorizer <a class=\"anchor\" id=\"nb1\"></a>"
   ]
  },
  {
   "cell_type": "code",
   "execution_count": 46,
   "metadata": {},
   "outputs": [],
   "source": [
    "#setting up pipeline\n",
    "pipeline_nb1 = Pipeline([\n",
    "    ('cvec', CountVectorizer(stop_words=stopword_list)),\n",
    "    ('nb', MultinomialNB())\n",
    "])"
   ]
  },
  {
   "cell_type": "code",
   "execution_count": 47,
   "metadata": {},
   "outputs": [],
   "source": [
    "pipe_nb1_params = {\n",
    "    'cvec__max_df': [0.9, 0.95],\n",
    "    'cvec__max_features': [2000, 3000, 4000, 5000],\n",
    "    'cvec__min_df': [2, 3],\n",
    "    'cvec__ngram_range': [(1, 1), (1, 2)],\n",
    "}"
   ]
  },
  {
   "cell_type": "code",
   "execution_count": 48,
   "metadata": {},
   "outputs": [
    {
     "data": {
      "text/plain": [
       "Pipeline(steps=[('cvec',\n",
       "                 CountVectorizer(stop_words=['i', 'me', 'my', 'myself', 'we',\n",
       "                                             'our', 'ours', 'ourselves', 'you',\n",
       "                                             \"you're\", \"you've\", \"you'll\",\n",
       "                                             \"you'd\", 'your', 'yours',\n",
       "                                             'yourself', 'yourselves', 'he',\n",
       "                                             'him', 'his', 'himself', 'she',\n",
       "                                             \"she's\", 'her', 'hers', 'herself',\n",
       "                                             'it', \"it's\", 'its', 'itself', ...])),\n",
       "                ('nb', MultinomialNB())])"
      ]
     },
     "execution_count": 48,
     "metadata": {},
     "output_type": "execute_result"
    }
   ],
   "source": [
    "#fit the model\n",
    "pipeline_nb1.fit(X_train, y_train)"
   ]
  },
  {
   "cell_type": "code",
   "execution_count": 49,
   "metadata": {},
   "outputs": [
    {
     "data": {
      "text/plain": [
       "0.960285132382892"
      ]
     },
     "execution_count": 49,
     "metadata": {},
     "output_type": "execute_result"
    }
   ],
   "source": [
    "#Train score\n",
    "pipeline_nb1.score(X_train, y_train)"
   ]
  },
  {
   "cell_type": "code",
   "execution_count": 50,
   "metadata": {},
   "outputs": [
    {
     "data": {
      "text/plain": [
       "0.8533057851239669"
      ]
     },
     "execution_count": 50,
     "metadata": {},
     "output_type": "execute_result"
    }
   ],
   "source": [
    "#Test score\n",
    "pipeline_nb1.score(X_test, y_test)"
   ]
  },
  {
   "cell_type": "markdown",
   "metadata": {},
   "source": [
    "The accuracy scores seem to have dropped after fitting it to the multinomial NB model, and our model does not seem to generalise well to unseen data."
   ]
  },
  {
   "cell_type": "code",
   "execution_count": 51,
   "metadata": {},
   "outputs": [
    {
     "name": "stdout",
     "output_type": "stream",
     "text": [
      "Fitting 5 folds for each of 32 candidates, totalling 160 fits\n"
     ]
    },
    {
     "name": "stderr",
     "output_type": "stream",
     "text": [
      "[Parallel(n_jobs=1)]: Using backend SequentialBackend with 1 concurrent workers.\n",
      "[Parallel(n_jobs=1)]: Done 160 out of 160 | elapsed:  6.5min finished\n"
     ]
    },
    {
     "data": {
      "text/plain": [
       "GridSearchCV(cv=5,\n",
       "             estimator=Pipeline(steps=[('cvec',\n",
       "                                        CountVectorizer(stop_words=['i', 'me',\n",
       "                                                                    'my',\n",
       "                                                                    'myself',\n",
       "                                                                    'we', 'our',\n",
       "                                                                    'ours',\n",
       "                                                                    'ourselves',\n",
       "                                                                    'you',\n",
       "                                                                    \"you're\",\n",
       "                                                                    \"you've\",\n",
       "                                                                    \"you'll\",\n",
       "                                                                    \"you'd\",\n",
       "                                                                    'your',\n",
       "                                                                    'yours',\n",
       "                                                                    'yourself',\n",
       "                                                                    'yourselves',\n",
       "                                                                    'he', 'him',\n",
       "                                                                    'his',\n",
       "                                                                    'himself',\n",
       "                                                                    'she',\n",
       "                                                                    \"she's\",\n",
       "                                                                    'her',\n",
       "                                                                    'hers',\n",
       "                                                                    'herself',\n",
       "                                                                    'it',\n",
       "                                                                    \"it's\",\n",
       "                                                                    'its',\n",
       "                                                                    'itself', ...])),\n",
       "                                       ('nb', MultinomialNB())]),\n",
       "             param_grid={'cvec__max_df': [0.9, 0.95],\n",
       "                         'cvec__max_features': [2000, 3000, 4000, 5000],\n",
       "                         'cvec__min_df': [2, 3],\n",
       "                         'cvec__ngram_range': [(1, 1), (1, 2)]},\n",
       "             verbose=1)"
      ]
     },
     "execution_count": 51,
     "metadata": {},
     "output_type": "execute_result"
    }
   ],
   "source": [
    "#5 fold gridsearch cv \n",
    "gs_nb1 = GridSearchCV(pipeline_nb1, param_grid=pipe_nb1_params, cv=5, verbose=1)\n",
    "\n",
    "gs_nb1.fit(X_train, y_train)"
   ]
  },
  {
   "cell_type": "code",
   "execution_count": 52,
   "metadata": {},
   "outputs": [
    {
     "data": {
      "text/plain": [
       "Pipeline(steps=[('cvec',\n",
       "                 CountVectorizer(max_df=0.9, max_features=4000, min_df=2,\n",
       "                                 ngram_range=(1, 2),\n",
       "                                 stop_words=['i', 'me', 'my', 'myself', 'we',\n",
       "                                             'our', 'ours', 'ourselves', 'you',\n",
       "                                             \"you're\", \"you've\", \"you'll\",\n",
       "                                             \"you'd\", 'your', 'yours',\n",
       "                                             'yourself', 'yourselves', 'he',\n",
       "                                             'him', 'his', 'himself', 'she',\n",
       "                                             \"she's\", 'her', 'hers', 'herself',\n",
       "                                             'it', \"it's\", 'its', 'itself', ...])),\n",
       "                ('nb', MultinomialNB())])"
      ]
     },
     "execution_count": 52,
     "metadata": {},
     "output_type": "execute_result"
    }
   ],
   "source": [
    "gs_nb1.best_estimator_"
   ]
  },
  {
   "cell_type": "code",
   "execution_count": 53,
   "metadata": {},
   "outputs": [],
   "source": [
    "gs_nb1_model = gs_nb1.best_estimator_"
   ]
  },
  {
   "cell_type": "code",
   "execution_count": 54,
   "metadata": {},
   "outputs": [
    {
     "data": {
      "text/plain": [
       "0.8951362270796643"
      ]
     },
     "execution_count": 54,
     "metadata": {},
     "output_type": "execute_result"
    }
   ],
   "source": [
    "#best score\n",
    "gs_nb1.best_score_"
   ]
  },
  {
   "cell_type": "code",
   "execution_count": 55,
   "metadata": {},
   "outputs": [
    {
     "data": {
      "text/plain": [
       "0.9389002036659878"
      ]
     },
     "execution_count": 55,
     "metadata": {},
     "output_type": "execute_result"
    }
   ],
   "source": [
    "# best estimator train score\n",
    "gs_nb1_model.score(X_train, y_train)"
   ]
  },
  {
   "cell_type": "code",
   "execution_count": 56,
   "metadata": {},
   "outputs": [],
   "source": [
    "nb1_model_train_score = gs_nb1_model.score(X_train, y_train)"
   ]
  },
  {
   "cell_type": "code",
   "execution_count": 57,
   "metadata": {},
   "outputs": [
    {
     "data": {
      "text/plain": [
       "0.871900826446281"
      ]
     },
     "execution_count": 57,
     "metadata": {},
     "output_type": "execute_result"
    }
   ],
   "source": [
    "#best estimator test score\n",
    "gs_nb1_model.score(X_test, y_test)"
   ]
  },
  {
   "cell_type": "code",
   "execution_count": 58,
   "metadata": {},
   "outputs": [],
   "source": [
    "nb1_model_test_score = gs_nb1_model.score(X_test, y_test)"
   ]
  },
  {
   "cell_type": "code",
   "execution_count": 59,
   "metadata": {},
   "outputs": [],
   "source": [
    "model_name.append('Naive Bayes with CountVectorizer')\n",
    "model_train_scores.append(nb1_model_train_score)\n",
    "model_test_scores.append(nb1_model_test_score)\n",
    "model_best_score.append(gs_nb1.best_score_)\n",
    "model_estimators.append(gs_nb1_model)\n"
   ]
  },
  {
   "cell_type": "markdown",
   "metadata": {},
   "source": [
    "We see that comparative to Log Regression with Count Vectorizer and Log Regression with Tfidf Vectorizer, the best estimator for Multinomial NB with CountVectorizer gives us a lower accuracy score for both train and test sets. Thus far, the Logistic Regression model with Tfidf Vectorizer seems the best model, considering both accuracy scores, and also the delta between the train and test accuracy."
   ]
  },
  {
   "cell_type": "markdown",
   "metadata": {},
   "source": [
    "#### 2.31b Getting coefficients and feature names for naive bayes model with countvectorizer <a class=\"anchor\" id=\"nb1coef\"></a>"
   ]
  },
  {
   "cell_type": "code",
   "execution_count": 60,
   "metadata": {},
   "outputs": [],
   "source": [
    "#get coefficient names\n",
    "coef_names_nb1 = gs_nb1_model.steps[0][1].get_feature_names()\n",
    "coef_nb1 = gs_nb1_model.steps[1][1].coef_[0]\n",
    "#scifi_token_count_nb1 = gs_nb1_model.steps[1][1].feature_count_[0, :]\n",
    "#nosleep_token_count_nb1 = gs_nb1_model.steps[1][1].feature_count_[1, :]\n",
    "\n",
    "# creating a pandas dataframe for coefficient names and coefficients\n",
    "tokens_nb1 = pd.DataFrame({'token': coef_names_nb1, 'coefficient': np.exp(coef_nb1)}).set_index('token')"
   ]
  },
  {
   "cell_type": "code",
   "execution_count": 61,
   "metadata": {},
   "outputs": [
    {
     "data": {
      "text/html": [
       "<div>\n",
       "<style scoped>\n",
       "    .dataframe tbody tr th:only-of-type {\n",
       "        vertical-align: middle;\n",
       "    }\n",
       "\n",
       "    .dataframe tbody tr th {\n",
       "        vertical-align: top;\n",
       "    }\n",
       "\n",
       "    .dataframe thead th {\n",
       "        text-align: right;\n",
       "    }\n",
       "</style>\n",
       "<table border=\"1\" class=\"dataframe\">\n",
       "  <thead>\n",
       "    <tr style=\"text-align: right;\">\n",
       "      <th></th>\n",
       "      <th>coefficient</th>\n",
       "    </tr>\n",
       "    <tr>\n",
       "      <th>token</th>\n",
       "      <th></th>\n",
       "    </tr>\n",
       "  </thead>\n",
       "  <tbody>\n",
       "    <tr>\n",
       "      <th>asteroid</th>\n",
       "      <td>0.000002</td>\n",
       "    </tr>\n",
       "    <tr>\n",
       "      <th>solar system</th>\n",
       "      <td>0.000002</td>\n",
       "    </tr>\n",
       "    <tr>\n",
       "      <th>lyla</th>\n",
       "      <td>0.000002</td>\n",
       "    </tr>\n",
       "    <tr>\n",
       "      <th>marsha</th>\n",
       "      <td>0.000002</td>\n",
       "    </tr>\n",
       "    <tr>\n",
       "      <th>jenny</th>\n",
       "      <td>0.000002</td>\n",
       "    </tr>\n",
       "    <tr>\n",
       "      <th>daryl</th>\n",
       "      <td>0.000002</td>\n",
       "    </tr>\n",
       "    <tr>\n",
       "      <th>president</th>\n",
       "      <td>0.000004</td>\n",
       "    </tr>\n",
       "    <tr>\n",
       "      <th>martian</th>\n",
       "      <td>0.000004</td>\n",
       "    </tr>\n",
       "    <tr>\n",
       "      <th>quantum</th>\n",
       "      <td>0.000004</td>\n",
       "    </tr>\n",
       "    <tr>\n",
       "      <th>mining</th>\n",
       "      <td>0.000004</td>\n",
       "    </tr>\n",
       "    <tr>\n",
       "      <th>bot</th>\n",
       "      <td>0.000004</td>\n",
       "    </tr>\n",
       "    <tr>\n",
       "      <th>robot</th>\n",
       "      <td>0.000004</td>\n",
       "    </tr>\n",
       "    <tr>\n",
       "      <th>global</th>\n",
       "      <td>0.000006</td>\n",
       "    </tr>\n",
       "    <tr>\n",
       "      <th>ai</th>\n",
       "      <td>0.000006</td>\n",
       "    </tr>\n",
       "    <tr>\n",
       "      <th>implant</th>\n",
       "      <td>0.000006</td>\n",
       "    </tr>\n",
       "    <tr>\n",
       "      <th>extinction</th>\n",
       "      <td>0.000006</td>\n",
       "    </tr>\n",
       "    <tr>\n",
       "      <th>neural</th>\n",
       "      <td>0.000006</td>\n",
       "    </tr>\n",
       "    <tr>\n",
       "      <th>lawrence</th>\n",
       "      <td>0.000010</td>\n",
       "    </tr>\n",
       "    <tr>\n",
       "      <th>laser</th>\n",
       "      <td>0.000010</td>\n",
       "    </tr>\n",
       "    <tr>\n",
       "      <th>protocol</th>\n",
       "      <td>0.000010</td>\n",
       "    </tr>\n",
       "  </tbody>\n",
       "</table>\n",
       "</div>"
      ],
      "text/plain": [
       "              coefficient\n",
       "token                    \n",
       "asteroid         0.000002\n",
       "solar system     0.000002\n",
       "lyla             0.000002\n",
       "marsha           0.000002\n",
       "jenny            0.000002\n",
       "daryl            0.000002\n",
       "president        0.000004\n",
       "martian          0.000004\n",
       "quantum          0.000004\n",
       "mining           0.000004\n",
       "bot              0.000004\n",
       "robot            0.000004\n",
       "global           0.000006\n",
       "ai               0.000006\n",
       "implant          0.000006\n",
       "extinction       0.000006\n",
       "neural           0.000006\n",
       "lawrence         0.000010\n",
       "laser            0.000010\n",
       "protocol         0.000010"
      ]
     },
     "execution_count": 61,
     "metadata": {},
     "output_type": "execute_result"
    }
   ],
   "source": [
    "tokens_nb1.sort_values(by='coefficient').head(20)"
   ]
  },
  {
   "cell_type": "code",
   "execution_count": 62,
   "metadata": {},
   "outputs": [
    {
     "data": {
      "image/png": "[encoded data removed]",
      "text/plain": [
       "<Figure size 1152x432 with 1 Axes>"
      ]
     },
     "metadata": {
      "needs_background": "light"
     },
     "output_type": "display_data"
    }
   ],
   "source": [
    "tokens_nb1.sort_values(by='coefficient').head(20).plot(kind='barh',figsize=(16,6))\n",
    "#plt.gca().invert_xaxis()\n",
    "#plt.gca().invert_yaxis()\n",
    "plt.title('top 20 features for r/shortscifistories');"
   ]
  },
  {
   "cell_type": "code",
   "execution_count": 63,
   "metadata": {},
   "outputs": [
    {
     "data": {
      "text/html": [
       "<div>\n",
       "<style scoped>\n",
       "    .dataframe tbody tr th:only-of-type {\n",
       "        vertical-align: middle;\n",
       "    }\n",
       "\n",
       "    .dataframe tbody tr th {\n",
       "        vertical-align: top;\n",
       "    }\n",
       "\n",
       "    .dataframe thead th {\n",
       "        text-align: right;\n",
       "    }\n",
       "</style>\n",
       "<table border=\"1\" class=\"dataframe\">\n",
       "  <thead>\n",
       "    <tr style=\"text-align: right;\">\n",
       "      <th></th>\n",
       "      <th>coefficient</th>\n",
       "    </tr>\n",
       "    <tr>\n",
       "      <th>token</th>\n",
       "      <th></th>\n",
       "    </tr>\n",
       "  </thead>\n",
       "  <tbody>\n",
       "    <tr>\n",
       "      <th>go</th>\n",
       "      <td>0.003435</td>\n",
       "    </tr>\n",
       "    <tr>\n",
       "      <th>hand</th>\n",
       "      <td>0.003507</td>\n",
       "    </tr>\n",
       "    <tr>\n",
       "      <th>still</th>\n",
       "      <td>0.003788</td>\n",
       "    </tr>\n",
       "    <tr>\n",
       "      <th>looked</th>\n",
       "      <td>0.003934</td>\n",
       "    </tr>\n",
       "    <tr>\n",
       "      <th>even</th>\n",
       "      <td>0.004135</td>\n",
       "    </tr>\n",
       "    <tr>\n",
       "      <th>around</th>\n",
       "      <td>0.004213</td>\n",
       "    </tr>\n",
       "    <tr>\n",
       "      <th>thing</th>\n",
       "      <td>0.004215</td>\n",
       "    </tr>\n",
       "    <tr>\n",
       "      <th>see</th>\n",
       "      <td>0.004429</td>\n",
       "    </tr>\n",
       "    <tr>\n",
       "      <th>door</th>\n",
       "      <td>0.004431</td>\n",
       "    </tr>\n",
       "    <tr>\n",
       "      <th>something</th>\n",
       "      <td>0.004548</td>\n",
       "    </tr>\n",
       "    <tr>\n",
       "      <th>get</th>\n",
       "      <td>0.004554</td>\n",
       "    </tr>\n",
       "    <tr>\n",
       "      <th>eye</th>\n",
       "      <td>0.005063</td>\n",
       "    </tr>\n",
       "    <tr>\n",
       "      <th>know</th>\n",
       "      <td>0.005217</td>\n",
       "    </tr>\n",
       "    <tr>\n",
       "      <th>would</th>\n",
       "      <td>0.005541</td>\n",
       "    </tr>\n",
       "    <tr>\n",
       "      <th>said</th>\n",
       "      <td>0.005960</td>\n",
       "    </tr>\n",
       "    <tr>\n",
       "      <th>time</th>\n",
       "      <td>0.005985</td>\n",
       "    </tr>\n",
       "    <tr>\n",
       "      <th>could</th>\n",
       "      <td>0.006790</td>\n",
       "    </tr>\n",
       "    <tr>\n",
       "      <th>one</th>\n",
       "      <td>0.007258</td>\n",
       "    </tr>\n",
       "    <tr>\n",
       "      <th>back</th>\n",
       "      <td>0.007767</td>\n",
       "    </tr>\n",
       "    <tr>\n",
       "      <th>like</th>\n",
       "      <td>0.009210</td>\n",
       "    </tr>\n",
       "  </tbody>\n",
       "</table>\n",
       "</div>"
      ],
      "text/plain": [
       "           coefficient\n",
       "token                 \n",
       "go            0.003435\n",
       "hand          0.003507\n",
       "still         0.003788\n",
       "looked        0.003934\n",
       "even          0.004135\n",
       "around        0.004213\n",
       "thing         0.004215\n",
       "see           0.004429\n",
       "door          0.004431\n",
       "something     0.004548\n",
       "get           0.004554\n",
       "eye           0.005063\n",
       "know          0.005217\n",
       "would         0.005541\n",
       "said          0.005960\n",
       "time          0.005985\n",
       "could         0.006790\n",
       "one           0.007258\n",
       "back          0.007767\n",
       "like          0.009210"
      ]
     },
     "execution_count": 63,
     "metadata": {},
     "output_type": "execute_result"
    }
   ],
   "source": [
    "tokens_nb1.sort_values(by='coefficient').tail(20)"
   ]
  },
  {
   "cell_type": "code",
   "execution_count": 64,
   "metadata": {},
   "outputs": [
    {
     "data": {
      "image/png": "[encoded data removed]",
      "text/plain": [
       "<Figure size 1152x432 with 1 Axes>"
      ]
     },
     "metadata": {
      "needs_background": "light"
     },
     "output_type": "display_data"
    }
   ],
   "source": [
    "tokens_nb1.sort_values(by='coefficient').tail(20).plot(kind='barh',figsize=(16,6))\n",
    "#plt.gca().invert_xaxis()\n",
    "#plt.gca().invert_yaxis()\n",
    "plt.title('top 20 features for r/nosleep');"
   ]
  },
  {
   "cell_type": "markdown",
   "metadata": {},
   "source": [
    "From sklearn documentation, we know that the coefficients for the Naive Bayes model corresponds to the empirical log probability of features given a class. After exponentiating the coefficients, we see the empirical probability of the features.\n",
    "\n",
    "Our Naive Bayes model with Count Vectorizer has returned us some bigrams, e.g. solar system. We also see that there is some difference in the importance of the tokens compared to logistic regression. \n",
    "\n",
    "For shortscifistories, names e.g. daryl, jenny, marsha, lawrence etc. begin to appear as prominent features. It seems like our shortscifistories authors love to use these names as protagonists in their stories.  \n",
    "\n",
    "There are different words related to planets or galaxies that appear: asteroid, solar system, wormhole, martian etc. Features like protocol, laser, neural and extinction, which did not appear when we were exploring the top 20 features for logistic regression, have also assumed more importance in this model.\n",
    "\n",
    "For nosleep, e.g. looked, eye, back are still within the top 20 most important features."
   ]
  },
  {
   "cell_type": "markdown",
   "metadata": {},
   "source": [
    "#### 2.32a Naive Bayes with Tfidf Vectorizer <a class=\"anchor\" id=\"nb2\"></a>"
   ]
  },
  {
   "cell_type": "code",
   "execution_count": 65,
   "metadata": {},
   "outputs": [],
   "source": [
    "#setting up pipeline\n",
    "pipeline_nb2 = Pipeline([\n",
    "    ('tvec', TfidfVectorizer(stop_words=stopword_list)),\n",
    "    ('nb', MultinomialNB())\n",
    "])"
   ]
  },
  {
   "cell_type": "code",
   "execution_count": 66,
   "metadata": {},
   "outputs": [],
   "source": [
    "pipe_nb2_params = {\n",
    "    'tvec__max_df': [0.9, 0.95],\n",
    "    'tvec__max_features': [2000, 3000, 4000, 5000],\n",
    "    'tvec__min_df': [2, 3],\n",
    "    'tvec__ngram_range': [(1, 1), (1, 2)],\n",
    "}"
   ]
  },
  {
   "cell_type": "code",
   "execution_count": 67,
   "metadata": {},
   "outputs": [
    {
     "data": {
      "text/plain": [
       "Pipeline(steps=[('tvec',\n",
       "                 TfidfVectorizer(stop_words=['i', 'me', 'my', 'myself', 'we',\n",
       "                                             'our', 'ours', 'ourselves', 'you',\n",
       "                                             \"you're\", \"you've\", \"you'll\",\n",
       "                                             \"you'd\", 'your', 'yours',\n",
       "                                             'yourself', 'yourselves', 'he',\n",
       "                                             'him', 'his', 'himself', 'she',\n",
       "                                             \"she's\", 'her', 'hers', 'herself',\n",
       "                                             'it', \"it's\", 'its', 'itself', ...])),\n",
       "                ('nb', MultinomialNB())])"
      ]
     },
     "execution_count": 67,
     "metadata": {},
     "output_type": "execute_result"
    }
   ],
   "source": [
    "#fit the model\n",
    "pipeline_nb2.fit(X_train, y_train)"
   ]
  },
  {
   "cell_type": "code",
   "execution_count": 68,
   "metadata": {},
   "outputs": [
    {
     "data": {
      "text/plain": [
       "0.8309572301425662"
      ]
     },
     "execution_count": 68,
     "metadata": {},
     "output_type": "execute_result"
    }
   ],
   "source": [
    "#Train score\n",
    "pipeline_nb2.score(X_train, y_train)"
   ]
  },
  {
   "cell_type": "code",
   "execution_count": 69,
   "metadata": {},
   "outputs": [
    {
     "data": {
      "text/plain": [
       "0.7086776859504132"
      ]
     },
     "execution_count": 69,
     "metadata": {},
     "output_type": "execute_result"
    }
   ],
   "source": [
    "#Test score\n",
    "pipeline_nb2.score(X_test, y_test)"
   ]
  },
  {
   "cell_type": "markdown",
   "metadata": {},
   "source": [
    "We see that the model performs worse in terms of accuracy than other models we have fitted, and it also does not seem to generalise well on unseen data."
   ]
  },
  {
   "cell_type": "code",
   "execution_count": 70,
   "metadata": {},
   "outputs": [
    {
     "name": "stdout",
     "output_type": "stream",
     "text": [
      "Fitting 5 folds for each of 32 candidates, totalling 160 fits\n"
     ]
    },
    {
     "name": "stderr",
     "output_type": "stream",
     "text": [
      "[Parallel(n_jobs=1)]: Using backend SequentialBackend with 1 concurrent workers.\n",
      "[Parallel(n_jobs=1)]: Done 160 out of 160 | elapsed:  5.1min finished\n"
     ]
    },
    {
     "data": {
      "text/plain": [
       "GridSearchCV(cv=5,\n",
       "             estimator=Pipeline(steps=[('tvec',\n",
       "                                        TfidfVectorizer(stop_words=['i', 'me',\n",
       "                                                                    'my',\n",
       "                                                                    'myself',\n",
       "                                                                    'we', 'our',\n",
       "                                                                    'ours',\n",
       "                                                                    'ourselves',\n",
       "                                                                    'you',\n",
       "                                                                    \"you're\",\n",
       "                                                                    \"you've\",\n",
       "                                                                    \"you'll\",\n",
       "                                                                    \"you'd\",\n",
       "                                                                    'your',\n",
       "                                                                    'yours',\n",
       "                                                                    'yourself',\n",
       "                                                                    'yourselves',\n",
       "                                                                    'he', 'him',\n",
       "                                                                    'his',\n",
       "                                                                    'himself',\n",
       "                                                                    'she',\n",
       "                                                                    \"she's\",\n",
       "                                                                    'her',\n",
       "                                                                    'hers',\n",
       "                                                                    'herself',\n",
       "                                                                    'it',\n",
       "                                                                    \"it's\",\n",
       "                                                                    'its',\n",
       "                                                                    'itself', ...])),\n",
       "                                       ('nb', MultinomialNB())]),\n",
       "             param_grid={'tvec__max_df': [0.9, 0.95],\n",
       "                         'tvec__max_features': [2000, 3000, 4000, 5000],\n",
       "                         'tvec__min_df': [2, 3],\n",
       "                         'tvec__ngram_range': [(1, 1), (1, 2)]},\n",
       "             verbose=1)"
      ]
     },
     "execution_count": 70,
     "metadata": {},
     "output_type": "execute_result"
    }
   ],
   "source": [
    "#5 fold gridsearch cv \n",
    "gs_nb2 = GridSearchCV(pipeline_nb2, param_grid=pipe_nb2_params, cv=5, verbose=1)\n",
    "\n",
    "gs_nb2.fit(X_train, y_train)"
   ]
  },
  {
   "cell_type": "code",
   "execution_count": 71,
   "metadata": {},
   "outputs": [
    {
     "data": {
      "text/plain": [
       "Pipeline(steps=[('tvec',\n",
       "                 TfidfVectorizer(max_df=0.9, max_features=2000, min_df=2,\n",
       "                                 ngram_range=(1, 2),\n",
       "                                 stop_words=['i', 'me', 'my', 'myself', 'we',\n",
       "                                             'our', 'ours', 'ourselves', 'you',\n",
       "                                             \"you're\", \"you've\", \"you'll\",\n",
       "                                             \"you'd\", 'your', 'yours',\n",
       "                                             'yourself', 'yourselves', 'he',\n",
       "                                             'him', 'his', 'himself', 'she',\n",
       "                                             \"she's\", 'her', 'hers', 'herself',\n",
       "                                             'it', \"it's\", 'its', 'itself', ...])),\n",
       "                ('nb', MultinomialNB())])"
      ]
     },
     "execution_count": 71,
     "metadata": {},
     "output_type": "execute_result"
    }
   ],
   "source": [
    "gs_nb2.best_estimator_"
   ]
  },
  {
   "cell_type": "code",
   "execution_count": 72,
   "metadata": {},
   "outputs": [],
   "source": [
    "gs_nb2_model = gs_nb2.best_estimator_"
   ]
  },
  {
   "cell_type": "code",
   "execution_count": 73,
   "metadata": {},
   "outputs": [
    {
     "data": {
      "text/plain": [
       "0.8931005904900031"
      ]
     },
     "execution_count": 73,
     "metadata": {},
     "output_type": "execute_result"
    }
   ],
   "source": [
    "#best score\n",
    "gs_nb2.best_score_"
   ]
  },
  {
   "cell_type": "code",
   "execution_count": 74,
   "metadata": {},
   "outputs": [
    {
     "data": {
      "text/plain": [
       "0.9205702647657841"
      ]
     },
     "execution_count": 74,
     "metadata": {},
     "output_type": "execute_result"
    }
   ],
   "source": [
    "# best estimator train score\n",
    "gs_nb2_model.score(X_train, y_train)"
   ]
  },
  {
   "cell_type": "code",
   "execution_count": 75,
   "metadata": {},
   "outputs": [],
   "source": [
    "nb2_model_train_score = gs_nb2_model.score(X_train, y_train)"
   ]
  },
  {
   "cell_type": "code",
   "execution_count": 76,
   "metadata": {
    "scrolled": false
   },
   "outputs": [
    {
     "data": {
      "text/plain": [
       "0.8636363636363636"
      ]
     },
     "execution_count": 76,
     "metadata": {},
     "output_type": "execute_result"
    }
   ],
   "source": [
    "#best estimator test score\n",
    "gs_nb2_model.score(X_test, y_test)"
   ]
  },
  {
   "cell_type": "code",
   "execution_count": 77,
   "metadata": {},
   "outputs": [],
   "source": [
    "nb2_model_test_score = gs_nb2_model.score(X_test, y_test)"
   ]
  },
  {
   "cell_type": "code",
   "execution_count": 78,
   "metadata": {},
   "outputs": [],
   "source": [
    "model_name.append('Naive Bayes with TfidfVectorizer')\n",
    "model_train_scores.append(nb2_model_train_score)\n",
    "model_test_scores.append(nb2_model_test_score)\n",
    "model_best_score.append(gs_nb2.best_score_)\n",
    "model_estimators.append(gs_nb2_model)\n"
   ]
  },
  {
   "cell_type": "markdown",
   "metadata": {},
   "source": [
    "We see that our best estimator score for Naive Bayes with TfidfVectorizer is lower than Naive Bayes with CountVectorizer. There is a drop of 5.7% in training accuracy score compared to testing accuracy score. "
   ]
  },
  {
   "cell_type": "markdown",
   "metadata": {},
   "source": [
    "#### 2.32b Getting coefficients and feature names for naive bayes model with tfidfvectorizer <a class=\"anchor\" id=\"nb2coef\"></a>"
   ]
  },
  {
   "cell_type": "code",
   "execution_count": 79,
   "metadata": {
    "scrolled": false
   },
   "outputs": [],
   "source": [
    "#get coefficient names\n",
    "coef_names_nb2 = gs_nb2_model.steps[0][1].get_feature_names()\n",
    "coef_nb2 = gs_nb2_model.steps[1][1].coef_[0]\n",
    "#scifi_token_count_nb2 = gs_nb2_model.steps[1][1].feature_count_[0, :]\n",
    "#nosleep_token_count_nb2 = gs_nb2_model.steps[1][1].feature_count_[1, :]\n",
    "\n",
    "# creating a pandas dataframe for coefficient names and coefficients\n",
    "tokens_nb2 = pd.DataFrame({'token': coef_names_nb2, 'coefficient': np.exp(coef_nb2) }).set_index('token')"
   ]
  },
  {
   "cell_type": "code",
   "execution_count": 80,
   "metadata": {
    "scrolled": false
   },
   "outputs": [
    {
     "data": {
      "text/html": [
       "<div>\n",
       "<style scoped>\n",
       "    .dataframe tbody tr th:only-of-type {\n",
       "        vertical-align: middle;\n",
       "    }\n",
       "\n",
       "    .dataframe tbody tr th {\n",
       "        vertical-align: top;\n",
       "    }\n",
       "\n",
       "    .dataframe thead th {\n",
       "        text-align: right;\n",
       "    }\n",
       "</style>\n",
       "<table border=\"1\" class=\"dataframe\">\n",
       "  <thead>\n",
       "    <tr style=\"text-align: right;\">\n",
       "      <th></th>\n",
       "      <th>coefficient</th>\n",
       "    </tr>\n",
       "    <tr>\n",
       "      <th>token</th>\n",
       "      <th></th>\n",
       "    </tr>\n",
       "  </thead>\n",
       "  <tbody>\n",
       "    <tr>\n",
       "      <th>daryl</th>\n",
       "      <td>0.000117</td>\n",
       "    </tr>\n",
       "    <tr>\n",
       "      <th>robot</th>\n",
       "      <td>0.000118</td>\n",
       "    </tr>\n",
       "    <tr>\n",
       "      <th>nbsp amp</th>\n",
       "      <td>0.000124</td>\n",
       "    </tr>\n",
       "    <tr>\n",
       "      <th>ai</th>\n",
       "      <td>0.000125</td>\n",
       "    </tr>\n",
       "    <tr>\n",
       "      <th>solar</th>\n",
       "      <td>0.000134</td>\n",
       "    </tr>\n",
       "    <tr>\n",
       "      <th>billion</th>\n",
       "      <td>0.000139</td>\n",
       "    </tr>\n",
       "    <tr>\n",
       "      <th>society</th>\n",
       "      <td>0.000143</td>\n",
       "    </tr>\n",
       "    <tr>\n",
       "      <th>technology</th>\n",
       "      <td>0.000143</td>\n",
       "    </tr>\n",
       "    <tr>\n",
       "      <th>intelligence</th>\n",
       "      <td>0.000144</td>\n",
       "    </tr>\n",
       "    <tr>\n",
       "      <th>michael</th>\n",
       "      <td>0.000150</td>\n",
       "    </tr>\n",
       "    <tr>\n",
       "      <th>colony</th>\n",
       "      <td>0.000152</td>\n",
       "    </tr>\n",
       "    <tr>\n",
       "      <th>jason</th>\n",
       "      <td>0.000154</td>\n",
       "    </tr>\n",
       "    <tr>\n",
       "      <th>scientist</th>\n",
       "      <td>0.000157</td>\n",
       "    </tr>\n",
       "    <tr>\n",
       "      <th>chamber</th>\n",
       "      <td>0.000159</td>\n",
       "    </tr>\n",
       "    <tr>\n",
       "      <th>leader</th>\n",
       "      <td>0.000166</td>\n",
       "    </tr>\n",
       "    <tr>\n",
       "      <th>operation</th>\n",
       "      <td>0.000168</td>\n",
       "    </tr>\n",
       "    <tr>\n",
       "      <th>jones</th>\n",
       "      <td>0.000174</td>\n",
       "    </tr>\n",
       "    <tr>\n",
       "      <th>generation</th>\n",
       "      <td>0.000175</td>\n",
       "    </tr>\n",
       "    <tr>\n",
       "      <th>civilization</th>\n",
       "      <td>0.000176</td>\n",
       "    </tr>\n",
       "    <tr>\n",
       "      <th>communication</th>\n",
       "      <td>0.000179</td>\n",
       "    </tr>\n",
       "  </tbody>\n",
       "</table>\n",
       "</div>"
      ],
      "text/plain": [
       "               coefficient\n",
       "token                     \n",
       "daryl             0.000117\n",
       "robot             0.000118\n",
       "nbsp amp          0.000124\n",
       "ai                0.000125\n",
       "solar             0.000134\n",
       "billion           0.000139\n",
       "society           0.000143\n",
       "technology        0.000143\n",
       "intelligence      0.000144\n",
       "michael           0.000150\n",
       "colony            0.000152\n",
       "jason             0.000154\n",
       "scientist         0.000157\n",
       "chamber           0.000159\n",
       "leader            0.000166\n",
       "operation         0.000168\n",
       "jones             0.000174\n",
       "generation        0.000175\n",
       "civilization      0.000176\n",
       "communication     0.000179"
      ]
     },
     "execution_count": 80,
     "metadata": {},
     "output_type": "execute_result"
    }
   ],
   "source": [
    "tokens_nb2.sort_values(by='coefficient').head(20)"
   ]
  },
  {
   "cell_type": "code",
   "execution_count": 81,
   "metadata": {},
   "outputs": [
    {
     "data": {
      "image/png": "[encoded data removed]",
      "text/plain": [
       "<Figure size 1152x432 with 1 Axes>"
      ]
     },
     "metadata": {
      "needs_background": "light"
     },
     "output_type": "display_data"
    }
   ],
   "source": [
    "tokens_nb2.sort_values(by='coefficient').head(20).plot(kind='barh',figsize=(16,6))\n",
    "#plt.gca().invert_xaxis()\n",
    "#plt.gca().invert_yaxis()\n",
    "plt.title('top 20 features for r/shortscifistories');"
   ]
  },
  {
   "cell_type": "code",
   "execution_count": 82,
   "metadata": {},
   "outputs": [
    {
     "data": {
      "text/html": [
       "<div>\n",
       "<style scoped>\n",
       "    .dataframe tbody tr th:only-of-type {\n",
       "        vertical-align: middle;\n",
       "    }\n",
       "\n",
       "    .dataframe tbody tr th {\n",
       "        vertical-align: top;\n",
       "    }\n",
       "\n",
       "    .dataframe thead th {\n",
       "        text-align: right;\n",
       "    }\n",
       "</style>\n",
       "<table border=\"1\" class=\"dataframe\">\n",
       "  <thead>\n",
       "    <tr style=\"text-align: right;\">\n",
       "      <th></th>\n",
       "      <th>coefficient</th>\n",
       "    </tr>\n",
       "    <tr>\n",
       "      <th>token</th>\n",
       "      <th></th>\n",
       "    </tr>\n",
       "  </thead>\n",
       "  <tbody>\n",
       "    <tr>\n",
       "      <th>night</th>\n",
       "      <td>0.002243</td>\n",
       "    </tr>\n",
       "    <tr>\n",
       "      <th>even</th>\n",
       "      <td>0.002370</td>\n",
       "    </tr>\n",
       "    <tr>\n",
       "      <th>around</th>\n",
       "      <td>0.002372</td>\n",
       "    </tr>\n",
       "    <tr>\n",
       "      <th>see</th>\n",
       "      <td>0.002400</td>\n",
       "    </tr>\n",
       "    <tr>\n",
       "      <th>looked</th>\n",
       "      <td>0.002447</td>\n",
       "    </tr>\n",
       "    <tr>\n",
       "      <th>room</th>\n",
       "      <td>0.002453</td>\n",
       "    </tr>\n",
       "    <tr>\n",
       "      <th>thing</th>\n",
       "      <td>0.002484</td>\n",
       "    </tr>\n",
       "    <tr>\n",
       "      <th>amp</th>\n",
       "      <td>0.002520</td>\n",
       "    </tr>\n",
       "    <tr>\n",
       "      <th>get</th>\n",
       "      <td>0.002635</td>\n",
       "    </tr>\n",
       "    <tr>\n",
       "      <th>something</th>\n",
       "      <td>0.002655</td>\n",
       "    </tr>\n",
       "    <tr>\n",
       "      <th>eye</th>\n",
       "      <td>0.002835</td>\n",
       "    </tr>\n",
       "    <tr>\n",
       "      <th>know</th>\n",
       "      <td>0.002883</td>\n",
       "    </tr>\n",
       "    <tr>\n",
       "      <th>time</th>\n",
       "      <td>0.002886</td>\n",
       "    </tr>\n",
       "    <tr>\n",
       "      <th>would</th>\n",
       "      <td>0.002968</td>\n",
       "    </tr>\n",
       "    <tr>\n",
       "      <th>door</th>\n",
       "      <td>0.003012</td>\n",
       "    </tr>\n",
       "    <tr>\n",
       "      <th>said</th>\n",
       "      <td>0.003203</td>\n",
       "    </tr>\n",
       "    <tr>\n",
       "      <th>one</th>\n",
       "      <td>0.003218</td>\n",
       "    </tr>\n",
       "    <tr>\n",
       "      <th>could</th>\n",
       "      <td>0.003352</td>\n",
       "    </tr>\n",
       "    <tr>\n",
       "      <th>back</th>\n",
       "      <td>0.003769</td>\n",
       "    </tr>\n",
       "    <tr>\n",
       "      <th>like</th>\n",
       "      <td>0.004286</td>\n",
       "    </tr>\n",
       "  </tbody>\n",
       "</table>\n",
       "</div>"
      ],
      "text/plain": [
       "           coefficient\n",
       "token                 \n",
       "night         0.002243\n",
       "even          0.002370\n",
       "around        0.002372\n",
       "see           0.002400\n",
       "looked        0.002447\n",
       "room          0.002453\n",
       "thing         0.002484\n",
       "amp           0.002520\n",
       "get           0.002635\n",
       "something     0.002655\n",
       "eye           0.002835\n",
       "know          0.002883\n",
       "time          0.002886\n",
       "would         0.002968\n",
       "door          0.003012\n",
       "said          0.003203\n",
       "one           0.003218\n",
       "could         0.003352\n",
       "back          0.003769\n",
       "like          0.004286"
      ]
     },
     "execution_count": 82,
     "metadata": {},
     "output_type": "execute_result"
    }
   ],
   "source": [
    "tokens_nb2.sort_values(by='coefficient').tail(20)"
   ]
  },
  {
   "cell_type": "code",
   "execution_count": 83,
   "metadata": {},
   "outputs": [
    {
     "data": {
      "image/png": "[encoded data removed]",
      "text/plain": [
       "<Figure size 1152x432 with 1 Axes>"
      ]
     },
     "metadata": {
      "needs_background": "light"
     },
     "output_type": "display_data"
    }
   ],
   "source": [
    "tokens_nb2.sort_values(by='coefficient').tail(20).plot(kind='barh',figsize=(16,6))\n",
    "#plt.gca().invert_xaxis()\n",
    "#plt.gca().invert_yaxis()\n",
    "plt.title('top 20 features for r/shortscifistories');"
   ]
  },
  {
   "cell_type": "markdown",
   "metadata": {},
   "source": [
    "For this current Naive Bayes model with the TfidfVectorizer, the top 20 tokens seem to have changed, especially for the scifi subreddit. Tokens related to humanity and civilisation appears more important e.g. civilisation,society, generation, colony etc. ai and robots still feature in top 20.\n",
    "\n",
    "For the nosleep subreddit, tokens like see, looked, eye, back are still considered important features."
   ]
  },
  {
   "cell_type": "markdown",
   "metadata": {},
   "source": [
    "### 2.4 Experimenting with Random Forests <a class=\"anchor\" id=\"rf_model\"></a>"
   ]
  },
  {
   "cell_type": "markdown",
   "metadata": {},
   "source": [
    "We learned that Random Forests are ensemble methods that are used for classification and regression: they construct a multitude of decision trees during training and outputs the mode of the classes (for classification), or the average of the predictions (for regression). We will now try to fit a random forest model with our data. "
   ]
  },
  {
   "cell_type": "markdown",
   "metadata": {},
   "source": [
    "#### 2.41a Random forest model with countvectorizer <a class=\"anchor\" id=\"rf1\"></a>"
   ]
  },
  {
   "cell_type": "code",
   "execution_count": 84,
   "metadata": {},
   "outputs": [],
   "source": [
    "#setting up pipeline\n",
    "pipeline_rf1 = Pipeline([\n",
    "    ('cvec', CountVectorizer(stop_words=stopword_list)),\n",
    "    ('rf', RandomForestClassifier())\n",
    "])"
   ]
  },
  {
   "cell_type": "code",
   "execution_count": 85,
   "metadata": {},
   "outputs": [],
   "source": [
    "pipe_rf1_params = {\n",
    "    'cvec__max_df': [0.9, 0.95],\n",
    "    'cvec__max_features': [2000, 3000, 4000, 5000],\n",
    "    'cvec__min_df': [2, 3],\n",
    "    'cvec__ngram_range': [(1, 1), (1, 2)],\n",
    "    'rf__n_estimators': [100, 150],\n",
    "    'rf__max_depth': [5, 6],    \n",
    "}"
   ]
  },
  {
   "cell_type": "code",
   "execution_count": 86,
   "metadata": {},
   "outputs": [
    {
     "data": {
      "text/plain": [
       "Pipeline(steps=[('cvec',\n",
       "                 CountVectorizer(stop_words=['i', 'me', 'my', 'myself', 'we',\n",
       "                                             'our', 'ours', 'ourselves', 'you',\n",
       "                                             \"you're\", \"you've\", \"you'll\",\n",
       "                                             \"you'd\", 'your', 'yours',\n",
       "                                             'yourself', 'yourselves', 'he',\n",
       "                                             'him', 'his', 'himself', 'she',\n",
       "                                             \"she's\", 'her', 'hers', 'herself',\n",
       "                                             'it', \"it's\", 'its', 'itself', ...])),\n",
       "                ('rf', RandomForestClassifier())])"
      ]
     },
     "execution_count": 86,
     "metadata": {},
     "output_type": "execute_result"
    }
   ],
   "source": [
    "#fit the model\n",
    "pipeline_rf1.fit(X_train, y_train)"
   ]
  },
  {
   "cell_type": "code",
   "execution_count": 87,
   "metadata": {},
   "outputs": [
    {
     "data": {
      "text/plain": [
       "1.0"
      ]
     },
     "execution_count": 87,
     "metadata": {},
     "output_type": "execute_result"
    }
   ],
   "source": [
    "#train score\n",
    "pipeline_rf1.score(X_train, y_train)"
   ]
  },
  {
   "cell_type": "code",
   "execution_count": 88,
   "metadata": {},
   "outputs": [
    {
     "data": {
      "text/plain": [
       "0.9276859504132231"
      ]
     },
     "execution_count": 88,
     "metadata": {},
     "output_type": "execute_result"
    }
   ],
   "source": [
    "#test score\n",
    "pipeline_rf1.score(X_test, y_test)"
   ]
  },
  {
   "cell_type": "markdown",
   "metadata": {},
   "source": [
    "We see that the train score is 100% but the test score is about 92.3%. There is a drop in 7.7% accuracy."
   ]
  },
  {
   "cell_type": "code",
   "execution_count": 89,
   "metadata": {},
   "outputs": [
    {
     "name": "stdout",
     "output_type": "stream",
     "text": [
      "Fitting 5 folds for each of 128 candidates, totalling 640 fits\n"
     ]
    },
    {
     "name": "stderr",
     "output_type": "stream",
     "text": [
      "[Parallel(n_jobs=1)]: Using backend SequentialBackend with 1 concurrent workers.\n",
      "[Parallel(n_jobs=1)]: Done 640 out of 640 | elapsed: 23.1min finished\n"
     ]
    },
    {
     "data": {
      "text/plain": [
       "GridSearchCV(cv=5,\n",
       "             estimator=Pipeline(steps=[('cvec',\n",
       "                                        CountVectorizer(stop_words=['i', 'me',\n",
       "                                                                    'my',\n",
       "                                                                    'myself',\n",
       "                                                                    'we', 'our',\n",
       "                                                                    'ours',\n",
       "                                                                    'ourselves',\n",
       "                                                                    'you',\n",
       "                                                                    \"you're\",\n",
       "                                                                    \"you've\",\n",
       "                                                                    \"you'll\",\n",
       "                                                                    \"you'd\",\n",
       "                                                                    'your',\n",
       "                                                                    'yours',\n",
       "                                                                    'yourself',\n",
       "                                                                    'yourselves',\n",
       "                                                                    'he', 'him',\n",
       "                                                                    'his',\n",
       "                                                                    'himself',\n",
       "                                                                    'she',\n",
       "                                                                    \"she's\",\n",
       "                                                                    'her',\n",
       "                                                                    'hers',\n",
       "                                                                    'herself',\n",
       "                                                                    'it',\n",
       "                                                                    \"it's\",\n",
       "                                                                    'its',\n",
       "                                                                    'itself', ...])),\n",
       "                                       ('rf', RandomForestClassifier())]),\n",
       "             param_grid={'cvec__max_df': [0.9, 0.95],\n",
       "                         'cvec__max_features': [2000, 3000, 4000, 5000],\n",
       "                         'cvec__min_df': [2, 3],\n",
       "                         'cvec__ngram_range': [(1, 1), (1, 2)],\n",
       "                         'rf__max_depth': [5, 6],\n",
       "                         'rf__n_estimators': [100, 150]},\n",
       "             verbose=1)"
      ]
     },
     "execution_count": 89,
     "metadata": {},
     "output_type": "execute_result"
    }
   ],
   "source": [
    "#5 fold gridsearchcv\n",
    "gs_rf1 = GridSearchCV(\n",
    "    pipeline_rf1,\n",
    "    param_grid=pipe_rf1_params,\n",
    "    cv=5,\n",
    "    verbose=1\n",
    ")\n",
    "\n",
    "gs_rf1.fit(X_train, y_train)"
   ]
  },
  {
   "cell_type": "code",
   "execution_count": 90,
   "metadata": {},
   "outputs": [
    {
     "data": {
      "text/plain": [
       "Pipeline(steps=[('cvec',\n",
       "                 CountVectorizer(max_df=0.9, max_features=4000, min_df=3,\n",
       "                                 ngram_range=(1, 2),\n",
       "                                 stop_words=['i', 'me', 'my', 'myself', 'we',\n",
       "                                             'our', 'ours', 'ourselves', 'you',\n",
       "                                             \"you're\", \"you've\", \"you'll\",\n",
       "                                             \"you'd\", 'your', 'yours',\n",
       "                                             'yourself', 'yourselves', 'he',\n",
       "                                             'him', 'his', 'himself', 'she',\n",
       "                                             \"she's\", 'her', 'hers', 'herself',\n",
       "                                             'it', \"it's\", 'its', 'itself', ...])),\n",
       "                ('rf', RandomForestClassifier(max_depth=6))])"
      ]
     },
     "execution_count": 90,
     "metadata": {},
     "output_type": "execute_result"
    }
   ],
   "source": [
    "gs_rf1.best_estimator_"
   ]
  },
  {
   "cell_type": "code",
   "execution_count": 91,
   "metadata": {},
   "outputs": [
    {
     "data": {
      "text/plain": [
       "0.9439759660209261"
      ]
     },
     "execution_count": 91,
     "metadata": {},
     "output_type": "execute_result"
    }
   ],
   "source": [
    "gs_rf1.best_score_"
   ]
  },
  {
   "cell_type": "code",
   "execution_count": 92,
   "metadata": {},
   "outputs": [],
   "source": [
    "gs_rf1_model = gs_rf1.best_estimator_"
   ]
  },
  {
   "cell_type": "code",
   "execution_count": 93,
   "metadata": {},
   "outputs": [
    {
     "data": {
      "text/plain": [
       "0.9857433808553971"
      ]
     },
     "execution_count": 93,
     "metadata": {},
     "output_type": "execute_result"
    }
   ],
   "source": [
    "#train score\n",
    "gs_rf1_model.score(X_train, y_train)"
   ]
  },
  {
   "cell_type": "code",
   "execution_count": 94,
   "metadata": {},
   "outputs": [],
   "source": [
    "rf1_model_train_score = gs_rf1_model.score(X_train, y_train)"
   ]
  },
  {
   "cell_type": "code",
   "execution_count": 95,
   "metadata": {
    "scrolled": true
   },
   "outputs": [
    {
     "data": {
      "text/plain": [
       "0.9235537190082644"
      ]
     },
     "execution_count": 95,
     "metadata": {},
     "output_type": "execute_result"
    }
   ],
   "source": [
    "#test score\n",
    "gs_rf1_model.score(X_test, y_test)"
   ]
  },
  {
   "cell_type": "code",
   "execution_count": 96,
   "metadata": {},
   "outputs": [],
   "source": [
    "rf1_model_test_score = gs_rf1_model.score(X_test, y_test)"
   ]
  },
  {
   "cell_type": "code",
   "execution_count": 97,
   "metadata": {},
   "outputs": [],
   "source": [
    "model_name.append('Random Forest with CountVectorizer')\n",
    "model_train_scores.append(rf1_model_train_score)\n",
    "model_test_scores.append(rf1_model_test_score)\n",
    "model_best_score.append(gs_rf1.best_score_)\n",
    "model_estimators.append(gs_rf1_model)"
   ]
  },
  {
   "cell_type": "markdown",
   "metadata": {},
   "source": [
    "We see that our best estimator for the random forests model with countvectorizer gives us a train accuracy score of about 98.7% and a test accuracy score of about 92.1%. The drop in accuracy is about 6.2%."
   ]
  },
  {
   "cell_type": "markdown",
   "metadata": {},
   "source": [
    "#### 2.41b Getting important features and feature names for random forest model with countvectorizer <a class=\"anchor\" id=\"rf1coef\"></a>"
   ]
  },
  {
   "cell_type": "code",
   "execution_count": 101,
   "metadata": {
    "scrolled": false
   },
   "outputs": [
    {
     "data": {
      "text/html": [
       "<div>\n",
       "<style scoped>\n",
       "    .dataframe tbody tr th:only-of-type {\n",
       "        vertical-align: middle;\n",
       "    }\n",
       "\n",
       "    .dataframe tbody tr th {\n",
       "        vertical-align: top;\n",
       "    }\n",
       "\n",
       "    .dataframe thead th {\n",
       "        text-align: right;\n",
       "    }\n",
       "</style>\n",
       "<table border=\"1\" class=\"dataframe\">\n",
       "  <thead>\n",
       "    <tr style=\"text-align: right;\">\n",
       "      <th></th>\n",
       "      <th>top 20 feature importance scores</th>\n",
       "    </tr>\n",
       "    <tr>\n",
       "      <th>features random forest with cvec</th>\n",
       "      <th></th>\n",
       "    </tr>\n",
       "  </thead>\n",
       "  <tbody>\n",
       "    <tr>\n",
       "      <th>back</th>\n",
       "      <td>0.036638</td>\n",
       "    </tr>\n",
       "    <tr>\n",
       "      <th>something</th>\n",
       "      <td>0.034571</td>\n",
       "    </tr>\n",
       "    <tr>\n",
       "      <th>got</th>\n",
       "      <td>0.028535</td>\n",
       "    </tr>\n",
       "    <tr>\n",
       "      <th>like</th>\n",
       "      <td>0.019300</td>\n",
       "    </tr>\n",
       "    <tr>\n",
       "      <th>heard</th>\n",
       "      <td>0.019225</td>\n",
       "    </tr>\n",
       "    <tr>\n",
       "      <th>thing</th>\n",
       "      <td>0.018717</td>\n",
       "    </tr>\n",
       "    <tr>\n",
       "      <th>look</th>\n",
       "      <td>0.018553</td>\n",
       "    </tr>\n",
       "    <tr>\n",
       "      <th>left</th>\n",
       "      <td>0.017500</td>\n",
       "    </tr>\n",
       "    <tr>\n",
       "      <th>started</th>\n",
       "      <td>0.017486</td>\n",
       "    </tr>\n",
       "    <tr>\n",
       "      <th>away</th>\n",
       "      <td>0.015763</td>\n",
       "    </tr>\n",
       "    <tr>\n",
       "      <th>know</th>\n",
       "      <td>0.015489</td>\n",
       "    </tr>\n",
       "    <tr>\n",
       "      <th>could</th>\n",
       "      <td>0.014748</td>\n",
       "    </tr>\n",
       "    <tr>\n",
       "      <th>see</th>\n",
       "      <td>0.013822</td>\n",
       "    </tr>\n",
       "    <tr>\n",
       "      <th>time</th>\n",
       "      <td>0.013428</td>\n",
       "    </tr>\n",
       "    <tr>\n",
       "      <th>head</th>\n",
       "      <td>0.012480</td>\n",
       "    </tr>\n",
       "    <tr>\n",
       "      <th>saw</th>\n",
       "      <td>0.012300</td>\n",
       "    </tr>\n",
       "    <tr>\n",
       "      <th>door</th>\n",
       "      <td>0.011919</td>\n",
       "    </tr>\n",
       "    <tr>\n",
       "      <th>night</th>\n",
       "      <td>0.011741</td>\n",
       "    </tr>\n",
       "    <tr>\n",
       "      <th>really</th>\n",
       "      <td>0.011570</td>\n",
       "    </tr>\n",
       "    <tr>\n",
       "      <th>tell</th>\n",
       "      <td>0.011418</td>\n",
       "    </tr>\n",
       "  </tbody>\n",
       "</table>\n",
       "</div>"
      ],
      "text/plain": [
       "                                  top 20 feature importance scores\n",
       "features random forest with cvec                                  \n",
       "back                                                      0.036638\n",
       "something                                                 0.034571\n",
       "got                                                       0.028535\n",
       "like                                                      0.019300\n",
       "heard                                                     0.019225\n",
       "thing                                                     0.018717\n",
       "look                                                      0.018553\n",
       "left                                                      0.017500\n",
       "started                                                   0.017486\n",
       "away                                                      0.015763\n",
       "know                                                      0.015489\n",
       "could                                                     0.014748\n",
       "see                                                       0.013822\n",
       "time                                                      0.013428\n",
       "head                                                      0.012480\n",
       "saw                                                       0.012300\n",
       "door                                                      0.011919\n",
       "night                                                     0.011741\n",
       "really                                                    0.011570\n",
       "tell                                                      0.011418"
      ]
     },
     "execution_count": 101,
     "metadata": {},
     "output_type": "execute_result"
    }
   ],
   "source": [
    "#getting feature importance scores and feature names\n",
    "rf1_feature_importances = np.mean([tree.feature_importances_ for tree in gs_rf1_model['rf'].estimators_], axis=0)\n",
    "rf1_count_feature = gs_rf1_model['cvec'].get_feature_names()\n",
    "\n",
    "# creating a dataframe for tokens and importance scores\n",
    "rf1_top_feature = pd.DataFrame({'features random forest with cvec':rf1_count_feature,\n",
    "              'top 20 feature importance scores':(rf1_feature_importances)}).sort_values(by='top 20 feature importance scores', ascending=False).head(20).set_index('features random forest with cvec')\n",
    "rf1_top_feature"
   ]
  },
  {
   "cell_type": "markdown",
   "metadata": {},
   "source": [
    "Features like back, something, look, heard, saw seem to be important, and they also appear when we explore the coefficients and tokens for other models."
   ]
  },
  {
   "cell_type": "markdown",
   "metadata": {},
   "source": [
    "#### 2.42a Random forest model with tfidfvectorizer <a class=\"anchor\" id=\"rf2\"></a>"
   ]
  },
  {
   "cell_type": "code",
   "execution_count": 102,
   "metadata": {},
   "outputs": [],
   "source": [
    "#setting up pipeline\n",
    "pipeline_rf2 = Pipeline([\n",
    "    ('tvec', TfidfVectorizer(stop_words = stopword_list)),\n",
    "    ('rf', RandomForestClassifier())\n",
    "])"
   ]
  },
  {
   "cell_type": "code",
   "execution_count": 103,
   "metadata": {},
   "outputs": [],
   "source": [
    "pipe_rf2_params = {\n",
    "    'tvec__max_df': [0.9, 0.95],\n",
    "    'tvec__max_features': [2000, 3000, 4000, 5000],\n",
    "    'tvec__min_df': [2, 3],\n",
    "    'tvec__ngram_range': [(1, 1), (1, 2)],\n",
    "    'rf__n_estimators': [100, 150],\n",
    "    'rf__max_depth': [5, 6],    \n",
    "}"
   ]
  },
  {
   "cell_type": "code",
   "execution_count": 104,
   "metadata": {},
   "outputs": [
    {
     "data": {
      "text/plain": [
       "Pipeline(steps=[('tvec',\n",
       "                 TfidfVectorizer(stop_words=['i', 'me', 'my', 'myself', 'we',\n",
       "                                             'our', 'ours', 'ourselves', 'you',\n",
       "                                             \"you're\", \"you've\", \"you'll\",\n",
       "                                             \"you'd\", 'your', 'yours',\n",
       "                                             'yourself', 'yourselves', 'he',\n",
       "                                             'him', 'his', 'himself', 'she',\n",
       "                                             \"she's\", 'her', 'hers', 'herself',\n",
       "                                             'it', \"it's\", 'its', 'itself', ...])),\n",
       "                ('rf', RandomForestClassifier())])"
      ]
     },
     "execution_count": 104,
     "metadata": {},
     "output_type": "execute_result"
    }
   ],
   "source": [
    "#fit the model\n",
    "pipeline_rf2.fit(X_train, y_train)"
   ]
  },
  {
   "cell_type": "code",
   "execution_count": 105,
   "metadata": {},
   "outputs": [
    {
     "data": {
      "text/plain": [
       "1.0"
      ]
     },
     "execution_count": 105,
     "metadata": {},
     "output_type": "execute_result"
    }
   ],
   "source": [
    "#train score\n",
    "pipeline_rf2.score(X_train, y_train)"
   ]
  },
  {
   "cell_type": "code",
   "execution_count": 106,
   "metadata": {},
   "outputs": [
    {
     "data": {
      "text/plain": [
       "0.9256198347107438"
      ]
     },
     "execution_count": 106,
     "metadata": {},
     "output_type": "execute_result"
    }
   ],
   "source": [
    "#test score\n",
    "pipeline_rf2.score(X_test, y_test)"
   ]
  },
  {
   "cell_type": "markdown",
   "metadata": {},
   "source": [
    "We see that for this random forest model with tfidfvectorizer, the train accuracy score is 100%, whereas the test accuracy score is about 92.5%. There is a drop of 7.5% in accuracy score."
   ]
  },
  {
   "cell_type": "code",
   "execution_count": 107,
   "metadata": {},
   "outputs": [
    {
     "name": "stdout",
     "output_type": "stream",
     "text": [
      "Fitting 5 folds for each of 128 candidates, totalling 640 fits\n"
     ]
    },
    {
     "name": "stderr",
     "output_type": "stream",
     "text": [
      "[Parallel(n_jobs=1)]: Using backend SequentialBackend with 1 concurrent workers.\n",
      "[Parallel(n_jobs=1)]: Done 640 out of 640 | elapsed: 22.7min finished\n"
     ]
    },
    {
     "data": {
      "text/plain": [
       "GridSearchCV(cv=5,\n",
       "             estimator=Pipeline(steps=[('tvec',\n",
       "                                        TfidfVectorizer(stop_words=['i', 'me',\n",
       "                                                                    'my',\n",
       "                                                                    'myself',\n",
       "                                                                    'we', 'our',\n",
       "                                                                    'ours',\n",
       "                                                                    'ourselves',\n",
       "                                                                    'you',\n",
       "                                                                    \"you're\",\n",
       "                                                                    \"you've\",\n",
       "                                                                    \"you'll\",\n",
       "                                                                    \"you'd\",\n",
       "                                                                    'your',\n",
       "                                                                    'yours',\n",
       "                                                                    'yourself',\n",
       "                                                                    'yourselves',\n",
       "                                                                    'he', 'him',\n",
       "                                                                    'his',\n",
       "                                                                    'himself',\n",
       "                                                                    'she',\n",
       "                                                                    \"she's\",\n",
       "                                                                    'her',\n",
       "                                                                    'hers',\n",
       "                                                                    'herself',\n",
       "                                                                    'it',\n",
       "                                                                    \"it's\",\n",
       "                                                                    'its',\n",
       "                                                                    'itself', ...])),\n",
       "                                       ('rf', RandomForestClassifier())]),\n",
       "             param_grid={'rf__max_depth': [5, 6],\n",
       "                         'rf__n_estimators': [100, 150],\n",
       "                         'tvec__max_df': [0.9, 0.95],\n",
       "                         'tvec__max_features': [2000, 3000, 4000, 5000],\n",
       "                         'tvec__min_df': [2, 3],\n",
       "                         'tvec__ngram_range': [(1, 1), (1, 2)]},\n",
       "             verbose=1)"
      ]
     },
     "execution_count": 107,
     "metadata": {},
     "output_type": "execute_result"
    }
   ],
   "source": [
    "#5 fold gridsearchcv\n",
    "gs_rf2 = GridSearchCV(\n",
    "    pipeline_rf2,\n",
    "    param_grid=pipe_rf2_params,\n",
    "    cv=5,\n",
    "    verbose=1\n",
    ")\n",
    "\n",
    "gs_rf2.fit(X_train, y_train)"
   ]
  },
  {
   "cell_type": "code",
   "execution_count": 108,
   "metadata": {},
   "outputs": [
    {
     "data": {
      "text/plain": [
       "Pipeline(steps=[('tvec',\n",
       "                 TfidfVectorizer(max_df=0.95, max_features=5000, min_df=2,\n",
       "                                 ngram_range=(1, 2),\n",
       "                                 stop_words=['i', 'me', 'my', 'myself', 'we',\n",
       "                                             'our', 'ours', 'ourselves', 'you',\n",
       "                                             \"you're\", \"you've\", \"you'll\",\n",
       "                                             \"you'd\", 'your', 'yours',\n",
       "                                             'yourself', 'yourselves', 'he',\n",
       "                                             'him', 'his', 'himself', 'she',\n",
       "                                             \"she's\", 'her', 'hers', 'herself',\n",
       "                                             'it', \"it's\", 'its', 'itself', ...])),\n",
       "                ('rf', RandomForestClassifier(max_depth=6))])"
      ]
     },
     "execution_count": 108,
     "metadata": {},
     "output_type": "execute_result"
    }
   ],
   "source": [
    "gs_rf2.best_estimator_"
   ]
  },
  {
   "cell_type": "code",
   "execution_count": 109,
   "metadata": {},
   "outputs": [
    {
     "data": {
      "text/plain": [
       "0.9449963741841915"
      ]
     },
     "execution_count": 109,
     "metadata": {},
     "output_type": "execute_result"
    }
   ],
   "source": [
    "gs_rf2.best_score_"
   ]
  },
  {
   "cell_type": "code",
   "execution_count": 110,
   "metadata": {},
   "outputs": [],
   "source": [
    "gs_rf2_model = gs_rf2.best_estimator_"
   ]
  },
  {
   "cell_type": "code",
   "execution_count": 111,
   "metadata": {},
   "outputs": [
    {
     "data": {
      "text/plain": [
       "0.9938900203665988"
      ]
     },
     "execution_count": 111,
     "metadata": {},
     "output_type": "execute_result"
    }
   ],
   "source": [
    "#train score\n",
    "gs_rf2_model.score(X_train, y_train)"
   ]
  },
  {
   "cell_type": "code",
   "execution_count": 112,
   "metadata": {},
   "outputs": [],
   "source": [
    "rf2_model_train_score = gs_rf2_model.score(X_train, y_train)"
   ]
  },
  {
   "cell_type": "code",
   "execution_count": 113,
   "metadata": {},
   "outputs": [
    {
     "data": {
      "text/plain": [
       "0.9173553719008265"
      ]
     },
     "execution_count": 113,
     "metadata": {},
     "output_type": "execute_result"
    }
   ],
   "source": [
    "#test score\n",
    "gs_rf2_model.score(X_test, y_test)"
   ]
  },
  {
   "cell_type": "code",
   "execution_count": 114,
   "metadata": {},
   "outputs": [],
   "source": [
    "rf2_model_test_score = gs_rf2_model.score(X_test, y_test)"
   ]
  },
  {
   "cell_type": "code",
   "execution_count": 115,
   "metadata": {},
   "outputs": [],
   "source": [
    "model_name.append('Random Forest with TfidfVectorizer')\n",
    "model_train_scores.append(rf2_model_train_score)\n",
    "model_test_scores.append(rf2_model_test_score)\n",
    "model_best_score.append(gs_rf2.best_score_)\n",
    "model_estimators.append(gs_rf2_model)"
   ]
  },
  {
   "cell_type": "markdown",
   "metadata": {},
   "source": [
    "We see that our best estimator for the random forests model with countvectorizer gives us a train accuracy score of about 99.3% and a test accuracy score of about 91.7%. The drop in accuracy is about 7.6%."
   ]
  },
  {
   "cell_type": "markdown",
   "metadata": {},
   "source": [
    "#### 2.42b Getting important features and feature names for random forest model with tfidfvectorizer <a class=\"anchor\" id=\"rf2coef\"></a>"
   ]
  },
  {
   "cell_type": "code",
   "execution_count": 119,
   "metadata": {},
   "outputs": [
    {
     "data": {
      "text/html": [
       "<div>\n",
       "<style scoped>\n",
       "    .dataframe tbody tr th:only-of-type {\n",
       "        vertical-align: middle;\n",
       "    }\n",
       "\n",
       "    .dataframe tbody tr th {\n",
       "        vertical-align: top;\n",
       "    }\n",
       "\n",
       "    .dataframe thead th {\n",
       "        text-align: right;\n",
       "    }\n",
       "</style>\n",
       "<table border=\"1\" class=\"dataframe\">\n",
       "  <thead>\n",
       "    <tr style=\"text-align: right;\">\n",
       "      <th></th>\n",
       "      <th>top 20 feature importance scores</th>\n",
       "    </tr>\n",
       "    <tr>\n",
       "      <th>features random forest with tvec</th>\n",
       "      <th></th>\n",
       "    </tr>\n",
       "  </thead>\n",
       "  <tbody>\n",
       "    <tr>\n",
       "      <th>look</th>\n",
       "      <td>0.026181</td>\n",
       "    </tr>\n",
       "    <tr>\n",
       "      <th>looked</th>\n",
       "      <td>0.023411</td>\n",
       "    </tr>\n",
       "    <tr>\n",
       "      <th>behind</th>\n",
       "      <td>0.018949</td>\n",
       "    </tr>\n",
       "    <tr>\n",
       "      <th>get</th>\n",
       "      <td>0.018239</td>\n",
       "    </tr>\n",
       "    <tr>\n",
       "      <th>foot</th>\n",
       "      <td>0.017304</td>\n",
       "    </tr>\n",
       "    <tr>\n",
       "      <th>room</th>\n",
       "      <td>0.014740</td>\n",
       "    </tr>\n",
       "    <tr>\n",
       "      <th>started</th>\n",
       "      <td>0.014636</td>\n",
       "    </tr>\n",
       "    <tr>\n",
       "      <th>little</th>\n",
       "      <td>0.014600</td>\n",
       "    </tr>\n",
       "    <tr>\n",
       "      <th>saw</th>\n",
       "      <td>0.012535</td>\n",
       "    </tr>\n",
       "    <tr>\n",
       "      <th>go</th>\n",
       "      <td>0.012480</td>\n",
       "    </tr>\n",
       "    <tr>\n",
       "      <th>happened</th>\n",
       "      <td>0.012184</td>\n",
       "    </tr>\n",
       "    <tr>\n",
       "      <th>told</th>\n",
       "      <td>0.012169</td>\n",
       "    </tr>\n",
       "    <tr>\n",
       "      <th>got</th>\n",
       "      <td>0.012016</td>\n",
       "    </tr>\n",
       "    <tr>\n",
       "      <th>door</th>\n",
       "      <td>0.010873</td>\n",
       "    </tr>\n",
       "    <tr>\n",
       "      <th>tried</th>\n",
       "      <td>0.010736</td>\n",
       "    </tr>\n",
       "    <tr>\n",
       "      <th>night</th>\n",
       "      <td>0.010082</td>\n",
       "    </tr>\n",
       "    <tr>\n",
       "      <th>turned</th>\n",
       "      <td>0.009980</td>\n",
       "    </tr>\n",
       "    <tr>\n",
       "      <th>away</th>\n",
       "      <td>0.009680</td>\n",
       "    </tr>\n",
       "    <tr>\n",
       "      <th>maybe</th>\n",
       "      <td>0.009411</td>\n",
       "    </tr>\n",
       "    <tr>\n",
       "      <th>went</th>\n",
       "      <td>0.009356</td>\n",
       "    </tr>\n",
       "  </tbody>\n",
       "</table>\n",
       "</div>"
      ],
      "text/plain": [
       "                                  top 20 feature importance scores\n",
       "features random forest with tvec                                  \n",
       "look                                                      0.026181\n",
       "looked                                                    0.023411\n",
       "behind                                                    0.018949\n",
       "get                                                       0.018239\n",
       "foot                                                      0.017304\n",
       "room                                                      0.014740\n",
       "started                                                   0.014636\n",
       "little                                                    0.014600\n",
       "saw                                                       0.012535\n",
       "go                                                        0.012480\n",
       "happened                                                  0.012184\n",
       "told                                                      0.012169\n",
       "got                                                       0.012016\n",
       "door                                                      0.010873\n",
       "tried                                                     0.010736\n",
       "night                                                     0.010082\n",
       "turned                                                    0.009980\n",
       "away                                                      0.009680\n",
       "maybe                                                     0.009411\n",
       "went                                                      0.009356"
      ]
     },
     "execution_count": 119,
     "metadata": {},
     "output_type": "execute_result"
    }
   ],
   "source": [
    "#getting feature importance scores and feature names\n",
    "rf2_feature_importances = np.mean([tree.feature_importances_ for tree in gs_rf2_model['rf'].estimators_], axis=0)\n",
    "rf2_count_feature = gs_rf2_model['tvec'].get_feature_names()\n",
    "\n",
    "# creating a dataframe for tokens and importance scores\n",
    "rf2_top_feature = pd.DataFrame({'features random forest with tvec':rf2_count_feature,\n",
    "              'top 20 feature importance scores':(rf2_feature_importances)}).sort_values(by='top 20 feature importance scores', ascending=False).head(20).set_index('features random forest with tvec')\n",
    "rf2_top_feature"
   ]
  },
  {
   "cell_type": "markdown",
   "metadata": {},
   "source": [
    "Features like look, looked and behind seem to be very important for classification. They also appear in the top 20 coefficients and tokens for other models."
   ]
  },
  {
   "cell_type": "markdown",
   "metadata": {},
   "source": [
    "### 2.5 Model Evaluation <a class=\"anchor\" id=\"eval\"></a>"
   ]
  },
  {
   "cell_type": "markdown",
   "metadata": {},
   "source": [
    "We will proceed to evaluate the models we have fitted, by putting them into a dataframe and sorting them based on deltas, which we define as the difference between the training score and test score. We will also plot roc curve and confusion matrix to visualise the effectiveness of the models and select the best model based on these few metrics: \n",
    "\n",
    "1) best score <br>\n",
    "2) delta <br>\n",
    "3) ROC AUC <br>\n",
    "4) confusion matrix <br>\n",
    "5) precision <br>\n",
    "6) recall <br>"
   ]
  },
  {
   "cell_type": "code",
   "execution_count": 117,
   "metadata": {},
   "outputs": [
    {
     "data": {
      "text/html": [
       "<div>\n",
       "<style scoped>\n",
       "    .dataframe tbody tr th:only-of-type {\n",
       "        vertical-align: middle;\n",
       "    }\n",
       "\n",
       "    .dataframe tbody tr th {\n",
       "        vertical-align: top;\n",
       "    }\n",
       "\n",
       "    .dataframe thead th {\n",
       "        text-align: right;\n",
       "    }\n",
       "</style>\n",
       "<table border=\"1\" class=\"dataframe\">\n",
       "  <thead>\n",
       "    <tr style=\"text-align: right;\">\n",
       "      <th></th>\n",
       "      <th>model</th>\n",
       "      <th>train score</th>\n",
       "      <th>test score</th>\n",
       "      <th>best score</th>\n",
       "      <th>precision</th>\n",
       "      <th>recall</th>\n",
       "      <th>f score</th>\n",
       "      <th>delta</th>\n",
       "    </tr>\n",
       "  </thead>\n",
       "  <tbody>\n",
       "    <tr>\n",
       "      <th>1</th>\n",
       "      <td>Logistic Regression with TfidfVectorizer</td>\n",
       "      <td>0.966395</td>\n",
       "      <td>0.933884</td>\n",
       "      <td>0.939931</td>\n",
       "      <td>0.933934</td>\n",
       "      <td>0.934112</td>\n",
       "      <td>0.933880</td>\n",
       "      <td>0.032511</td>\n",
       "    </tr>\n",
       "    <tr>\n",
       "      <th>0</th>\n",
       "      <td>Logistic Regression with CountVectorizer</td>\n",
       "      <td>1.000000</td>\n",
       "      <td>0.946281</td>\n",
       "      <td>0.960282</td>\n",
       "      <td>0.946734</td>\n",
       "      <td>0.946002</td>\n",
       "      <td>0.946222</td>\n",
       "      <td>0.053719</td>\n",
       "    </tr>\n",
       "    <tr>\n",
       "      <th>3</th>\n",
       "      <td>Naive Bayes with TfidfVectorizer</td>\n",
       "      <td>0.920570</td>\n",
       "      <td>0.863636</td>\n",
       "      <td>0.893101</td>\n",
       "      <td>0.877387</td>\n",
       "      <td>0.865628</td>\n",
       "      <td>0.862791</td>\n",
       "      <td>0.056934</td>\n",
       "    </tr>\n",
       "    <tr>\n",
       "      <th>4</th>\n",
       "      <td>Random Forest with CountVectorizer</td>\n",
       "      <td>0.985743</td>\n",
       "      <td>0.923554</td>\n",
       "      <td>0.943976</td>\n",
       "      <td>0.925137</td>\n",
       "      <td>0.922966</td>\n",
       "      <td>0.923381</td>\n",
       "      <td>0.062190</td>\n",
       "    </tr>\n",
       "    <tr>\n",
       "      <th>2</th>\n",
       "      <td>Naive Bayes with CountVectorizer</td>\n",
       "      <td>0.938900</td>\n",
       "      <td>0.871901</td>\n",
       "      <td>0.895136</td>\n",
       "      <td>0.879451</td>\n",
       "      <td>0.873384</td>\n",
       "      <td>0.871530</td>\n",
       "      <td>0.066999</td>\n",
       "    </tr>\n",
       "    <tr>\n",
       "      <th>5</th>\n",
       "      <td>Random Forest with TfidfVectorizer</td>\n",
       "      <td>0.993890</td>\n",
       "      <td>0.917355</td>\n",
       "      <td>0.944996</td>\n",
       "      <td>0.917549</td>\n",
       "      <td>0.917149</td>\n",
       "      <td>0.917286</td>\n",
       "      <td>0.076535</td>\n",
       "    </tr>\n",
       "  </tbody>\n",
       "</table>\n",
       "</div>"
      ],
      "text/plain": [
       "                                      model  train score  test score  \\\n",
       "1  Logistic Regression with TfidfVectorizer     0.966395    0.933884   \n",
       "0  Logistic Regression with CountVectorizer     1.000000    0.946281   \n",
       "3          Naive Bayes with TfidfVectorizer     0.920570    0.863636   \n",
       "4        Random Forest with CountVectorizer     0.985743    0.923554   \n",
       "2          Naive Bayes with CountVectorizer     0.938900    0.871901   \n",
       "5        Random Forest with TfidfVectorizer     0.993890    0.917355   \n",
       "\n",
       "   best score  precision    recall   f score     delta  \n",
       "1    0.939931   0.933934  0.934112  0.933880  0.032511  \n",
       "0    0.960282   0.946734  0.946002  0.946222  0.053719  \n",
       "3    0.893101   0.877387  0.865628  0.862791  0.056934  \n",
       "4    0.943976   0.925137  0.922966  0.923381  0.062190  \n",
       "2    0.895136   0.879451  0.873384  0.871530  0.066999  \n",
       "5    0.944996   0.917549  0.917149  0.917286  0.076535  "
      ]
     },
     "execution_count": 117,
     "metadata": {},
     "output_type": "execute_result"
    }
   ],
   "source": [
    "precision_list = []\n",
    "recall_list = []\n",
    "fscore_list = []\n",
    "\n",
    "\n",
    "for model in model_estimators:\n",
    "    y_preds = model.predict(X_test)\n",
    "    precision, recall, fscore, support = precision_recall_fscore_support(y_test, y_preds, average='macro')\n",
    "    precision_list.append(precision)\n",
    "    recall_list.append(recall)\n",
    "    fscore_list.append(fscore)\n",
    "\n",
    "model_eval = pd.DataFrame({\n",
    "    'model': model_name,\n",
    "    'train score': model_train_scores,\n",
    "    'test score': model_test_scores,\n",
    "    'best score': model_best_score,\n",
    "    'precision': precision_list,\n",
    "    'recall': recall_list,\n",
    "    'f score': fscore_list\n",
    "})\n",
    "\n",
    "#computing delta to look at drop in accuracy score between train and test\n",
    "model_eval['delta'] = model_eval['train score'] - model_eval['test score']\n",
    "\n",
    "model_eval.sort_values(by='delta')"
   ]
  },
  {
   "cell_type": "markdown",
   "metadata": {},
   "source": [
    "#### 2.51 ROC curve <a class=\"anchor\" id=\"roc\"></a>"
   ]
  },
  {
   "cell_type": "code",
   "execution_count": 118,
   "metadata": {
    "scrolled": false
   },
   "outputs": [
    {
     "data": {
      "image/png": "[encoded data removed]",
      "text/plain": [
       "<Figure size 1152x432 with 1 Axes>"
      ]
     },
     "metadata": {
      "needs_background": "light"
     },
     "output_type": "display_data"
    }
   ],
   "source": [
    "plt.figure(figsize=(16,6))\n",
    "ax = plt.gca()\n",
    "for model, name in zip(model_estimators, model_name):\n",
    "    plot_roc_curve(model, X_test, y_test, name=name, ax=ax)\n",
    "\n",
    "plt.title('ROC curves of models');"
   ]
  },
  {
   "cell_type": "markdown",
   "metadata": {},
   "source": [
    "#### 2.52 Confusion matrix <a class=\"anchor\" id=\"cm\"></a>"
   ]
  },
  {
   "cell_type": "code",
   "execution_count": 123,
   "metadata": {},
   "outputs": [
    {
     "data": {
      "image/png": "[encoded data removed]",
      "text/plain": [
       "<Figure size 1080x576 with 12 Axes>"
      ]
     },
     "metadata": {
      "needs_background": "light"
     },
     "output_type": "display_data"
    }
   ],
   "source": [
    "nrows = int(np.ceil(len(model_estimators) / 3))\n",
    "fig, ax = plt.subplots(nrows=nrows, ncols=3, figsize=(15, nrows * 4))\n",
    "ax = ax.ravel()\n",
    "\n",
    "for i, model in enumerate(model_estimators):\n",
    "    plot_confusion_matrix(model, \n",
    "                          X_test, \n",
    "                          y_test, \n",
    "                          ax=ax[i], \n",
    "                          cmap='Blues')\n",
    "    ax[i].set_title(model_name[i])\n",
    "\n",
    "plt.tight_layout()"
   ]
  },
  {
   "cell_type": "markdown",
   "metadata": {},
   "source": [
    "From sklearn documentation, we know that:\n",
    "\n",
    "Precision is the ratio tp/(tp + fp) where tp is the number of true positives and fp the number of false positives. The precision is intuitively the ability of the classifier not to label as positive a sample that is negative.\n",
    "\n",
    "Recall is the ratio tp / (tp + fn) where tp is the number of true positives and fn the number of false negatives. The recall is intuitively the ability of the classifier to find all the positive samples.\n",
    "\n",
    "The F-beta score can be interpreted as a weighted harmonic mean of the precision and recall, where an F-beta score reaches its best value at 1 and worst score at 0.\n",
    "\n",
    "The ROC curve or the receiver operating characteristic curve is a plot of the false positive rate (x-axis) versus the true positive rate (y-axis) for a number of different candidate threshold values between 0.0 and 1.0. The area under the curve (AUC) can be used as a summary of the model effectiveness in distinguishing between classes. \n",
    "\n",
    "\n",
    "For this model evaluation, we consider the following metrics:\n",
    "1) Best score: This is the cross validated accuracy score we obtained using GridSearchCV. A good model would be one with a score closer to 1.0. <br> \n",
    "2) Delta: The difference between train vs test score. A good model would be one with the lowest delta as it means less overfitting comparatively. <br>\n",
    "3) ROC AUC: A good model will have an AUC approaching 1. This means that it can distinguish reasonably well between the positive and negative classes (1 and 0).  <br>\n",
    "4) Confusion Matrix: A good model will be one with the least false positives and false negatives. <br>\n",
    "5) Precision: A high precision score means that our model is able to correctly classify more positives than negatives. <br>\n",
    "6) Recall: A high recall score means that our model can correctly identify a high proportion of true positives. <br>\n"
   ]
  },
  {
   "cell_type": "markdown",
   "metadata": {},
   "source": [
    "Taking the above metrics into consideration, we will be selecting the **Logistic Regression model with TfidfVectoriser**. Although it might not have the highest best score, it has the lowest delta, and the second highest precision, recall and auc scores."
   ]
  },
  {
   "cell_type": "markdown",
   "metadata": {},
   "source": [
    "### 2.6 Final Model Analysis <a class=\"anchor\" id=\"final\"></a>"
   ]
  },
  {
   "cell_type": "markdown",
   "metadata": {},
   "source": [
    "We will now proceed to further analyse the best model we selected by analyzing misclassified posts. "
   ]
  },
  {
   "cell_type": "markdown",
   "metadata": {},
   "source": [
    "#### 2.61 Recap of coefficients and features for best model <a class=\"anchor\" id=\"recap\"></a>"
   ]
  },
  {
   "cell_type": "markdown",
   "metadata": {},
   "source": [
    "We note that certain tokens influence our classifications. \n",
    "\n",
    "Our best model attempts to classify r/shortscifistories (class 0) using words related to planets and galaxies, such as earth, planet, world, universe, space. Words related to technology such as ai, system, robot are also prominent features for shortscifistories.\n",
    "\n",
    "Our best model attempts to classify r/nosleep (class 1) using words related to senses such as look, looked, eye. Word related to houses, such as house, room, door and time of the day, such as night are also prominent features for nosleep."
   ]
  },
  {
   "cell_type": "code",
   "execution_count": 134,
   "metadata": {
    "scrolled": false
   },
   "outputs": [
    {
     "data": {
      "image/png": "[encoded data removed]",
      "text/plain": [
       "<Figure size 1152x432 with 1 Axes>"
      ]
     },
     "metadata": {
      "needs_background": "light"
     },
     "output_type": "display_data"
    }
   ],
   "source": [
    "tokens_lr2.sort_values(by='coefficient').head(20).plot(kind='barh',figsize=(16,6))\n",
    "plt.gca().invert_xaxis()\n",
    "plt.gca().invert_yaxis()\n",
    "plt.title('top 20 features for r/shortscifistories');"
   ]
  },
  {
   "cell_type": "code",
   "execution_count": 136,
   "metadata": {},
   "outputs": [
    {
     "data": {
      "image/png": "[encoded data removed]",
      "text/plain": [
       "<Figure size 1152x432 with 1 Axes>"
      ]
     },
     "metadata": {
      "needs_background": "light"
     },
     "output_type": "display_data"
    }
   ],
   "source": [
    "tokens_lr2.sort_values(by='coefficient').tail(20).plot(kind='barh',figsize=(16,6))\n",
    "plt.title('top 20 features for r/nosleep');"
   ]
  },
  {
   "cell_type": "markdown",
   "metadata": {},
   "source": [
    "#### 2.6.2 Misclassified posts (false negatives and false positives) <a class=\"anchor\" id=\"misclass\"></a>"
   ]
  },
  {
   "cell_type": "markdown",
   "metadata": {},
   "source": [
    "We will now deep dive into misclassified posts, and do an analysis on why certain posts could be wrongly misclassified."
   ]
  },
  {
   "cell_type": "code",
   "execution_count": 139,
   "metadata": {},
   "outputs": [],
   "source": [
    "y_preds = gs_lr2_model.predict(X_test)\n",
    "tn, fp, fn, tp = confusion_matrix(y_test, y_preds).ravel()"
   ]
  },
  {
   "cell_type": "code",
   "execution_count": 142,
   "metadata": {},
   "outputs": [
    {
     "name": "stdout",
     "output_type": "stream",
     "text": [
      "There are 32 misclassified posts out of 484. There are 19 false positives and 13 false negatives.\n"
     ]
    }
   ],
   "source": [
    "print(f'There are {(fp + fn)} misclassified posts out of {y_test.shape[0]}. There are {fp} false positives and {fn} false negatives.')"
   ]
  },
  {
   "cell_type": "code",
   "execution_count": 144,
   "metadata": {},
   "outputs": [
    {
     "data": {
      "text/html": [
       "<div>\n",
       "<style scoped>\n",
       "    .dataframe tbody tr th:only-of-type {\n",
       "        vertical-align: middle;\n",
       "    }\n",
       "\n",
       "    .dataframe tbody tr th {\n",
       "        vertical-align: top;\n",
       "    }\n",
       "\n",
       "    .dataframe thead th {\n",
       "        text-align: right;\n",
       "    }\n",
       "</style>\n",
       "<table border=\"1\" class=\"dataframe\">\n",
       "  <thead>\n",
       "    <tr style=\"text-align: right;\">\n",
       "      <th></th>\n",
       "      <th>ground truth</th>\n",
       "      <th>predictions</th>\n",
       "    </tr>\n",
       "  </thead>\n",
       "  <tbody>\n",
       "    <tr>\n",
       "      <th>252</th>\n",
       "      <td>1</td>\n",
       "      <td>1</td>\n",
       "    </tr>\n",
       "    <tr>\n",
       "      <th>862</th>\n",
       "      <td>0</td>\n",
       "      <td>0</td>\n",
       "    </tr>\n",
       "    <tr>\n",
       "      <th>132</th>\n",
       "      <td>1</td>\n",
       "      <td>1</td>\n",
       "    </tr>\n",
       "    <tr>\n",
       "      <th>94</th>\n",
       "      <td>1</td>\n",
       "      <td>1</td>\n",
       "    </tr>\n",
       "    <tr>\n",
       "      <th>333</th>\n",
       "      <td>1</td>\n",
       "      <td>1</td>\n",
       "    </tr>\n",
       "  </tbody>\n",
       "</table>\n",
       "</div>"
      ],
      "text/plain": [
       "     ground truth  predictions\n",
       "252             1            1\n",
       "862             0            0\n",
       "132             1            1\n",
       "94              1            1\n",
       "333             1            1"
      ]
     },
     "execution_count": 144,
     "metadata": {},
     "output_type": "execute_result"
    }
   ],
   "source": [
    "# Creating a dataframe for y_test and y_preds so we can look at misclassified posts\n",
    "\n",
    "final_df = pd.DataFrame({\n",
    "    'ground truth': y_test,\n",
    "    'predictions': y_preds\n",
    "})\n",
    "\n",
    "final_df.head()"
   ]
  },
  {
   "cell_type": "code",
   "execution_count": 153,
   "metadata": {},
   "outputs": [
    {
     "data": {
      "text/html": [
       "<div>\n",
       "<style scoped>\n",
       "    .dataframe tbody tr th:only-of-type {\n",
       "        vertical-align: middle;\n",
       "    }\n",
       "\n",
       "    .dataframe tbody tr th {\n",
       "        vertical-align: top;\n",
       "    }\n",
       "\n",
       "    .dataframe thead th {\n",
       "        text-align: right;\n",
       "    }\n",
       "</style>\n",
       "<table border=\"1\" class=\"dataframe\">\n",
       "  <thead>\n",
       "    <tr style=\"text-align: right;\">\n",
       "      <th></th>\n",
       "      <th>ground truth</th>\n",
       "      <th>predictions</th>\n",
       "    </tr>\n",
       "  </thead>\n",
       "  <tbody>\n",
       "    <tr>\n",
       "      <th>831</th>\n",
       "      <td>0</td>\n",
       "      <td>1</td>\n",
       "    </tr>\n",
       "    <tr>\n",
       "      <th>1287</th>\n",
       "      <td>0</td>\n",
       "      <td>1</td>\n",
       "    </tr>\n",
       "    <tr>\n",
       "      <th>1285</th>\n",
       "      <td>0</td>\n",
       "      <td>1</td>\n",
       "    </tr>\n",
       "    <tr>\n",
       "      <th>1454</th>\n",
       "      <td>0</td>\n",
       "      <td>1</td>\n",
       "    </tr>\n",
       "    <tr>\n",
       "      <th>989</th>\n",
       "      <td>0</td>\n",
       "      <td>1</td>\n",
       "    </tr>\n",
       "  </tbody>\n",
       "</table>\n",
       "</div>"
      ],
      "text/plain": [
       "      ground truth  predictions\n",
       "831              0            1\n",
       "1287             0            1\n",
       "1285             0            1\n",
       "1454             0            1\n",
       "989              0            1"
      ]
     },
     "execution_count": 153,
     "metadata": {},
     "output_type": "execute_result"
    }
   ],
   "source": [
    "misclassified = final_df[final_df['ground truth'] != final_df['predictions']]\n",
    "misclassified.head()"
   ]
  },
  {
   "cell_type": "code",
   "execution_count": 155,
   "metadata": {},
   "outputs": [
    {
     "data": {
      "text/plain": [
       "'drip drop part see powerless lost home devoured spare pain embrace darkness gonna lie considering half body fire half invaded poisonous chill idea attractive lid eye slowly descend muscle relax resigned fate make peace end force eye open bully suffering limb raising foot stand sway cannot keep much longer see shining salvation beam bright gold light shine right side room light half face beam feel warmth righteousness cold creeping driven mad anguish pain focus see emitted ornate spear hovering rotating slowly stone floor warm antidote creature cool posison reach use put end monster calculate around metre away reach creature focussed least one piece look floor see battered canteen weathered hide strap ripped buckle spread across floor like tired tadpole grab canteen thrust air left arm scream protest bone grate lightning spark pain pulse arm canteen serf purpose eye peel away zone new enemy take chance force battered body limbing jog golden spear whole frame shake step every footfall come surety next last must keep going eternity spear nearly grasp reach broken hand towards warm glow hush pain cry index finger brush smooth perfect gold fill determination win win left leg ripped feel familiar prickle thorn deathly cold invades vein time know reversing cancerous spread creature lift hold centimetre away pulsing blue orb look moment seeming feast fear hopelessness dark maw open greeted imperfect row yellowing teeth thrust smell rotting noxious interior beast begin meal feel slice fire rip string flesh bone grind cannot swallow say goodbye done quest failed game really shit pissboot jake threw weathered game controller floor digust disappeared mountain clothes fuck sake always last sprint get stupid tentacle swipe need health potion man tom turned head look friend one eyebrow cocked dude fuck health potion never gonna reach spear red herring need new approach jake snorted golden spear final weapon cumsock else supposed beat hentai fucker last time checked schoolgirl occupy tentacle tom turn snort added chuckle boot kiss mother mouth shook head nah man told trapdoor eye need go slam sword hilt stone get use anti gravs rip kraken apart jake rolled eye yeah yeah know little theory care cousin said get anti gravs medieval fantasy game plus try kraken head tom gave knowing look sometimes gotta take leap faith trust friend mon frere either let boy two teenager looked moment fear freezing face rewound half hour mind see done anything wrong jake tentatively answered yeah mum hope going let tom keep staying going sleep time jake eye widened snatched look watch holy shit right heard jake sighed called downstairs sorry mum tom unimpressed fine man orchard like minute away think sleep time co house wall painted semen tom chuckled grabbed bag made door shut pissboot two boy left room headed downstairs forgetting turn console mr dean definitely would approved screen jake high score flashed white letter writhing green mass game final bos stared kraken roared sickly cry crushed metal noone particular crackling tv modest speaker like ghost whispering megaphone able speak without laughed superstitious weirdo might said room changed drastically much slightly colder part series calling drip drop part linked part soon part http www reddit com r comment ww utm medium android app amp utm source share thank reading story'"
      ]
     },
     "execution_count": 155,
     "metadata": {},
     "output_type": "execute_result"
    }
   ],
   "source": [
    "#extracting a text that was wrongly misclassified as Class1 (nosleep), but was actually Class0 (shortscifistories)\n",
    "X_test.loc[831]"
   ]
  },
  {
   "cell_type": "code",
   "execution_count": 159,
   "metadata": {},
   "outputs": [
    {
     "data": {
      "text/plain": [
       "{'said': 1,\n",
       " 'house': 1,\n",
       " 'looked': 1,\n",
       " 'like': 1,\n",
       " 'know': 1,\n",
       " 'door': 1,\n",
       " 'get': 1,\n",
       " 'car': 1,\n",
       " 'eye': 1,\n",
       " 'room': 1,\n",
       " 'friend': 1,\n",
       " 'look': 1,\n",
       " 'go': 1}"
      ]
     },
     "execution_count": 159,
     "metadata": {},
     "output_type": "execute_result"
    }
   ],
   "source": [
    "# counting token matches for top 20 class1 features within the text above \n",
    "\n",
    "class_1_words = ['said', 'back', 'house', 'looked', 'like', 'know', 'night', 'door', 'something', 'get',\n",
    "                 'started', 'car', 'eye', 'room', 'friend', 'went', 'could', 'look', 'even', 'go']\n",
    "token_count = {}\n",
    "\n",
    "for token in class_1_words:\n",
    "    if token in X_test.loc[831]:\n",
    "        token_count[token] = class_1_words.count(token)\n",
    "\n",
    "token_count"
   ]
  },
  {
   "cell_type": "code",
   "execution_count": 160,
   "metadata": {},
   "outputs": [
    {
     "data": {
      "text/plain": [
       "{'ai': 1}"
      ]
     },
     "execution_count": 160,
     "metadata": {},
     "output_type": "execute_result"
    }
   ],
   "source": [
    "# counting token matches for top 20 class0 features within the text above\n",
    "\n",
    "class_0_words = ['earth', 'planet', 'ai', 'world', 'ship', 'artifact', 'system', 'universe',\n",
    "                 'human', 'robot', 'scientist', 'alien', 'daryl', 'sir', 'humanity', 'joe', \n",
    "                 'susan', 'captain', 'smith', 'space']\n",
    "\n",
    "token_count_2 = {}\n",
    "\n",
    "for token in class_0_words:\n",
    "    if token in X_test.loc[831]:\n",
    "        token_count_2[token] = class_0_words.count(token)\n",
    "\n",
    "token_count_2"
   ]
  },
  {
   "cell_type": "markdown",
   "metadata": {},
   "source": [
    "Using post 831 as an example, we see why our model mistakenly classified it as class 1 (r/nosleep) instead of class 0 (r/shortscifistories). This is because tokens strongly related to class 1 appear more frequently in the text than tokens strongly related to class 0.\n",
    "\n",
    "Post 831 happens to be part 2 of a 3 part series on short scifi stories titled Drip Drop, and this episode of the trilogy described in detail our protagonist's fight with a monster. This is likely why we observe the phenomenon mentioned above, where there are lesser words related to planets and technology."
   ]
  },
  {
   "cell_type": "markdown",
   "metadata": {},
   "source": [
    "### 2.7 Conclusion <a class=\"anchor\" id=\"conclu\"></a>\n",
    "\n",
    "Horror and scifi do have some similiarities but are different genres in their own right. Certain sets of words define the respective genres and set them apart from each other. Some of the words that define the scifi genre are words related to technology, the galaxy and planets, e.g. ai, system, robot, earth etc.The words that define horror genres seem to be related to either the senses, e.g. seeing or hearing something, or to home related words like room, house, and door.\n",
    "\n",
    "We also note that our best model, after considering all 6 metrics of best score, delta, ROC AUC, confusion matrix, precision and recall, was the Logistic Regression model with the TfidfVectorizer. Our model's best score was about 93.99%, which performed better than baseline. Out of the test data of 484 posts, our model misclassified 32 posts (19 false positives and 13 false negatives). We also took a step further to analyse the tokens for a false positive post, and found that the misclassification occurred because tokens from the positive class (class 1: r/nosleep) occurred more frequently than tokens from the negative class (class 0: r/shortscifistories).\n",
    "\n",
    "\n",
    "If we had subreddit dedicated to full length scifi stories like nosleep, we could have come up with a better classifier as there could be more tokens that could further distinguish the 2 genres."
   ]
  }
 ],
 "metadata": {
  "kernelspec": {
   "display_name": "Python 3",
   "language": "python",
   "name": "python3"
  },
  "language_info": {
   "codemirror_mode": {
    "name": "ipython",
    "version": 3
   },
   "file_extension": ".py",
   "mimetype": "text/x-python",
   "name": "python",
   "nbconvert_exporter": "python",
   "pygments_lexer": "ipython3",
   "version": "3.8.5"
  }
 },
 "nbformat": 4,
 "nbformat_minor": 4
}
